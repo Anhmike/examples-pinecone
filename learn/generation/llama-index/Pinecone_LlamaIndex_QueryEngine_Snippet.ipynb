{
 "cells": [
  {
   "cell_type": "markdown",
   "id": "f07dfd68-ca90-4bd7-bac1-1d65e926755e",
   "metadata": {},
   "source": [
    "# How To Issue Natural Language Queries To An Existine Pinecone Index via LlamaIndex\n",
    "\n",
    "This past weekend, I had the privilege of giving a talk & judging the finalists at [AGI House](https://agihouse.ai/)'s [Build / Break / Test](https://partiful.com/e/QKjcXJOCb2IHiuAVX9L6) hackathon.\n",
    "\n",
    "Throughtout the hackathon, multiple engineers came up to me asking for a concise way of querying an existing Pinecone index, especially one that was [namespace-ed](https://docs.pinecone.io/docs/namespaces). While it's not currently possible to use [LlamaIndex's popular `as_query_engine()` method](https://gpt-index.readthedocs.io/en/latest/core_modules/query_modules/query_engine/root.html) to query an existing Pinecone index with namespaces, there is still a beautiful way to get the job done."
   ]
  },
  {
   "cell_type": "code",
   "execution_count": 1,
   "id": "12feefab-1140-4483-b6cf-f904ec08420c",
   "metadata": {},
   "outputs": [],
   "source": [
    "# Make sure you have the libraries below installed\n",
    "\n",
    "import os\n",
    "\n",
    "from llama_index import VectorStoreIndex\n",
    "from llama_index import ServiceContext, OpenAIEmbedding\n",
    "from llama_index.indices.vector_store import VectorIndexRetriever\n",
    "from llama_index.llms import OpenAI\n",
    "from llama_index.query_engine import RetrieverQueryEngine\n",
    "from llama_index.vector_stores import PineconeVectorStore"
   ]
  },
  {
   "cell_type": "code",
   "execution_count": 2,
   "id": "ed19a6fe-a090-4d8e-934b-2c5468ff3130",
   "metadata": {},
   "outputs": [],
   "source": [
    "# You'll need to set your Pinecone and OpenAI environment variables.\n",
    "# You can find your Pinecone API key and environment name in the UI at app.pinecone.io, once you've made an account.\n",
    "\n",
    "os.environ['PINECONE_ENVIRONMENT'] = ''\n",
    "os.environ['PINECONE_API_KEY'] = ''\n",
    "os.environ['OPENAI_API_KEY'] = ''"
   ]
  },
  {
   "cell_type": "code",
   "execution_count": 3,
   "id": "7919b833-e842-4305-b9e0-e7cf366d0ab0",
   "metadata": {},
   "outputs": [
    {
     "name": "stderr",
     "output_type": "stream",
     "text": [
      "/Library/Frameworks/Python.framework/Versions/3.11/lib/python3.11/site-packages/pinecone/index.py:4: TqdmWarning: IProgress not found. Please update jupyter and ipywidgets. See https://ipywidgets.readthedocs.io/en/stable/user_install.html\n",
      "  from tqdm.autonotebook import tqdm\n"
     ]
    }
   ],
   "source": [
    "# Initialize your Pinecone vector store\n",
    "\n",
    "vector_store = PineconeVectorStore(api_key=os.getenv('PINECONE_API_KEY'),\n",
    "                                   environment=os.getenv('PINECONE_ENVIRONMENT'),\n",
    "                                   index_name='namespaces-demo',\n",
    "                                   namespace=\"en\",\n",
    "                                   text_key='text_content')"
   ]
  },
  {
   "cell_type": "code",
   "execution_count": null,
   "id": "5d87abfd-f130-41ca-b535-763966499c05",
   "metadata": {},
   "outputs": [],
   "source": [
    "# Build your Service Context object\n",
    "\n",
    "llm = OpenAI(model='ada', api_key=os.getenv('OPENAI_API_KEY'))\n",
    "embed_model = OpenAIEmbedding(api_key=os.getenv('OPENAI_API_KEY'))\n",
    "\n",
    "service_context = ServiceContext.from_defaults(\n",
    "    llm=llm,\n",
    "    embed_model=embed_model\n",
    ")"
   ]
  },
  {
   "cell_type": "code",
   "execution_count": null,
   "id": "b5f60462-cb4a-47fa-97d2-965bfb0ee3c2",
   "metadata": {},
   "outputs": [],
   "source": [
    "# Build your Index object\n",
    "\n",
    "index = VectorStoreIndex.from_vector_store(vector_store=vector_store, service_context=service_context)\n"
   ]
  },
  {
   "cell_type": "code",
   "execution_count": null,
   "id": "2f6369b6-f4e0-435b-ae47-f387bd46516a",
   "metadata": {},
   "outputs": [],
   "source": [
    "# Build your Retriever object\n",
    "\n",
    "vector_index_retriever = VectorIndexRetriever(index)\n"
   ]
  },
  {
   "cell_type": "code",
   "execution_count": null,
   "id": "57f6269f-4e98-4991-8329-e9d848261c3a",
   "metadata": {},
   "outputs": [],
   "source": [
    "# Build your Query Engine (this is where you might use the `as_query_engine()` method in other use cases)\n",
    "\n",
    "query_engine = RetrieverQueryEngine(vector_index_retriever)\n",
    "    "
   ]
  },
  {
   "cell_type": "code",
   "execution_count": null,
   "id": "6247fa7e-ce5b-49d1-b43b-ca9b5b2e159b",
   "metadata": {},
   "outputs": [],
   "source": [
    "# Query your engine!\n",
    "\n",
    "response = query_engine.query(\"What is a dog?\")\n"
   ]
  },
  {
   "cell_type": "code",
   "execution_count": null,
   "id": "ff3710d3-fe03-44f4-a491-d8b65dd81f09",
   "metadata": {},
   "outputs": [],
   "source": []
  },
  {
   "cell_type": "code",
   "execution_count": null,
   "id": "f6a10513-7a6a-47e9-97d1-f0f3fc02b22c",
   "metadata": {},
   "outputs": [],
   "source": []
  },
  {
   "cell_type": "code",
   "execution_count": null,
   "id": "a65f66fb-761e-4392-b5b5-eb1c1d562dba",
   "metadata": {},
   "outputs": [],
   "source": []
  },
  {
   "cell_type": "code",
   "execution_count": null,
   "id": "b813c20e-feea-4a2f-836c-72c50c5a6acf",
   "metadata": {},
   "outputs": [],
   "source": []
  },
  {
   "cell_type": "code",
   "execution_count": null,
   "id": "4d7cf086-35ce-4866-9bc6-b07733449807",
   "metadata": {},
   "outputs": [],
   "source": []
  }
 ],
 "metadata": {
  "kernelspec": {
   "display_name": "Python 3 (ipykernel)",
   "language": "python",
   "name": "python3"
  },
  "language_info": {
   "codemirror_mode": {
    "name": "ipython",
    "version": 3
   },
   "file_extension": ".py",
   "mimetype": "text/x-python",
   "name": "python",
   "nbconvert_exporter": "python",
   "pygments_lexer": "ipython3",
   "version": "3.11.5"
  }
 },
 "nbformat": 4,
 "nbformat_minor": 5
}
