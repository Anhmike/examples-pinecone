{
  "nbformat": 4,
  "nbformat_minor": 0,
  "metadata": {
    "colab": {
      "provenance": [],
      "gpuType": "T4"
    },
    "kernelspec": {
      "name": "python3",
      "display_name": "Python 3"
    },
    "language_info": {
      "name": "python"
    },
    "accelerator": "GPU"
  },
  "cells": [
    {
      "cell_type": "markdown",
      "source": [
        "# LangGraph Agents"
      ],
      "metadata": {
        "id": "_PFp0JhOWCU5"
      }
    },
    {
      "cell_type": "markdown",
      "source": [
        "LangGraph is a special LangChain-built library that focuses on building intelligent AI Agents using graphs. Ie, agentic state machines."
      ],
      "metadata": {
        "id": "EckNKuhXWHEJ"
      }
    },
    {
      "cell_type": "markdown",
      "source": [
        "We need these prerequisite libraries to run a graph visualization library (`pygraphviz`). We will use this library during this notebook to understand the structure of our graphs _but_ it is not required to use `langgraph`."
      ],
      "metadata": {
        "id": "X3hzHJ4NoLYD"
      }
    },
    {
      "cell_type": "code",
      "source": [
        "!apt-get install graphviz libgraphviz-dev pkg-config"
      ],
      "metadata": {
        "colab": {
          "base_uri": "https://localhost:8080/"
        },
        "id": "TCVLlfNyAtxD",
        "outputId": "4e8a6942-4d6d-4ad7-9350-badeb8ada1ff"
      },
      "execution_count": 1,
      "outputs": [
        {
          "output_type": "stream",
          "name": "stdout",
          "text": [
            "Reading package lists... Done\n",
            "Building dependency tree... Done\n",
            "Reading state information... Done\n",
            "pkg-config is already the newest version (0.29.2-1ubuntu3).\n",
            "graphviz is already the newest version (2.42.2-6).\n",
            "The following additional packages will be installed:\n",
            "  libgail-common libgail18 libgtk2.0-0 libgtk2.0-bin libgtk2.0-common libgvc6-plugins-gtk\n",
            "  librsvg2-common libxdot4\n",
            "Suggested packages:\n",
            "  gvfs\n",
            "The following NEW packages will be installed:\n",
            "  libgail-common libgail18 libgraphviz-dev libgtk2.0-0 libgtk2.0-bin libgtk2.0-common\n",
            "  libgvc6-plugins-gtk librsvg2-common libxdot4\n",
            "0 upgraded, 9 newly installed, 0 to remove and 45 not upgraded.\n",
            "Need to get 2,433 kB of archives.\n",
            "After this operation, 7,694 kB of additional disk space will be used.\n",
            "Get:1 http://archive.ubuntu.com/ubuntu jammy/main amd64 libgtk2.0-common all 2.24.33-2ubuntu2 [125 kB]\n",
            "Get:2 http://archive.ubuntu.com/ubuntu jammy/main amd64 libgtk2.0-0 amd64 2.24.33-2ubuntu2 [2,037 kB]\n",
            "Get:3 http://archive.ubuntu.com/ubuntu jammy/main amd64 libgail18 amd64 2.24.33-2ubuntu2 [15.9 kB]\n",
            "Get:4 http://archive.ubuntu.com/ubuntu jammy/main amd64 libgail-common amd64 2.24.33-2ubuntu2 [132 kB]\n",
            "Get:5 http://archive.ubuntu.com/ubuntu jammy/universe amd64 libxdot4 amd64 2.42.2-6 [16.4 kB]\n",
            "Get:6 http://archive.ubuntu.com/ubuntu jammy/universe amd64 libgvc6-plugins-gtk amd64 2.42.2-6 [22.6 kB]\n",
            "Get:7 http://archive.ubuntu.com/ubuntu jammy/universe amd64 libgraphviz-dev amd64 2.42.2-6 [58.5 kB]\n",
            "Get:8 http://archive.ubuntu.com/ubuntu jammy/main amd64 libgtk2.0-bin amd64 2.24.33-2ubuntu2 [7,932 B]\n",
            "Get:9 http://archive.ubuntu.com/ubuntu jammy-updates/main amd64 librsvg2-common amd64 2.52.5+dfsg-3ubuntu0.2 [17.7 kB]\n",
            "Fetched 2,433 kB in 0s (5,021 kB/s)\n",
            "Selecting previously unselected package libgtk2.0-common.\n",
            "(Reading database ... 121752 files and directories currently installed.)\n",
            "Preparing to unpack .../0-libgtk2.0-common_2.24.33-2ubuntu2_all.deb ...\n",
            "Unpacking libgtk2.0-common (2.24.33-2ubuntu2) ...\n",
            "Selecting previously unselected package libgtk2.0-0:amd64.\n",
            "Preparing to unpack .../1-libgtk2.0-0_2.24.33-2ubuntu2_amd64.deb ...\n",
            "Unpacking libgtk2.0-0:amd64 (2.24.33-2ubuntu2) ...\n",
            "Selecting previously unselected package libgail18:amd64.\n",
            "Preparing to unpack .../2-libgail18_2.24.33-2ubuntu2_amd64.deb ...\n",
            "Unpacking libgail18:amd64 (2.24.33-2ubuntu2) ...\n",
            "Selecting previously unselected package libgail-common:amd64.\n",
            "Preparing to unpack .../3-libgail-common_2.24.33-2ubuntu2_amd64.deb ...\n",
            "Unpacking libgail-common:amd64 (2.24.33-2ubuntu2) ...\n",
            "Selecting previously unselected package libxdot4:amd64.\n",
            "Preparing to unpack .../4-libxdot4_2.42.2-6_amd64.deb ...\n",
            "Unpacking libxdot4:amd64 (2.42.2-6) ...\n",
            "Selecting previously unselected package libgvc6-plugins-gtk.\n",
            "Preparing to unpack .../5-libgvc6-plugins-gtk_2.42.2-6_amd64.deb ...\n",
            "Unpacking libgvc6-plugins-gtk (2.42.2-6) ...\n",
            "Selecting previously unselected package libgraphviz-dev:amd64.\n",
            "Preparing to unpack .../6-libgraphviz-dev_2.42.2-6_amd64.deb ...\n",
            "Unpacking libgraphviz-dev:amd64 (2.42.2-6) ...\n",
            "Selecting previously unselected package libgtk2.0-bin.\n",
            "Preparing to unpack .../7-libgtk2.0-bin_2.24.33-2ubuntu2_amd64.deb ...\n",
            "Unpacking libgtk2.0-bin (2.24.33-2ubuntu2) ...\n",
            "Selecting previously unselected package librsvg2-common:amd64.\n",
            "Preparing to unpack .../8-librsvg2-common_2.52.5+dfsg-3ubuntu0.2_amd64.deb ...\n",
            "Unpacking librsvg2-common:amd64 (2.52.5+dfsg-3ubuntu0.2) ...\n",
            "Setting up libxdot4:amd64 (2.42.2-6) ...\n",
            "Setting up librsvg2-common:amd64 (2.52.5+dfsg-3ubuntu0.2) ...\n",
            "Setting up libgtk2.0-common (2.24.33-2ubuntu2) ...\n",
            "Setting up libgtk2.0-0:amd64 (2.24.33-2ubuntu2) ...\n",
            "Setting up libgvc6-plugins-gtk (2.42.2-6) ...\n",
            "Setting up libgail18:amd64 (2.24.33-2ubuntu2) ...\n",
            "Setting up libgtk2.0-bin (2.24.33-2ubuntu2) ...\n",
            "Setting up libgail-common:amd64 (2.24.33-2ubuntu2) ...\n",
            "Setting up libgraphviz-dev:amd64 (2.42.2-6) ...\n",
            "Processing triggers for libc-bin (2.35-0ubuntu3.4) ...\n",
            "/sbin/ldconfig.real: /usr/local/lib/libtbb.so.12 is not a symbolic link\n",
            "\n",
            "/sbin/ldconfig.real: /usr/local/lib/libtbbmalloc_proxy.so.2 is not a symbolic link\n",
            "\n",
            "/sbin/ldconfig.real: /usr/local/lib/libtbbmalloc.so.2 is not a symbolic link\n",
            "\n",
            "/sbin/ldconfig.real: /usr/local/lib/libtbbbind.so.3 is not a symbolic link\n",
            "\n",
            "/sbin/ldconfig.real: /usr/local/lib/libtbbbind_2_5.so.3 is not a symbolic link\n",
            "\n",
            "/sbin/ldconfig.real: /usr/local/lib/libtbbbind_2_0.so.3 is not a symbolic link\n",
            "\n",
            "Processing triggers for man-db (2.10.2-1) ...\n",
            "Processing triggers for libgdk-pixbuf-2.0-0:amd64 (2.42.8+dfsg-1ubuntu0.2) ...\n"
          ]
        }
      ]
    },
    {
      "cell_type": "markdown",
      "source": [
        "Now we install Python libraries:"
      ],
      "metadata": {
        "id": "IbR8rt-EtqWh"
      }
    },
    {
      "cell_type": "code",
      "execution_count": 2,
      "metadata": {
        "id": "FUt2EoJZu6M3",
        "colab": {
          "base_uri": "https://localhost:8080/"
        },
        "outputId": "934bdfad-6f16-4622-bd75-8859e626eed2"
      },
      "outputs": [
        {
          "output_type": "stream",
          "name": "stdout",
          "text": [
            "\u001b[2K     \u001b[90m━━━━━━━━━━━━━━━━━━━━━━━━━━━━━━━━━━━━━━━━\u001b[0m \u001b[32m817.7/817.7 kB\u001b[0m \u001b[31m6.7 MB/s\u001b[0m eta \u001b[36m0:00:00\u001b[0m\n",
            "\u001b[2K     \u001b[90m━━━━━━━━━━━━━━━━━━━━━━━━━━━━━━━━━━━━━━━━\u001b[0m \u001b[32m287.5/287.5 kB\u001b[0m \u001b[31m32.8 MB/s\u001b[0m eta \u001b[36m0:00:00\u001b[0m\n",
            "\u001b[2K     \u001b[90m━━━━━━━━━━━━━━━━━━━━━━━━━━━━━━━━━━━━━━━━\u001b[0m \u001b[32m56.8/56.8 kB\u001b[0m \u001b[31m7.6 MB/s\u001b[0m eta \u001b[36m0:00:00\u001b[0m\n",
            "\u001b[2K     \u001b[90m━━━━━━━━━━━━━━━━━━━━━━━━━━━━━━━━━━━━━━━━\u001b[0m \u001b[32m104.9/104.9 kB\u001b[0m \u001b[31m14.2 MB/s\u001b[0m eta \u001b[36m0:00:00\u001b[0m\n",
            "\u001b[?25h  Installing build dependencies ... \u001b[?25l\u001b[?25hdone\n",
            "  Getting requirements to build wheel ... \u001b[?25l\u001b[?25hdone\n",
            "  Installing backend dependencies ... \u001b[?25l\u001b[?25hdone\n",
            "  Preparing metadata (pyproject.toml) ... \u001b[?25l\u001b[?25hdone\n",
            "\u001b[2K     \u001b[90m━━━━━━━━━━━━━━━━━━━━━━━━━━━━━━━━━━━━━━━━\u001b[0m \u001b[32m215.9/215.9 kB\u001b[0m \u001b[31m25.4 MB/s\u001b[0m eta \u001b[36m0:00:00\u001b[0m\n",
            "\u001b[2K     \u001b[90m━━━━━━━━━━━━━━━━━━━━━━━━━━━━━━━━━━━━━━━━\u001b[0m \u001b[32m292.8/292.8 kB\u001b[0m \u001b[31m33.7 MB/s\u001b[0m eta \u001b[36m0:00:00\u001b[0m\n",
            "\u001b[2K     \u001b[90m━━━━━━━━━━━━━━━━━━━━━━━━━━━━━━━━━━━━━━━━\u001b[0m \u001b[32m1.8/1.8 MB\u001b[0m \u001b[31m32.3 MB/s\u001b[0m eta \u001b[36m0:00:00\u001b[0m\n",
            "\u001b[2K     \u001b[90m━━━━━━━━━━━━━━━━━━━━━━━━━━━━━━━━━━━━━━━━\u001b[0m \u001b[32m1.9/1.9 MB\u001b[0m \u001b[31m86.5 MB/s\u001b[0m eta \u001b[36m0:00:00\u001b[0m\n",
            "\u001b[2K     \u001b[90m━━━━━━━━━━━━━━━━━━━━━━━━━━━━━━━━━━━━━━━━\u001b[0m \u001b[32m113.7/113.7 kB\u001b[0m \u001b[31m15.5 MB/s\u001b[0m eta \u001b[36m0:00:00\u001b[0m\n",
            "\u001b[2K     \u001b[90m━━━━━━━━━━━━━━━━━━━━━━━━━━━━━━━━━━━━━━━━\u001b[0m \u001b[32m53.0/53.0 kB\u001b[0m \u001b[31m6.9 MB/s\u001b[0m eta \u001b[36m0:00:00\u001b[0m\n",
            "\u001b[2K     \u001b[90m━━━━━━━━━━━━━━━━━━━━━━━━━━━━━━━━━━━━━━━━\u001b[0m \u001b[32m49.4/49.4 kB\u001b[0m \u001b[31m6.1 MB/s\u001b[0m eta \u001b[36m0:00:00\u001b[0m\n",
            "\u001b[2K     \u001b[90m━━━━━━━━━━━━━━━━━━━━━━━━━━━━━━━━━━━━━━━━\u001b[0m \u001b[32m1.9/1.9 MB\u001b[0m \u001b[31m67.8 MB/s\u001b[0m eta \u001b[36m0:00:00\u001b[0m\n",
            "\u001b[2K     \u001b[90m━━━━━━━━━━━━━━━━━━━━━━━━━━━━━━━━━━━━━━━━\u001b[0m \u001b[32m141.1/141.1 kB\u001b[0m \u001b[31m6.9 MB/s\u001b[0m eta \u001b[36m0:00:00\u001b[0m\n",
            "\u001b[2K     \u001b[90m━━━━━━━━━━━━━━━━━━━━━━━━━━━━━━━━━━━━━━━━\u001b[0m \u001b[32m75.6/75.6 kB\u001b[0m \u001b[31m10.4 MB/s\u001b[0m eta \u001b[36m0:00:00\u001b[0m\n",
            "\u001b[2K     \u001b[90m━━━━━━━━━━━━━━━━━━━━━━━━━━━━━━━━━━━━━━━━\u001b[0m \u001b[32m77.9/77.9 kB\u001b[0m \u001b[31m10.7 MB/s\u001b[0m eta \u001b[36m0:00:00\u001b[0m\n",
            "\u001b[2K     \u001b[90m━━━━━━━━━━━━━━━━━━━━━━━━━━━━━━━━━━━━━━━━\u001b[0m \u001b[32m58.3/58.3 kB\u001b[0m \u001b[31m7.7 MB/s\u001b[0m eta \u001b[36m0:00:00\u001b[0m\n",
            "\u001b[?25h  Building wheel for pygraphviz (pyproject.toml) ... \u001b[?25l\u001b[?25hdone\n"
          ]
        }
      ],
      "source": [
        "!pip install -qU \\\n",
        "    langchain-pinecone==0.1.0 \\\n",
        "    langchain-openai==0.1.3 \\\n",
        "    langchain==0.1.16 \\\n",
        "    langchain-core==0.1.42 \\\n",
        "    langgraph==0.0.37 \\\n",
        "    langchainhub==0.1.15 \\\n",
        "    pygraphviz==1.12  # for visualizing"
      ]
    },
    {
      "cell_type": "markdown",
      "source": [
        "## Setup Knowledge Base"
      ],
      "metadata": {
        "id": "vovHYoM-AdbU"
      }
    },
    {
      "cell_type": "markdown",
      "source": [
        "We'll be running our agent against a knowledge base — which requires a Pinecone index to be built.\n",
        "\n",
        "You can, if needed, skip this step and replace the `search` tool with a placeholder value if wanting to quickly test the structure of a RAG agent _without_ the RAG.\n",
        "\n",
        "If you want full functionality here, you do need to run this section — but we'll make it quick."
      ],
      "metadata": {
        "id": "YEtKvy4_AgLy"
      }
    },
    {
      "cell_type": "markdown",
      "source": [
        "### Download a Dataset"
      ],
      "metadata": {
        "id": "ohBxmFyTBFT0"
      }
    },
    {
      "cell_type": "markdown",
      "source": [
        "The first thing we need for an agent using RAG is somewhere we want to pull knowledge from. We will use v2 of the AI ArXiv dataset, available on Hugging Face Datasets at [`jamescalam/ai-arxiv2-chunks`](https://huggingface.co/datasets/jamescalam/ai-arxiv2-chunks).\n",
        "\n",
        "Note: we're using the prechunked dataset. For the raw version see [`jamescalam/ai-arxiv2`](https://huggingface.co/datasets/jamescalam/ai-arxiv2)."
      ],
      "metadata": {
        "id": "g1ufvA8hBKHx"
      }
    },
    {
      "cell_type": "code",
      "source": [],
      "metadata": {
        "id": "ehcjNQ49BBuI"
      },
      "execution_count": null,
      "outputs": []
    },
    {
      "cell_type": "markdown",
      "source": [
        "## Graph State\n",
        "\n",
        "We will define a custom graph state to support our agent-oriented decision making."
      ],
      "metadata": {
        "id": "hITmdwQ7Qns0"
      }
    },
    {
      "cell_type": "code",
      "source": [
        "from typing import TypedDict, Annotated, List, Union\n",
        "from langchain_core.agents import AgentAction, AgentFinish\n",
        "from langchain_core.messages import BaseMessage\n",
        "import operator\n",
        "\n",
        "\n",
        "class AgentState(TypedDict):\n",
        "    input: str\n",
        "    chat_history: list[BaseMessage]\n",
        "    agent_out: Union[AgentAction, AgentFinish, None]\n",
        "    intermediate_steps: Annotated[list[tuple[AgentAction, str]], operator.add]"
      ],
      "metadata": {
        "id": "x7Fj9KNjQvUq"
      },
      "execution_count": null,
      "outputs": []
    },
    {
      "cell_type": "markdown",
      "source": [
        "## Custom Tools\n",
        "\n",
        "We will define two tools for this agent, a `search` tool and a `final_answer` tool — which is our structured output."
      ],
      "metadata": {
        "id": "zlVbgX39Rhxj"
      }
    },
    {
      "cell_type": "code",
      "source": [
        "from langchain_core.tools import tool\n",
        "\n",
        "@tool(\"search\", return_direct=True)\n",
        "def search_tool(query: str):\n",
        "    \"\"\"Finds information using a natural language query.\"\"\"\n",
        "    print(\"hit search tool\")\n",
        "    return \"Dogs are better than cats\"\n",
        "\n",
        "@tool(\"final_answer\", return_direct=True)\n",
        "def final_answer_tool(\n",
        "    answer: str,\n",
        "    source: str\n",
        "):\n",
        "    \"\"\"Returns a natural language response to the user in `answer`,\n",
        "    and a `source` which provides a short\n",
        "    summary of any information used to provide this answer.\n",
        "    \"\"\"\n",
        "    print(\"hit structured_output tool\")\n",
        "    return \"\""
      ],
      "metadata": {
        "id": "SPcrbQfdRrda"
      },
      "execution_count": null,
      "outputs": []
    },
    {
      "cell_type": "code",
      "source": [
        "final_answer_tool"
      ],
      "metadata": {
        "colab": {
          "base_uri": "https://localhost:8080/"
        },
        "id": "iAbQ4Tuz0qET",
        "outputId": "73433b69-147e-4f42-fc7b-db186e806d09"
      },
      "execution_count": null,
      "outputs": [
        {
          "output_type": "execute_result",
          "data": {
            "text/plain": [
              "StructuredTool(name='final_answer', description='final_answer(answer: str, source: str) - Returns a natural language response to the user in `answer`,\\n    and a `source` which provides a short\\n    summary of any information used to provide this answer.', args_schema=<class 'pydantic.v1.main.final_answerSchema'>, return_direct=True, func=<function final_answer_tool at 0x78c6d1d55240>)"
            ]
          },
          "metadata": {},
          "execution_count": 5
        }
      ]
    },
    {
      "cell_type": "markdown",
      "source": [
        "## Initialize Agent"
      ],
      "metadata": {
        "id": "E8OsQ3tIS-_t"
      }
    },
    {
      "cell_type": "code",
      "source": [
        "from langchain.agents import create_openai_tools_agent\n",
        "from langchain import hub\n",
        "from langchain_openai import ChatOpenAI\n",
        "\n",
        "llm = ChatOpenAI(\n",
        "    openai_api_key=\"sk-...\",\n",
        "    temperature=0,\n",
        "    streaming=True\n",
        ")\n",
        "\n",
        "prompt = hub.pull(\"hwchase17/openai-functions-agent\")\n",
        "\n",
        "oracle_agent_runnable = create_openai_tools_agent(\n",
        "    llm=llm,\n",
        "    tools=[final_answer_tool, search_tool],\n",
        "    prompt=prompt\n",
        ")"
      ],
      "metadata": {
        "id": "0gKxRe4tTBHX"
      },
      "execution_count": null,
      "outputs": []
    },
    {
      "cell_type": "markdown",
      "source": [
        "Test the agent quickly to confirm it is functional:"
      ],
      "metadata": {
        "id": "ESCSupKbTuVR"
      }
    },
    {
      "cell_type": "code",
      "source": [
        "inputs = {\n",
        "    \"input\": \"tell me something interesting about dogs\",\n",
        "    \"chat_history\": [],\n",
        "    \"intermediate_steps\": []\n",
        "}\n",
        "agent_out = oracle_agent_runnable.invoke(inputs)\n",
        "agent_out"
      ],
      "metadata": {
        "colab": {
          "base_uri": "https://localhost:8080/"
        },
        "id": "p5xMQ8ajTxFQ",
        "outputId": "1527c213-0ed4-4e0b-9416-800a202d1630"
      },
      "execution_count": null,
      "outputs": [
        {
          "output_type": "execute_result",
          "data": {
            "text/plain": [
              "[ToolAgentAction(tool='search', tool_input={'query': 'interesting facts about dogs'}, log=\"\\nInvoking: `search` with `{'query': 'interesting facts about dogs'}`\\n\\n\\n\", message_log=[AIMessage(content='', additional_kwargs={'tool_calls': [{'index': 0, 'id': 'call_6iDz57J34lzCGsApb6rDwgbu', 'function': {'arguments': '{\"query\":\"interesting facts about dogs\"}', 'name': 'search'}, 'type': 'function'}]}, response_metadata={'finish_reason': 'tool_calls'}, id='run-c5b02231-b72f-427f-9a12-20fbae8d80fb-0', tool_calls=[{'name': 'search', 'args': {'query': 'interesting facts about dogs'}, 'id': 'call_6iDz57J34lzCGsApb6rDwgbu'}])], tool_call_id='call_6iDz57J34lzCGsApb6rDwgbu')]"
            ]
          },
          "metadata": {},
          "execution_count": 7
        }
      ]
    },
    {
      "cell_type": "code",
      "source": [
        "agent_out[-1].message_log[-1].additional_kwargs[\"tool_calls\"][-1]"
      ],
      "metadata": {
        "colab": {
          "base_uri": "https://localhost:8080/"
        },
        "id": "u7wUMr2BUBt7",
        "outputId": "f543b540-3264-4c33-9551-57176b89f737"
      },
      "execution_count": null,
      "outputs": [
        {
          "output_type": "execute_result",
          "data": {
            "text/plain": [
              "{'index': 0,\n",
              " 'id': 'call_6iDz57J34lzCGsApb6rDwgbu',\n",
              " 'function': {'arguments': '{\"query\":\"interesting facts about dogs\"}',\n",
              "  'name': 'search'},\n",
              " 'type': 'function'}"
            ]
          },
          "metadata": {},
          "execution_count": 8
        }
      ]
    },
    {
      "cell_type": "markdown",
      "source": [
        "We would use this information to route our state to either the `search` or `final_answer` nodes of our graph."
      ],
      "metadata": {
        "id": "bHEeL8ADZQuq"
      }
    },
    {
      "cell_type": "markdown",
      "source": [
        "## Define Nodes for Graph"
      ],
      "metadata": {
        "id": "h6pAxC9kcY1F"
      }
    },
    {
      "cell_type": "code",
      "source": [
        "from langchain_core.agents import AgentFinish\n",
        "import json\n",
        "\n",
        "def run_oracle(state: list):\n",
        "    print(\"run_oracle\")\n",
        "    agent_out = oracle_agent_runnable.invoke(state)\n",
        "    return {\"agent_out\": agent_out}\n",
        "\n",
        "def execute_search(state: list):\n",
        "    print(\"execute_search\")\n",
        "    action = state[\"agent_out\"]\n",
        "    tool_call = action[-1].message_log[-1].additional_kwargs[\"tool_calls\"][-1]\n",
        "    out = search_tool.invoke(\n",
        "        json.loads(tool_call[\"function\"][\"arguments\"])\n",
        "    )\n",
        "    return {\"intermediate_steps\": [{\"search\": str(out)}]}\n",
        "\n",
        "def router(state: list):  # ASHRAQ\n",
        "    if isinstance(state[\"agent_out\"], list):\n",
        "        return state[\"agent_out\"][-1].tool\n",
        "    else:\n",
        "        return \"error\"\n",
        "\n",
        "# finally, we will have a single LLM call that MUST use structured output\n",
        "final_answer_llm = llm.bind_tools([final_answer_tool], tool_choice=\"final_answer\")\n",
        "\n",
        "def final_answer(state: list):\n",
        "    print(\"final_answer\")\n",
        "    query = state[\"input\"]\n",
        "    context = state[\"intermediate_steps\"][-1]\n",
        "\n",
        "    prompt = f\"\"\"You are a helpful assistant, answer the user's question using the\n",
        "    context provided.\n",
        "\n",
        "    CONTEXT: {context}\n",
        "\n",
        "    QUESTION: {query}\n",
        "    \"\"\"\n",
        "    out = final_answer_llm.invoke(prompt)\n",
        "    function_call = out.additional_kwargs[\"tool_calls\"][-1][\"function\"][\"arguments\"]\n",
        "    return {\"agent_out\": function_call}\n",
        "\n",
        "def handle_error(state: list):   # ASHRAQ\n",
        "    print(\"handle_error\")\n",
        "    query = state[\"input\"]\n",
        "    prompt = f\"\"\"You are a helpful assistant, answer the user's question.\n",
        "\n",
        "    QUESTION: {query}\n",
        "    \"\"\"\n",
        "    out = final_answer_llm.invoke(prompt)\n",
        "    function_call = out.additional_kwargs[\"tool_calls\"][-1][\"function\"][\"arguments\"]\n",
        "    return {\"agent_out\": function_call}"
      ],
      "metadata": {
        "id": "-JGJGvDVcbvq"
      },
      "execution_count": null,
      "outputs": []
    },
    {
      "cell_type": "markdown",
      "source": [
        "## Define Graph"
      ],
      "metadata": {
        "id": "zwv4EsTKeZzh"
      }
    },
    {
      "cell_type": "code",
      "source": [
        "from langgraph.graph import StateGraph, END\n",
        "\n",
        "graph = StateGraph(AgentState)\n",
        "\n",
        "graph.add_node(\"oracle\", run_oracle)\n",
        "graph.add_node(\"search\", execute_search)\n",
        "graph.add_node(\"error\", handle_error)  # ASHRAQ\n",
        "graph.add_node(\"final_answer_aggregator\", final_answer)\n",
        "\n",
        "graph.set_entry_point(\"oracle\")\n",
        "\n",
        "graph.add_conditional_edges(\n",
        "    start_key=\"oracle\",  # where in graph to start\n",
        "    condition=router,  # function to determine which node is called\n",
        "    conditional_edge_mapping={\n",
        "        \"search\": \"search\",\n",
        "        \"error\": \"error\",  # ASHRAQ\n",
        "        \"final_answer\": END\n",
        "    }\n",
        ")\n",
        "graph.add_edge(\"search\", \"final_answer_aggregator\")\n",
        "graph.add_edge(\"error\", END)  # ASHRAQ\n",
        "graph.add_edge(\"final_answer_aggregator\", END)\n",
        "\n",
        "runnable = graph.compile()"
      ],
      "metadata": {
        "id": "LAkcBE5pebXv"
      },
      "execution_count": null,
      "outputs": []
    },
    {
      "cell_type": "code",
      "source": [
        "from langchain_core.messages import HumanMessage\n",
        "\n",
        "runnable = graph.compile()\n",
        "\n",
        "out = runnable.invoke({\n",
        "    \"input\": \"tell me something interesting about dogs\",\n",
        "    \"chat_history\": []\n",
        "})"
      ],
      "metadata": {
        "colab": {
          "base_uri": "https://localhost:8080/"
        },
        "id": "5DuDCW775wkC",
        "outputId": "662f215a-2eac-4c33-8351-1d76d069f263"
      },
      "execution_count": null,
      "outputs": [
        {
          "output_type": "stream",
          "name": "stdout",
          "text": [
            "run_oracle\n",
            "run_oracle: [ToolAgentAction(tool='search', tool_input={'query': 'interesting facts about dogs'}, log=\"\\nInvoking: `search` with `{'query': 'interesting facts about dogs'}`\\n\\n\\n\", message_log=[AIMessage(content='', additional_kwargs={'tool_calls': [{'index': 0, 'id': 'call_pQsdynLNSRYDPbZ0sFUTODr0', 'function': {'arguments': '{\"query\":\"interesting facts about dogs\"}', 'name': 'search'}, 'type': 'function'}]}, response_metadata={'finish_reason': 'tool_calls'}, id='run-28820060-d59f-4e0c-830d-beba0c8fcf3f-0', tool_calls=[{'name': 'search', 'args': {'query': 'interesting facts about dogs'}, 'id': 'call_pQsdynLNSRYDPbZ0sFUTODr0'}])], tool_call_id='call_pQsdynLNSRYDPbZ0sFUTODr0')]\n",
            "execute_search\n",
            "hit search tool\n",
            "final_answer\n"
          ]
        }
      ]
    },
    {
      "cell_type": "code",
      "source": [
        "print(out[\"agent_out\"])"
      ],
      "metadata": {
        "colab": {
          "base_uri": "https://localhost:8080/"
        },
        "id": "xjbPRhk8dhfs",
        "outputId": "aa340cd4-d446-4c26-d6e8-86b6b9378dc0"
      },
      "execution_count": null,
      "outputs": [
        {
          "output_type": "stream",
          "name": "stdout",
          "text": [
            "{\"answer\":\"Dogs have an incredible sense of smell and can detect certain diseases in humans, such as cancer and diabetes, through their keen sense of smell.\",\"source\":\"Dogs are better than cats\"}\n"
          ]
        }
      ]
    },
    {
      "cell_type": "code",
      "source": [
        "out = runnable.invoke({\n",
        "    \"input\": \"hi\",\n",
        "    \"chat_history\": []\n",
        "})"
      ],
      "metadata": {
        "colab": {
          "base_uri": "https://localhost:8080/"
        },
        "id": "a21f9VneePw_",
        "outputId": "806f7de4-4a45-4379-fde7-3d13d7a8a198"
      },
      "execution_count": null,
      "outputs": [
        {
          "output_type": "stream",
          "name": "stdout",
          "text": [
            "run_oracle\n",
            "run_oracle: return_values={'output': 'Hello! How can I assist you today?'} log='Hello! How can I assist you today?'\n",
            "handle_error\n"
          ]
        }
      ]
    },
    {
      "cell_type": "code",
      "source": [
        "print(out[\"agent_out\"])"
      ],
      "metadata": {
        "colab": {
          "base_uri": "https://localhost:8080/"
        },
        "id": "W3Xuh__OfzH0",
        "outputId": "65d19f14-d5f4-4806-ff08-f954ebbb06dd"
      },
      "execution_count": null,
      "outputs": [
        {
          "output_type": "stream",
          "name": "stdout",
          "text": [
            "{\"answer\":\"Hello! How can I assist you today?\",\"source\":\"User greeted the assistant\"}\n"
          ]
        }
      ]
    },
    {
      "cell_type": "code",
      "source": [
        "from IPython.display import Image\n",
        "\n",
        "Image(runnable.get_graph().draw_png())"
      ],
      "metadata": {
        "colab": {
          "base_uri": "https://localhost:8080/",
          "height": 865
        },
        "id": "EmwkoQkthb__",
        "outputId": "a771ef2a-eb2e-4130-8c76-58ff26aa28f9"
      },
      "execution_count": null,
      "outputs": [
        {
          "output_type": "execute_result",
          "data": {
            "image/png": "[encoded data removed]",
            "text/plain": [
              "<IPython.core.display.Image object>"
            ]
          },
          "metadata": {},
          "execution_count": 33
        }
      ]
    }
  ]
}