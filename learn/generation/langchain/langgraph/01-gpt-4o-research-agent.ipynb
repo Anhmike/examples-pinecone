{
  "nbformat": 4,
  "nbformat_minor": 0,
  "metadata": {
    "colab": {
      "provenance": []
    },
    "kernelspec": {
      "name": "python3",
      "display_name": "Python 3"
    },
    "language_info": {
      "name": "python"
    },
    "widgets": {
      "application/vnd.jupyter.widget-state+json": {
        "b43fbbe5dd7c462387eabb539b0b91bc": {
          "model_module": "@jupyter-widgets/controls",
          "model_name": "HBoxModel",
          "model_module_version": "1.5.0",
          "state": {
            "_dom_classes": [],
            "_model_module": "@jupyter-widgets/controls",
            "_model_module_version": "1.5.0",
            "_model_name": "HBoxModel",
            "_view_count": null,
            "_view_module": "@jupyter-widgets/controls",
            "_view_module_version": "1.5.0",
            "_view_name": "HBoxView",
            "box_style": "",
            "children": [
              "IPY_MODEL_fa5f039d9f754155afadc5ffef84b2fd",
              "IPY_MODEL_c389c07a10044dbf9d4c88f4bdfdf3e9",
              "IPY_MODEL_926ff8e304034efdbe28878d81435e91"
            ],
            "layout": "IPY_MODEL_c904100a7d5a4091a28b4eada3320b15"
          }
        },
        "fa5f039d9f754155afadc5ffef84b2fd": {
          "model_module": "@jupyter-widgets/controls",
          "model_name": "HTMLModel",
          "model_module_version": "1.5.0",
          "state": {
            "_dom_classes": [],
            "_model_module": "@jupyter-widgets/controls",
            "_model_module_version": "1.5.0",
            "_model_name": "HTMLModel",
            "_view_count": null,
            "_view_module": "@jupyter-widgets/controls",
            "_view_module_version": "1.5.0",
            "_view_name": "HTMLView",
            "description": "",
            "description_tooltip": null,
            "layout": "IPY_MODEL_8c8b38749cf04448944450e74544cacc",
            "placeholder": "​",
            "style": "IPY_MODEL_71c753c84ec8468f812cc9cbda216f66",
            "value": "100%"
          }
        },
        "c389c07a10044dbf9d4c88f4bdfdf3e9": {
          "model_module": "@jupyter-widgets/controls",
          "model_name": "FloatProgressModel",
          "model_module_version": "1.5.0",
          "state": {
            "_dom_classes": [],
            "_model_module": "@jupyter-widgets/controls",
            "_model_module_version": "1.5.0",
            "_model_name": "FloatProgressModel",
            "_view_count": null,
            "_view_module": "@jupyter-widgets/controls",
            "_view_module_version": "1.5.0",
            "_view_name": "ProgressView",
            "bar_style": "success",
            "description": "",
            "description_tooltip": null,
            "layout": "IPY_MODEL_63ea850c4294486090746eadcea7a759",
            "max": 79,
            "min": 0,
            "orientation": "horizontal",
            "style": "IPY_MODEL_06e6d5be948d47a3914ebab26ec30339",
            "value": 79
          }
        },
        "926ff8e304034efdbe28878d81435e91": {
          "model_module": "@jupyter-widgets/controls",
          "model_name": "HTMLModel",
          "model_module_version": "1.5.0",
          "state": {
            "_dom_classes": [],
            "_model_module": "@jupyter-widgets/controls",
            "_model_module_version": "1.5.0",
            "_model_name": "HTMLModel",
            "_view_count": null,
            "_view_module": "@jupyter-widgets/controls",
            "_view_module_version": "1.5.0",
            "_view_name": "HTMLView",
            "description": "",
            "description_tooltip": null,
            "layout": "IPY_MODEL_c9f8f1f65652476a87062e4b76877167",
            "placeholder": "​",
            "style": "IPY_MODEL_b4b8aca9f09c4746857ff402a89c4085",
            "value": " 79/79 [05:58&lt;00:00,  3.83s/it]"
          }
        },
        "c904100a7d5a4091a28b4eada3320b15": {
          "model_module": "@jupyter-widgets/base",
          "model_name": "LayoutModel",
          "model_module_version": "1.2.0",
          "state": {
            "_model_module": "@jupyter-widgets/base",
            "_model_module_version": "1.2.0",
            "_model_name": "LayoutModel",
            "_view_count": null,
            "_view_module": "@jupyter-widgets/base",
            "_view_module_version": "1.2.0",
            "_view_name": "LayoutView",
            "align_content": null,
            "align_items": null,
            "align_self": null,
            "border": null,
            "bottom": null,
            "display": null,
            "flex": null,
            "flex_flow": null,
            "grid_area": null,
            "grid_auto_columns": null,
            "grid_auto_flow": null,
            "grid_auto_rows": null,
            "grid_column": null,
            "grid_gap": null,
            "grid_row": null,
            "grid_template_areas": null,
            "grid_template_columns": null,
            "grid_template_rows": null,
            "height": null,
            "justify_content": null,
            "justify_items": null,
            "left": null,
            "margin": null,
            "max_height": null,
            "max_width": null,
            "min_height": null,
            "min_width": null,
            "object_fit": null,
            "object_position": null,
            "order": null,
            "overflow": null,
            "overflow_x": null,
            "overflow_y": null,
            "padding": null,
            "right": null,
            "top": null,
            "visibility": null,
            "width": null
          }
        },
        "8c8b38749cf04448944450e74544cacc": {
          "model_module": "@jupyter-widgets/base",
          "model_name": "LayoutModel",
          "model_module_version": "1.2.0",
          "state": {
            "_model_module": "@jupyter-widgets/base",
            "_model_module_version": "1.2.0",
            "_model_name": "LayoutModel",
            "_view_count": null,
            "_view_module": "@jupyter-widgets/base",
            "_view_module_version": "1.2.0",
            "_view_name": "LayoutView",
            "align_content": null,
            "align_items": null,
            "align_self": null,
            "border": null,
            "bottom": null,
            "display": null,
            "flex": null,
            "flex_flow": null,
            "grid_area": null,
            "grid_auto_columns": null,
            "grid_auto_flow": null,
            "grid_auto_rows": null,
            "grid_column": null,
            "grid_gap": null,
            "grid_row": null,
            "grid_template_areas": null,
            "grid_template_columns": null,
            "grid_template_rows": null,
            "height": null,
            "justify_content": null,
            "justify_items": null,
            "left": null,
            "margin": null,
            "max_height": null,
            "max_width": null,
            "min_height": null,
            "min_width": null,
            "object_fit": null,
            "object_position": null,
            "order": null,
            "overflow": null,
            "overflow_x": null,
            "overflow_y": null,
            "padding": null,
            "right": null,
            "top": null,
            "visibility": null,
            "width": null
          }
        },
        "71c753c84ec8468f812cc9cbda216f66": {
          "model_module": "@jupyter-widgets/controls",
          "model_name": "DescriptionStyleModel",
          "model_module_version": "1.5.0",
          "state": {
            "_model_module": "@jupyter-widgets/controls",
            "_model_module_version": "1.5.0",
            "_model_name": "DescriptionStyleModel",
            "_view_count": null,
            "_view_module": "@jupyter-widgets/base",
            "_view_module_version": "1.2.0",
            "_view_name": "StyleView",
            "description_width": ""
          }
        },
        "63ea850c4294486090746eadcea7a759": {
          "model_module": "@jupyter-widgets/base",
          "model_name": "LayoutModel",
          "model_module_version": "1.2.0",
          "state": {
            "_model_module": "@jupyter-widgets/base",
            "_model_module_version": "1.2.0",
            "_model_name": "LayoutModel",
            "_view_count": null,
            "_view_module": "@jupyter-widgets/base",
            "_view_module_version": "1.2.0",
            "_view_name": "LayoutView",
            "align_content": null,
            "align_items": null,
            "align_self": null,
            "border": null,
            "bottom": null,
            "display": null,
            "flex": null,
            "flex_flow": null,
            "grid_area": null,
            "grid_auto_columns": null,
            "grid_auto_flow": null,
            "grid_auto_rows": null,
            "grid_column": null,
            "grid_gap": null,
            "grid_row": null,
            "grid_template_areas": null,
            "grid_template_columns": null,
            "grid_template_rows": null,
            "height": null,
            "justify_content": null,
            "justify_items": null,
            "left": null,
            "margin": null,
            "max_height": null,
            "max_width": null,
            "min_height": null,
            "min_width": null,
            "object_fit": null,
            "object_position": null,
            "order": null,
            "overflow": null,
            "overflow_x": null,
            "overflow_y": null,
            "padding": null,
            "right": null,
            "top": null,
            "visibility": null,
            "width": null
          }
        },
        "06e6d5be948d47a3914ebab26ec30339": {
          "model_module": "@jupyter-widgets/controls",
          "model_name": "ProgressStyleModel",
          "model_module_version": "1.5.0",
          "state": {
            "_model_module": "@jupyter-widgets/controls",
            "_model_module_version": "1.5.0",
            "_model_name": "ProgressStyleModel",
            "_view_count": null,
            "_view_module": "@jupyter-widgets/base",
            "_view_module_version": "1.2.0",
            "_view_name": "StyleView",
            "bar_color": null,
            "description_width": ""
          }
        },
        "c9f8f1f65652476a87062e4b76877167": {
          "model_module": "@jupyter-widgets/base",
          "model_name": "LayoutModel",
          "model_module_version": "1.2.0",
          "state": {
            "_model_module": "@jupyter-widgets/base",
            "_model_module_version": "1.2.0",
            "_model_name": "LayoutModel",
            "_view_count": null,
            "_view_module": "@jupyter-widgets/base",
            "_view_module_version": "1.2.0",
            "_view_name": "LayoutView",
            "align_content": null,
            "align_items": null,
            "align_self": null,
            "border": null,
            "bottom": null,
            "display": null,
            "flex": null,
            "flex_flow": null,
            "grid_area": null,
            "grid_auto_columns": null,
            "grid_auto_flow": null,
            "grid_auto_rows": null,
            "grid_column": null,
            "grid_gap": null,
            "grid_row": null,
            "grid_template_areas": null,
            "grid_template_columns": null,
            "grid_template_rows": null,
            "height": null,
            "justify_content": null,
            "justify_items": null,
            "left": null,
            "margin": null,
            "max_height": null,
            "max_width": null,
            "min_height": null,
            "min_width": null,
            "object_fit": null,
            "object_position": null,
            "order": null,
            "overflow": null,
            "overflow_x": null,
            "overflow_y": null,
            "padding": null,
            "right": null,
            "top": null,
            "visibility": null,
            "width": null
          }
        },
        "b4b8aca9f09c4746857ff402a89c4085": {
          "model_module": "@jupyter-widgets/controls",
          "model_name": "DescriptionStyleModel",
          "model_module_version": "1.5.0",
          "state": {
            "_model_module": "@jupyter-widgets/controls",
            "_model_module_version": "1.5.0",
            "_model_name": "DescriptionStyleModel",
            "_view_count": null,
            "_view_module": "@jupyter-widgets/base",
            "_view_module_version": "1.2.0",
            "_view_name": "StyleView",
            "description_width": ""
          }
        }
      }
    }
  },
  "cells": [
    {
      "cell_type": "markdown",
      "source": [
        "# GPT-4o Research Agent in LangGraph"
      ],
      "metadata": {
        "id": "_PFp0JhOWCU5"
      }
    },
    {
      "cell_type": "markdown",
      "source": [
        "**Research agents** are multi-step LLM agents that through multiple steps can produce in depth research reports on a topic of our choosing. Most research agents are packed up into their own frameworks, like BlockAGI and others.\n",
        "\n",
        "In this example, we want to demonstrate how we can build our own AI research agent using `gpt-4o`, Pinecone, LangGraph, arXiv, and Google via the SerpAPI."
      ],
      "metadata": {
        "id": "EckNKuhXWHEJ"
      }
    },
    {
      "cell_type": "markdown",
      "source": [
        "We need these prerequisite libraries to run a graph visualization library (`pygraphviz`). We will use this library during this notebook to understand the structure of our graphs _but_ it is not required to use `langgraph`."
      ],
      "metadata": {
        "id": "X3hzHJ4NoLYD"
      }
    },
    {
      "cell_type": "code",
      "source": [
        "!apt-get install graphviz libgraphviz-dev pkg-config"
      ],
      "metadata": {
        "colab": {
          "base_uri": "https://localhost:8080/"
        },
        "id": "TCVLlfNyAtxD",
        "outputId": "5ba685f1-284e-445a-8731-d007873b4499"
      },
      "execution_count": 1,
      "outputs": [
        {
          "output_type": "stream",
          "name": "stdout",
          "text": [
            "Reading package lists... Done\n",
            "Building dependency tree... Done\n",
            "Reading state information... Done\n",
            "pkg-config is already the newest version (0.29.2-1ubuntu3).\n",
            "graphviz is already the newest version (2.42.2-6).\n",
            "libgraphviz-dev is already the newest version (2.42.2-6).\n",
            "0 upgraded, 0 newly installed, 0 to remove and 45 not upgraded.\n"
          ]
        }
      ]
    },
    {
      "cell_type": "markdown",
      "source": [
        "Now we install Python libraries:"
      ],
      "metadata": {
        "id": "IbR8rt-EtqWh"
      }
    },
    {
      "cell_type": "code",
      "execution_count": 2,
      "metadata": {
        "id": "FUt2EoJZu6M3"
      },
      "outputs": [],
      "source": [
        "!pip install -qU \\\n",
        "    datasets==2.19.1 \\\n",
        "    langchain-pinecone==0.1.0 \\\n",
        "    langchain-openai==0.1.3 \\\n",
        "    langchain==0.1.16 \\\n",
        "    langchain-core==0.1.42 \\\n",
        "    langgraph==0.0.37 \\\n",
        "    langchainhub==0.1.15 \\\n",
        "    semantic-router==0.0.39 \\\n",
        "    serpapi==0.1.5 \\\n",
        "    google-search-results==2.4.2 \\\n",
        "    pygraphviz==1.12  # for visualizing"
      ]
    },
    {
      "cell_type": "markdown",
      "source": [
        "## Research Agent Overview"
      ],
      "metadata": {
        "id": "bABCOVLFdrW4"
      }
    },
    {
      "cell_type": "markdown",
      "source": [
        "Our research agent will consist of a function calling AI agent that has access to several tools that it can use to find information on a particular topic. It will be able to use several tools over multiple steps, meaning it can find information on one topic, broaden the scope of knowledge on this topic and _even_ investigate parallel topics where relevant.\n",
        "\n",
        "The tools we will be using are:\n",
        "\n",
        "* **ArXiv paper fetch**: Given an arXiv paper ID, this tool provides our agent with the abstract of the paper.\n",
        "* **Web search**: This tool provides our agent with access to Google search for more generalized queries.\n",
        "* **RAG search**: We will create a knowledge base containing AI arXiv papers. This tool provides our agent with access to this knowledge.\n",
        "* **RAG search with filter**: Sometimes our agent may need more information from a specific paper, this tool allows our agent to do just that.\n",
        "* **Final answer**: We create a custom final answer tool that forces our agent to output information in a specific format like:\n",
        "\n",
        "```\n",
        "TK\n",
        "```"
      ],
      "metadata": {
        "id": "_t1rZK3FdtLh"
      }
    },
    {
      "cell_type": "markdown",
      "source": [
        "## Setup Knowledge Base"
      ],
      "metadata": {
        "id": "vovHYoM-AdbU"
      }
    },
    {
      "cell_type": "markdown",
      "source": [
        "We'll be running our agent against a knowledge base — which requires a Pinecone index to be built.\n",
        "\n",
        "You can, if needed, skip this step and replace the `search` tool with a placeholder value if wanting to quickly test the structure of a RAG agent _without_ the RAG.\n",
        "\n",
        "If you want full functionality here, you do need to run this section — but we'll make it quick."
      ],
      "metadata": {
        "id": "YEtKvy4_AgLy"
      }
    },
    {
      "cell_type": "markdown",
      "source": [
        "### Download a Dataset"
      ],
      "metadata": {
        "id": "ohBxmFyTBFT0"
      }
    },
    {
      "cell_type": "markdown",
      "source": [
        "The first thing we need for an agent using RAG is somewhere we want to pull knowledge from. We will use v2 of the AI ArXiv dataset, available on Hugging Face Datasets at [`jamescalam/ai-arxiv2-chunks`](https://huggingface.co/datasets/jamescalam/ai-arxiv2-chunks).\n",
        "\n",
        "Note: we're using the prechunked dataset. For the raw version see [`jamescalam/ai-arxiv2`](https://huggingface.co/datasets/jamescalam/ai-arxiv2)."
      ],
      "metadata": {
        "id": "g1ufvA8hBKHx"
      }
    },
    {
      "cell_type": "code",
      "source": [
        "from datasets import load_dataset\n",
        "\n",
        "dataset = load_dataset(\"jamescalam/ai-arxiv2-semantic-chunks\", split=\"train\")\n",
        "dataset"
      ],
      "metadata": {
        "id": "ehcjNQ49BBuI",
        "colab": {
          "base_uri": "https://localhost:8080/"
        },
        "outputId": "4626bf36-f63f-4896-e973-f2a3f37fd557"
      },
      "execution_count": 3,
      "outputs": [
        {
          "output_type": "stream",
          "name": "stderr",
          "text": [
            "/usr/local/lib/python3.10/dist-packages/huggingface_hub/utils/_token.py:89: UserWarning: \n",
            "The secret `HF_TOKEN` does not exist in your Colab secrets.\n",
            "To authenticate with the Hugging Face Hub, create a token in your settings tab (https://huggingface.co/settings/tokens), set it as secret in your Google Colab and restart your session.\n",
            "You will be able to reuse this secret in all of your notebooks.\n",
            "Please note that authentication is recommended but still optional to access public models or datasets.\n",
            "  warnings.warn(\n"
          ]
        },
        {
          "output_type": "execute_result",
          "data": {
            "text/plain": [
              "Dataset({\n",
              "    features: ['id', 'title', 'content', 'prechunk_id', 'postchunk_id', 'arxiv_id', 'references'],\n",
              "    num_rows: 209760\n",
              "})"
            ]
          },
          "metadata": {},
          "execution_count": 3
        }
      ]
    },
    {
      "cell_type": "code",
      "source": [
        "dataset[0]"
      ],
      "metadata": {
        "id": "pElKCcVSSddB",
        "colab": {
          "base_uri": "https://localhost:8080/"
        },
        "outputId": "d42a1519-eb60-44f0-fb6d-9946663dac25"
      },
      "execution_count": 4,
      "outputs": [
        {
          "output_type": "execute_result",
          "data": {
            "text/plain": [
              "{'id': '2401.04088#0',\n",
              " 'title': 'Mixtral of Experts',\n",
              " 'content': '4 2 0 2 n a J 8 ] G L . s c [ 1 v 8 8 0 4 0 . 1 0 4 2 : v i X r a # Mixtral of Experts Albert Q. Jiang, Alexandre Sablayrolles, Antoine Roux, Arthur Mensch, Blanche Savary, Chris Bamford, Devendra Singh Chaplot, Diego de las Casas, Emma Bou Hanna, Florian Bressand, Gianna Lengyel, Guillaume Bour, Guillaume Lample, LÃ©lio Renard Lavaud, Lucile Saulnier, Marie-Anne Lachaux, Pierre Stock, Sandeep Subramanian, Sophia Yang, Szymon Antoniak, Teven Le Scao, ThÃ©ophile Gervet, Thibaut Lavril, Thomas Wang, TimothÃ©e Lacroix, William El Sayed Abstract We introduce Mixtral 8x7B, a Sparse Mixture of Experts (SMoE) language model. Mixtral has the same architecture as Mistral 7B, with the difference that each layer is composed of 8 feedforward blocks (i.e. experts). For every token, at each layer, a router network selects two experts to process the current state and combine their outputs. Even though each token only sees two experts, the selected experts can be different at each timestep. As a result, each token has access to 47B parameters, but only uses 13B active parameters during inference. Mixtral was trained with a context size of 32k tokens and it outperforms or matches Llama 2 70B and GPT-3.5 across all evaluated benchmarks. In particular, Mixtral vastly outperforms Llama 2 70B on mathematics, code generation, and multilingual benchmarks. We also provide a model fine- tuned to follow instructions, Mixtral 8x7B â Instruct, that surpasses GPT-3.5 Turbo, Claude-2.1, Gemini Pro, and Llama 2 70B â chat model on human bench- marks. Both the base and instruct models are released under the Apache 2.0 license.',\n",
              " 'prechunk_id': '',\n",
              " 'postchunk_id': '2401.04088#1',\n",
              " 'arxiv_id': '2401.04088',\n",
              " 'references': ['1905.07830']}"
            ]
          },
          "metadata": {},
          "execution_count": 4
        }
      ]
    },
    {
      "cell_type": "code",
      "source": [
        "import requests\n",
        "\n",
        "res = requests.get(\n",
        "    f\"http://export.arxiv.org/api/query\",\n",
        "    json={\n",
        "        \"id_list\": \"2401.04088\"\n",
        "    }\n",
        ")\n",
        "res"
      ],
      "metadata": {
        "colab": {
          "base_uri": "https://localhost:8080/"
        },
        "id": "HAi3r_JMDS75",
        "outputId": "a1978f6f-c077-494b-c08b-8db5d2750125"
      },
      "execution_count": 5,
      "outputs": [
        {
          "output_type": "execute_result",
          "data": {
            "text/plain": [
              "<Response [200]>"
            ]
          },
          "metadata": {},
          "execution_count": 5
        }
      ]
    },
    {
      "cell_type": "code",
      "source": [
        "arxiv_id = \"2401.04088\"\n",
        "\n",
        "res = requests.get(\n",
        "    f\"https://export.arxiv.org/abs/{arxiv_id}\"\n",
        ")\n",
        "res.text"
      ],
      "metadata": {
        "colab": {
          "base_uri": "https://localhost:8080/",
          "height": 139
        },
        "id": "Egp0T_1IEJHW",
        "outputId": "b2ba6d20-6e0a-4cd3-ab6b-6832ea7e5e39"
      },
      "execution_count": 6,
      "outputs": [
        {
          "output_type": "execute_result",
          "data": {
            "text/plain": [
              "'<?xml version=\"1.0\" encoding=\"UTF-8\"?>\\n<!DOCTYPE html PUBLIC \"-//W3C//DTD XHTML 1.0 Transitional//EN\" \"http://www.w3.org/TR/xhtml1/DTD/xhtml1-transitional.dtd\">\\n<html xmlns=\"http://www.w3.org/1999/xhtml\" lang=\"en\">\\n<head>\\n<title>[2401.04088] Mixtral of Experts</title>\\n<link rel=\"shortcut icon\" href=\"/favicon.ico\" type=\"image/x-icon\" />\\n<link rel=\"stylesheet\" type=\"text/css\" media=\"screen\" href=\"/css/arXiv-export.css\" />\\n<link rel=\"stylesheet\" type=\"text/css\" media=\"screen\" href=\"/bibex/bibex.css?20181009\">\\n<link rel=\"stylesheet\" type=\"text/css\" media=\"screen\" href=\"https://static.arxiv.org/static/browse/0.3.8/css/browse_search.css\" />\\n<meta name=\"citation_title\" content=\"Mixtral of Experts\" />\\n<meta name=\"citation_author\" content=\"Jiang, Albert Q.\" />\\n<meta name=\"citation_author\" content=\"Sablayrolles, Alexandre\" />\\n<meta name=\"citation_author\" content=\"Roux, Antoine\" />\\n<meta name=\"citation_author\" content=\"Mensch, Arthur\" />\\n<meta name=\"citation_author\" content=\"Savary, Blanche\" />\\n<meta name=\"citation_author\" content=\"Bamford, Chris\" />\\n<meta name=\"citation_author\" content=\"Chaplot, Devendra Singh\" />\\n<meta name=\"citation_author\" content=\"Casas, Diego de las\" />\\n<meta name=\"citation_author\" content=\"Hanna, Emma Bou\" />\\n<meta name=\"citation_author\" content=\"Bressand, Florian\" />\\n<meta name=\"citation_author\" content=\"Lengyel, Gianna\" />\\n<meta name=\"citation_author\" content=\"Bour, Guillaume\" />\\n<meta name=\"citation_author\" content=\"Lample, Guillaume\" />\\n<meta name=\"citation_author\" content=\"Lavaud, L&#xe9;lio Renard\" />\\n<meta name=\"citation_author\" content=\"Saulnier, Lucile\" />\\n<meta name=\"citation_author\" content=\"Lachaux, Marie-Anne\" />\\n<meta name=\"citation_author\" content=\"Stock, Pierre\" />\\n<meta name=\"citation_author\" content=\"Subramanian, Sandeep\" />\\n<meta name=\"citation_author\" content=\"Yang, Sophia\" />\\n<meta name=\"citation_author\" content=\"Antoniak, Szymon\" />\\n<meta name=\"citation_author\" content=\"Scao, Teven Le\" />\\n<meta name=\"citation_author\" content=\"Gervet, Th&#xe9;ophile\" />\\n<meta name=\"citation_author\" content=\"Lavril, Thibaut\" />\\n<meta name=\"citation_author\" content=\"Wang, Thomas\" />\\n<meta name=\"citation_author\" content=\"Lacroix, Timoth&#xe9;e\" />\\n<meta name=\"citation_author\" content=\"Sayed, William El\" />\\n<meta name=\"citation_date\" content=\"2024/01/08\" />\\n<meta name=\"citation_online_date\" content=\"2024/01/08\" />\\n<meta name=\"citation_pdf_url\" content=\"http://arxiv.org/pdf/2401.04088\" />\\n<meta name=\"citation_arxiv_id\" content=\"2401.04088\" />\\n<script src=\"/js/mathjaxToggle.min.js\" type=\"text/javascript\"></script>\\n\\n\\n</head>\\n<body class=\"with-cu-identity\">\\n\\n<div id=\"cu-identity\">\\n<div id=\"cu-logo\">\\n<a href=\"https://www.cornell.edu/\"><img src=\"//static.arxiv.org/icons/cu/cornell-reduced-white-SMALL.svg\" alt=\"Cornell University\" width=\"200\" border=\"0\" /></a>\\n</div>\\n<div id=\"support-ack\">\\n<a href=\"https://confluence.cornell.edu/x/ALlRF\">We gratefully acknowledge support from<br /> the Simons Foundation and member institutions.</a>\\n</div>\\n</div>\\n<div id=\"header\">\\n<h1 class=\"header-breadcrumbs\"><a href=\"/\"><img src=\"//static.arxiv.org/images/arxiv-logo-one-color-white.svg\" aria-label=\"logo\" alt=\"arxiv logo\" width=\"85\" style=\"width:85px;margin-right:8px;\"></a> <span>&gt;</span> <a href=\"/list/cs/recent\">cs</a> <span>&gt;</span> arXiv:2401.04088</h1>\\n<div id=\"search\">\\n<form id=\"search-arxiv\" method=\"post\" action=\"/search_classic\">\\n\\n<div class=\"wrapper-search-arxiv\">\\n<input class=\"keyword-field\" type=\"text\" name=\"query\" placeholder=\"Search or Article ID\"/>\\n\\n<div class=\"filter-field\">\\n <select name=\"searchtype\">\\n<option value=\"all\" selected=\"selected\">All papers</option>\\n<option value=\"ti\">Titles</option>\\n<option value=\"au\">Authors</option>\\n<option value=\"abs\">Abstracts</option>\\n<option value=\"ft\">Full text</option>\\n</select>\\n</div>\\n<input class=\"btn-search-arxiv\" value=\"\" type=\"submit\">\\n<div class=\"links\">(<a href=\"https://info.arxiv.org/help\">Help</a> | <a href=\"/find\">Advanced search</a>)</div>\\n</div>\\n</form>\\n</div>\\n</div>\\n<div id=\"content\">\\n\\n<!--\\n<rdf:RDF xmlns:rdf=\"http://www.w3.org/1999/02/22-rdf-syntax-ns#\"\\n         xmlns:dc=\"http://purl.org/dc/elements/1.1/\"\\n         xmlns:trackback=\"http://madskills.com/public/xml/rss/module/trackback/\">\\n    <rdf:Description\\n        rdf:about=\"http://arxiv.org/abs/2401.04088\"\\n        dc:identifier=\"http://arxiv.org/abs/2401.04088\"\\n        dc:title=\"Mixtral of Experts\"\\n        trackback:ping=\"http://arxiv.org/trackback/2401.04088\" />\\n    </rdf:RDF>\\n-->\\n\\n<div id=\"abs\">\\n<div class=\"extra-services\">\\n\\n<div class=\"full-text\">\\n<span class=\"descriptor\">Full-text links:</span>\\n<h2>Download:</h2>\\n<ul>\\n<li><a href=\"/pdf/2401.04088\" accesskey=\"f\">PDF</a></li>\\n<li><a href=\"/format/2401.04088\">Other formats</a></li>\\n</ul>\\n<div class=\"abs-license\"><a href=\"http://creativecommons.org/licenses/by/4.0/\" title=\"Rights to this article\"><img src=\"/icons/licenses/by-4.0.png\"/></a></div>\\n</div><!--end full-text-->\\n\\n<div class=\"browse\">\\n<h3>Current browse context:</h3>\\n<div class=\"current\">cs.LG</div>\\n<div class=\"prevnext\"><span class=\"arrow\"><a href=\"http://arxiv.org/prevnext?site=export.arxiv.org&amp;id=2401.04088&amp;context=cs.LG&amp;function=prev\" accesskey=\"p\" title=\"previous in cs.LG (accesskey p)\">&lt;&nbsp;prev</a></span>&nbsp;|&nbsp;<span class=\"arrow\"><a href=\"http://arxiv.org/prevnext?site=export.arxiv.org&amp;id=2401.04088&amp;context=cs.LG&amp;function=next\" accesskey=\"n\" title=\"next in cs.LG (accesskey n)\">next&nbsp;&gt;</a></span>\\n<br /></div>\\n<div class=\"list\"><a href=\"/list/cs.LG/new\">new</a>&nbsp;| <a href=\"/list/cs.LG/recent\">recent</a>&nbsp;| <a href=\"/list/cs.LG/2401\">2401</a></div><h3>Change to browse by:</h3><div class=\"switch\">\\n<a href=\"/abs/2401.04088?context=cs\">cs</a><br />\\n<span class=\"subclass\"><a href=\"/abs/2401.04088?context=cs.CL\">cs.CL</a></span>\\n</div>\\n\\n</div>\\n<div class=\"extra-ref-cite\">\\n<h3>References &amp; Citations</h3><ul><li><a href=\"http://adsabs.harvard.edu/cgi-bin/bib_query?arXiv:2401.04088\">NASA ADS</a></li>\\n</ul>\\n\\n</div>\\n<div class=\"dblp\">\\n<h3><a href=\"http://www.informatik.uni-trier.de/~ley/db/\">DBLP</a> - CS Bibliography</h3><div class=\"list\">\\n<a href=\"http://www.informatik.uni-trier.de/~ley/db/journals/corr/corr2401.html#abs-2401-04088\">listing</a> | <a href=\"http://dblp.uni-trier.de/rec/bibtex/journals/corr/abs-2401-04088\">bibtex</a>\\n</div>\\n\\n</div>\\n<div class=\"bookmarks\">\\n<div class=\"what-is-this\">\\n<h3>Bookmark</h3> (<a href=\"https://info.arxiv.org/help/social_bookmarking\">what is this?</a>)\\n</div>\\n<a href=\"http://arxiv.org/ct?url=http%3A%2F%2Fwww.citeulike.org%2Fposturl%3Furl%3Dhttp%3A%2F%2Farxiv.org%2Fabs%2F2401.04088%26title%3DMixtral%2520of%2520Experts%26authors%3D&amp;v=354d162e\" title=\"Bookmark on CiteULike\"><img src=\"//static.arxiv.org/icons/social/citeulike.png\" alt=\"CiteULike logo\" /></a>\\n<a href=\"http://arxiv.org/ct?url=http%3A%2F%2Fwww.bibsonomy.org%2FBibtexHandler%3FrequTask%3Dupload%26url%3Dhttp%3A%2F%2Farxiv.org%2Fabs%2F2401.04088%26description%3DMixtral%2520of%2520Experts&amp;v=bef47afc\" title=\"Bookmark on BibSonomy\"><img src=\"//static.arxiv.org/icons/social/bibsonomy.png\" alt=\"BibSonomy logo\" /></a>\\n<a href=\"http://arxiv.org/ct?url=https%3A%2F%2Fwww.mendeley.com%2Fimport%2F%3Furl%3Dhttp%3A%2F%2Farxiv.org%2Fabs%2F2401.04088&amp;v=be336fd9\" title=\"Bookmark on Mendeley\"><img src=\"//static.arxiv.org/icons/social/mendeley.png\" alt=\"Mendeley logo\" /></a>\\n<a href=\"http://arxiv.org/ct?url=https%3A%2F%2Fdel.icio.us%2Fpost%3Furl%3Dhttp%3A%2F%2Farxiv.org%2Fabs%2F2401.04088%26description%3DMixtral%2520of%2520Experts&amp;v=827de2f6\" title=\"Bookmark on del.icio.us\"><img src=\"//static.arxiv.org/icons/social/delicious.png\" alt=\"del.icio.us logo\" /></a>\\n<a href=\"http://arxiv.org/ct?url=https%3A%2F%2Fdigg.com%2Fsubmit%3Furl%3Dhttp%3A%2F%2Farxiv.org%2Fabs%2F2401.04088%26title%3DMixtral%2520of%2520Experts&amp;v=8d5c0d57\" title=\"Bookmark on Digg\"><img src=\"//static.arxiv.org/icons/social/digg.png\" alt=\"Digg logo\" /></a>\\n<a href=\"http://arxiv.org/ct?url=https%3A%2F%2Freddit.com%2Fsubmit%3Furl%3Dhttp%3A%2F%2Farxiv.org%2Fabs%2F2401.04088%26title%3DMixtral%2520of%2520Experts&amp;v=14eafc8c\" title=\"Bookmark on Reddit\"><img src=\"//static.arxiv.org/icons/social/reddit.png\" alt=\"Reddit logo\" /></a>\\n\\n</div>\\n</div><!--end extra-services-->\\n\\n<div class=\"leftcolumn\">\\n<div class=\"subheader\">\\n<h1>Computer Science > Machine Learning</h1>\\n</div>\\n<h1 class=\"title mathjax\"><span class=\"descriptor\">Title:</span>\\nMixtral of Experts</h1>\\n<div class=\"authors\"><span class=\"descriptor\">Authors:</span>\\n<a href=\"/find/cs/1/au:+Jiang_A/0/1/0/all/0/1\">Albert Q. Jiang</a>, \\n<a href=\"/find/cs/1/au:+Sablayrolles_A/0/1/0/all/0/1\">Alexandre Sablayrolles</a>, \\n<a href=\"/find/cs/1/au:+Roux_A/0/1/0/all/0/1\">Antoine Roux</a>, \\n<a href=\"/find/cs/1/au:+Mensch_A/0/1/0/all/0/1\">Arthur Mensch</a>, \\n<a href=\"/find/cs/1/au:+Savary_B/0/1/0/all/0/1\">Blanche Savary</a>, \\n<a href=\"/find/cs/1/au:+Bamford_C/0/1/0/all/0/1\">Chris Bamford</a>, \\n<a href=\"/find/cs/1/au:+Chaplot_D/0/1/0/all/0/1\">Devendra Singh Chaplot</a>, \\n<a href=\"/find/cs/1/au:+Casas_D/0/1/0/all/0/1\">Diego de las Casas</a>, \\n<a href=\"/find/cs/1/au:+Hanna_E/0/1/0/all/0/1\">Emma Bou Hanna</a>, \\n<a href=\"/find/cs/1/au:+Bressand_F/0/1/0/all/0/1\">Florian Bressand</a>, \\n<a href=\"/find/cs/1/au:+Lengyel_G/0/1/0/all/0/1\">Gianna Lengyel</a>, \\n<a href=\"/find/cs/1/au:+Bour_G/0/1/0/all/0/1\">Guillaume Bour</a>, \\n<a href=\"/find/cs/1/au:+Lample_G/0/1/0/all/0/1\">Guillaume Lample</a>, \\n<a href=\"/find/cs/1/au:+Lavaud_L/0/1/0/all/0/1\">L&#xe9;lio Renard Lavaud</a>, \\n<a href=\"/find/cs/1/au:+Saulnier_L/0/1/0/all/0/1\">Lucile Saulnier</a>, \\n<a href=\"/find/cs/1/au:+Lachaux_M/0/1/0/all/0/1\">Marie-Anne Lachaux</a>, \\n<a href=\"/find/cs/1/au:+Stock_P/0/1/0/all/0/1\">Pierre Stock</a>, \\n<a href=\"/find/cs/1/au:+Subramanian_S/0/1/0/all/0/1\">Sandeep Subramanian</a>, \\n<a href=\"/find/cs/1/au:+Yang_S/0/1/0/all/0/1\">Sophia Yang</a>, \\n<a href=\"/find/cs/1/au:+Antoniak_S/0/1/0/all/0/1\">Szymon Antoniak</a>, \\n<a href=\"/find/cs/1/au:+Scao_T/0/1/0/all/0/1\">Teven Le Scao</a>, \\n<a href=\"/find/cs/1/au:+Gervet_T/0/1/0/all/0/1\">Th&#xe9;ophile Gervet</a>, \\n<a href=\"/find/cs/1/au:+Lavril_T/0/1/0/all/0/1\">Thibaut Lavril</a>, \\n<a href=\"/find/cs/1/au:+Wang_T/0/1/0/all/0/1\">Thomas Wang</a>, \\n<a href=\"/find/cs/1/au:+Lacroix_T/0/1/0/all/0/1\">Timoth&#xe9;e Lacroix</a>, \\n<a href=\"/find/cs/1/au:+Sayed_W/0/1/0/all/0/1\">William El Sayed</a></div>\\n<div class=\"dateline\">(Submitted on 8 Jan 2024)</div>\\n<blockquote class=\"abstract mathjax\">\\n<span class=\"descriptor\">Abstract:</span> We introduce Mixtral 8x7B, a Sparse Mixture of Experts (SMoE) language model.\\nMixtral has the same architecture as Mistral 7B, with the difference that each\\nlayer is composed of 8 feedforward blocks (i.e. experts). For every token, at\\neach layer, a router network selects two experts to process the current state\\nand combine their outputs. Even though each token only sees two experts, the\\nselected experts can be different at each timestep. As a result, each token has\\naccess to 47B parameters, but only uses 13B active parameters during inference.\\nMixtral was trained with a context size of 32k tokens and it outperforms or\\nmatches Llama 2 70B and GPT-3.5 across all evaluated benchmarks. In particular,\\nMixtral vastly outperforms Llama 2 70B on mathematics, code generation, and\\nmultilingual benchmarks. We also provide a model fine-tuned to follow\\ninstructions, Mixtral 8x7B - Instruct, that surpasses GPT-3.5 Turbo,\\nClaude-2.1, Gemini Pro, and Llama 2 70B - chat model on human benchmarks. Both\\nthe base and instruct models are released under the Apache 2.0 license.\\n</blockquote>\\n<!--CONTEXT-->\\n<div class=\"metatable\">\\n<table summary=\"Additional metadata\">\\n<tr>\\n<td class=\"tablecell label\">Comments:\\n</td>\\n<td class=\"tablecell comments mathjax\">See more details at <a href=\"https://mistral.ai/news/mixtral-of-experts/\">this https URL</a></td>\\n</tr>\\n<tr>\\n<td class=\"tablecell label\">Subjects:\\n</td>\\n<td class=\"tablecell subjects\"><span class=\"primary-subject\">Machine Learning (cs.LG)</span>; Computation and Language (cs.CL)</td>\\n</tr>\\n<tr>\\n<td class=\"tablecell label\">\\nCite&nbsp;as:\\n</td>\\n<td class=\"tablecell arxivid\"><a href=\"/abs/2401.04088\">arXiv:2401.04088</a> [cs.LG]</td>\\n</tr>\\n<tr>\\n<td class=\"tablecell label\">&nbsp;</td>\\n<td class=\"tablecell arxividv\">(or <span class=\"arxivid\"><a href=\"/abs/2401.04088v1\">arXiv:2401.04088v1</a> [cs.LG]</span> for this version)</td>\\n</tr>\\n</table>\\n</div>\\n<div class=\"submission-history\">\\n<h2>Submission history</h2>\\nFrom: Devendra Singh Chaplot [<a href=\"https://arxiv.org/show-email/d382fa4f/2401.04088\">view email</a>]\\n<br />\\n<b>[v1]</b> Mon, 8 Jan 2024 18:47:34 GMT  (2811kb,D)<br />\\n</div>\\n<div class=\"endorsers\"><a href=\"http://arxiv.org/auth/show-endorsers/2401.04088\">Which authors of this paper are endorsers?</a> | <a id=\"mathjax_toggle\" href=\"javascript:setMathjaxCookie()\">Disable MathJax</a> (<a href=\"/help/mathjax\">What is MathJax?</a>) </div><script type=\"text/javascript\" language=\"javascript\">mathjaxToggle();</script>\\n<script src=\"/bibex/bibex.js?20181009\" type=\"text/javascript\" defer></script>\\n</div><!--end leftcolumn-->\\n</div><!--end abs-->\\n<p>Link back to: <a href=\"http://arXiv.org/\">arXiv</a>, <a href=\"http://arxiv.org/form\">form interface</a>, <a href=\"/help/contact\">contact</a>.</p>\\n</div>\\n</div>\\n <footer style=\"clear: both;\">\\n      <div class=\"columns is-desktop\" role=\"navigation\" aria-label=\"Secondary\" style=\"margin: -0.75em -0.75em 0.75em -0.75em\">\\n        <!-- Macro-Column 1 -->\\n        <div class=\"column\" style=\"padding: 0;\">\\n          <div class=\"columns\">\\n            <div class=\"column\">\\n              <ul style=\"list-style: none; line-height: 2;\">\\n                <li><a href=\"https://arxiv.org/about\">About</a></li>\\n                <li><a href=\"https://arxiv.org/help\">Help</a></li>\\n              </ul>\\n            </div>\\n            <div class=\"column\">\\n              <ul style=\"list-style: none; line-height: 2;\">\\n                <li>\\n                  <svg xmlns=\"http://www.w3.org/2000/svg\" viewBox=\"0 0 512 512\" class=\"icon filter-black\" role=\"presentation\"><title>contact arXiv</title><desc>Click here to contact arXiv</desc><path d=\"M502.3 190.8c3.9-3.1 9.7-.2 9.7 4.7V400c0 26.5-21.5 48-48 48H48c-26.5 0-48-21.5-48-48V195.6c0-5 5.7-7.8 9.7-4.7 22.4 17.4 52.1 39.5 154.1 113.6 21.1 15.4 56.7 47.8 92.2 47.6 35.7.3 72-32.8 92.3-47.6 102-74.1 131.6-96.3 154-113.7zM256 320c23.2.4 56.6-29.2 73.4-41.4 132.7-96.3 142.8-104.7 173.4-128.7 5.8-4.5 9.2-11.5 9.2-18.9v-19c0-26.5-21.5-48-48-48H48C21.5 64 0 85.5 0 112v19c0 7.4 3.4 14.3 9.2 18.9 30.6 23.9 40.7 32.4 173.4 128.7 16.8 12.2 50.2 41.8 73.4 41.4z\"/></svg>\\n                  <a href=\"https://arxiv.org/help/contact\"> Contact</a>\\n                </li>\\n                <li>\\n                  <svg xmlns=\"http://www.w3.org/2000/svg\" viewBox=\"0 0 512 512\" class=\"icon filter-black\" role=\"presentation\"><title>subscribe to arXiv mailings</title><desc>Click here to subscribe</desc><path d=\"M476 3.2L12.5 270.6c-18.1 10.4-15.8 35.6 2.2 43.2L121 358.4l287.3-253.2c5.5-4.9 13.3 2.6 8.6 8.3L176 407v80.5c0 23.6 28.5 32.9 42.5 15.8L282 426l124.6 52.2c14.2 6 30.4-2.9 33-18.2l72-432C515 7.8 493.3-6.8 476 3.2z\"/></svg>\\n                  <a href=\"https://arxiv.org/help/subscribe\"> Subscribe</a>\\n                </li>\\n              </ul>\\n            </div>\\n          </div>\\n        </div>\\n        <!-- End Macro-Column 1 -->\\n        <!-- Macro-Column 2 -->\\n        <div class=\"column\" style=\"padding: 0;\">\\n          <div class=\"columns\">\\n            <div class=\"column\">\\n              <ul style=\"list-style: none; line-height: 2;\">\\n                <li><a href=\"https://arxiv.org/help/license\">Copyright</a></li>\\n                <li><a href=\"https://arxiv.org/help/policies/privacy_policy\">Privacy Policy</a></li>\\n              </ul>\\n            </div>\\n            <div class=\"column sorry-app-links\">\\n              <ul style=\"list-style: none; line-height: 2;\">\\n                <li><a href=\"https://arxiv.org/help/web_accessibility\">Web Accessibility Assistance</a></li>\\n                <li>\\n                  <p class=\"help\">\\n                    <a class=\"a11y-main-link\" href=\"https://status.arxiv.org\" target=\"_blank\">arXiv Operational Status <svg xmlns=\"http://www.w3.org/2000/svg\" viewBox=\"0 0 256 512\" class=\"icon filter-dark_grey\" role=\"presentation\"><path d=\"M224.3 273l-136 136c-9.4 9.4-24.6 9.4-33.9 0l-22.6-22.6c-9.4-9.4-9.4-24.6 0-33.9l96.4-96.4-96.4-96.4c-9.4-9.4-9.4-24.6 0-33.9L54.3 103c9.4-9.4 24.6-9.4 33.9 0l136 136c9.5 9.4 9.5 24.6.1 34z\"/></svg></a><br>\\n                    Get status notifications via\\n                    <a class=\"is-link\" href=\"https://subscribe.sorryapp.com/24846f03/email/new\" target=\"_blank\"><svg xmlns=\"http://www.w3.org/2000/svg\" viewBox=\"0 0 512 512\" class=\"icon filter-black\" role=\"presentation\"><path d=\"M502.3 190.8c3.9-3.1 9.7-.2 9.7 4.7V400c0 26.5-21.5 48-48 48H48c-26.5 0-48-21.5-48-48V195.6c0-5 5.7-7.8 9.7-4.7 22.4 17.4 52.1 39.5 154.1 113.6 21.1 15.4 56.7 47.8 92.2 47.6 35.7.3 72-32.8 92.3-47.6 102-74.1 131.6-96.3 154-113.7zM256 320c23.2.4 56.6-29.2 73.4-41.4 132.7-96.3 142.8-104.7 173.4-128.7 5.8-4.5 9.2-11.5 9.2-18.9v-19c0-26.5-21.5-48-48-48H48C21.5 64 0 85.5 0 112v19c0 7.4 3.4 14.3 9.2 18.9 30.6 23.9 40.7 32.4 173.4 128.7 16.8 12.2 50.2 41.8 73.4 41.4z\"/></svg>email</a>\\n                    or <a class=\"is-link\" href=\"https://subscribe.sorryapp.com/24846f03/slack/new\" target=\"_blank\"><svg xmlns=\"http://www.w3.org/2000/svg\" viewBox=\"0 0 448 512\" class=\"icon filter-black\" role=\"presentation\"><path d=\"M94.12 315.1c0 25.9-21.16 47.06-47.06 47.06S0 341 0 315.1c0-25.9 21.16-47.06 47.06-47.06h47.06v47.06zm23.72 0c0-25.9 21.16-47.06 47.06-47.06s47.06 21.16 47.06 47.06v117.84c0 25.9-21.16 47.06-47.06 47.06s-47.06-21.16-47.06-47.06V315.1zm47.06-188.98c-25.9 0-47.06-21.16-47.06-47.06S139 32 164.9 32s47.06 21.16 47.06 47.06v47.06H164.9zm0 23.72c25.9 0 47.06 21.16 47.06 47.06s-21.16 47.06-47.06 47.06H47.06C21.16 243.96 0 222.8 0 196.9s21.16-47.06 47.06-47.06H164.9zm188.98 47.06c0-25.9 21.16-47.06 47.06-47.06 25.9 0 47.06 21.16 47.06 47.06s-21.16 47.06-47.06 47.06h-47.06V196.9zm-23.72 0c0 25.9-21.16 47.06-47.06 47.06-25.9 0-47.06-21.16-47.06-47.06V79.06c0-25.9 21.16-47.06 47.06-47.06 25.9 0 47.06 21.16 47.06 47.06V196.9zM283.1 385.88c25.9 0 47.06 21.16 47.06 47.06 0 25.9-21.16 47.06-47.06 47.06-25.9 0-47.06-21.16-47.06-47.06v-47.06h47.06zm0-23.72c-25.9 0-47.06-21.16-47.06-47.06 0-25.9 21.16-47.06 47.06-47.06h117.84c25.9 0 47.06 21.16 47.06 47.06 0 25.9-21.16 47.06-47.06 47.06H283.1z\"/></svg>slack</a>\\n                  </p>\\n                </li>\\n              </ul>\\n            </div>\\n          </div>\\n        </div> <!-- end MetaColumn 2 -->\\n        <!-- End Macro-Column 2 -->\\n      </div>\\n    </footer>\\n</body>\\n</html>\\n'"
            ],
            "application/vnd.google.colaboratory.intrinsic+json": {
              "type": "string"
            }
          },
          "metadata": {},
          "execution_count": 6
        }
      ]
    },
    {
      "cell_type": "code",
      "source": [
        "res.text"
      ],
      "metadata": {
        "colab": {
          "base_uri": "https://localhost:8080/",
          "height": 139
        },
        "id": "Gdp1EyUsDlGk",
        "outputId": "60926292-53c5-4a86-a216-fe5f9ad25631"
      },
      "execution_count": 7,
      "outputs": [
        {
          "output_type": "execute_result",
          "data": {
            "text/plain": [
              "'<?xml version=\"1.0\" encoding=\"UTF-8\"?>\\n<!DOCTYPE html PUBLIC \"-//W3C//DTD XHTML 1.0 Transitional//EN\" \"http://www.w3.org/TR/xhtml1/DTD/xhtml1-transitional.dtd\">\\n<html xmlns=\"http://www.w3.org/1999/xhtml\" lang=\"en\">\\n<head>\\n<title>[2401.04088] Mixtral of Experts</title>\\n<link rel=\"shortcut icon\" href=\"/favicon.ico\" type=\"image/x-icon\" />\\n<link rel=\"stylesheet\" type=\"text/css\" media=\"screen\" href=\"/css/arXiv-export.css\" />\\n<link rel=\"stylesheet\" type=\"text/css\" media=\"screen\" href=\"/bibex/bibex.css?20181009\">\\n<link rel=\"stylesheet\" type=\"text/css\" media=\"screen\" href=\"https://static.arxiv.org/static/browse/0.3.8/css/browse_search.css\" />\\n<meta name=\"citation_title\" content=\"Mixtral of Experts\" />\\n<meta name=\"citation_author\" content=\"Jiang, Albert Q.\" />\\n<meta name=\"citation_author\" content=\"Sablayrolles, Alexandre\" />\\n<meta name=\"citation_author\" content=\"Roux, Antoine\" />\\n<meta name=\"citation_author\" content=\"Mensch, Arthur\" />\\n<meta name=\"citation_author\" content=\"Savary, Blanche\" />\\n<meta name=\"citation_author\" content=\"Bamford, Chris\" />\\n<meta name=\"citation_author\" content=\"Chaplot, Devendra Singh\" />\\n<meta name=\"citation_author\" content=\"Casas, Diego de las\" />\\n<meta name=\"citation_author\" content=\"Hanna, Emma Bou\" />\\n<meta name=\"citation_author\" content=\"Bressand, Florian\" />\\n<meta name=\"citation_author\" content=\"Lengyel, Gianna\" />\\n<meta name=\"citation_author\" content=\"Bour, Guillaume\" />\\n<meta name=\"citation_author\" content=\"Lample, Guillaume\" />\\n<meta name=\"citation_author\" content=\"Lavaud, L&#xe9;lio Renard\" />\\n<meta name=\"citation_author\" content=\"Saulnier, Lucile\" />\\n<meta name=\"citation_author\" content=\"Lachaux, Marie-Anne\" />\\n<meta name=\"citation_author\" content=\"Stock, Pierre\" />\\n<meta name=\"citation_author\" content=\"Subramanian, Sandeep\" />\\n<meta name=\"citation_author\" content=\"Yang, Sophia\" />\\n<meta name=\"citation_author\" content=\"Antoniak, Szymon\" />\\n<meta name=\"citation_author\" content=\"Scao, Teven Le\" />\\n<meta name=\"citation_author\" content=\"Gervet, Th&#xe9;ophile\" />\\n<meta name=\"citation_author\" content=\"Lavril, Thibaut\" />\\n<meta name=\"citation_author\" content=\"Wang, Thomas\" />\\n<meta name=\"citation_author\" content=\"Lacroix, Timoth&#xe9;e\" />\\n<meta name=\"citation_author\" content=\"Sayed, William El\" />\\n<meta name=\"citation_date\" content=\"2024/01/08\" />\\n<meta name=\"citation_online_date\" content=\"2024/01/08\" />\\n<meta name=\"citation_pdf_url\" content=\"http://arxiv.org/pdf/2401.04088\" />\\n<meta name=\"citation_arxiv_id\" content=\"2401.04088\" />\\n<script src=\"/js/mathjaxToggle.min.js\" type=\"text/javascript\"></script>\\n\\n\\n</head>\\n<body class=\"with-cu-identity\">\\n\\n<div id=\"cu-identity\">\\n<div id=\"cu-logo\">\\n<a href=\"https://www.cornell.edu/\"><img src=\"//static.arxiv.org/icons/cu/cornell-reduced-white-SMALL.svg\" alt=\"Cornell University\" width=\"200\" border=\"0\" /></a>\\n</div>\\n<div id=\"support-ack\">\\n<a href=\"https://confluence.cornell.edu/x/ALlRF\">We gratefully acknowledge support from<br /> the Simons Foundation and member institutions.</a>\\n</div>\\n</div>\\n<div id=\"header\">\\n<h1 class=\"header-breadcrumbs\"><a href=\"/\"><img src=\"//static.arxiv.org/images/arxiv-logo-one-color-white.svg\" aria-label=\"logo\" alt=\"arxiv logo\" width=\"85\" style=\"width:85px;margin-right:8px;\"></a> <span>&gt;</span> <a href=\"/list/cs/recent\">cs</a> <span>&gt;</span> arXiv:2401.04088</h1>\\n<div id=\"search\">\\n<form id=\"search-arxiv\" method=\"post\" action=\"/search_classic\">\\n\\n<div class=\"wrapper-search-arxiv\">\\n<input class=\"keyword-field\" type=\"text\" name=\"query\" placeholder=\"Search or Article ID\"/>\\n\\n<div class=\"filter-field\">\\n <select name=\"searchtype\">\\n<option value=\"all\" selected=\"selected\">All papers</option>\\n<option value=\"ti\">Titles</option>\\n<option value=\"au\">Authors</option>\\n<option value=\"abs\">Abstracts</option>\\n<option value=\"ft\">Full text</option>\\n</select>\\n</div>\\n<input class=\"btn-search-arxiv\" value=\"\" type=\"submit\">\\n<div class=\"links\">(<a href=\"https://info.arxiv.org/help\">Help</a> | <a href=\"/find\">Advanced search</a>)</div>\\n</div>\\n</form>\\n</div>\\n</div>\\n<div id=\"content\">\\n\\n<!--\\n<rdf:RDF xmlns:rdf=\"http://www.w3.org/1999/02/22-rdf-syntax-ns#\"\\n         xmlns:dc=\"http://purl.org/dc/elements/1.1/\"\\n         xmlns:trackback=\"http://madskills.com/public/xml/rss/module/trackback/\">\\n    <rdf:Description\\n        rdf:about=\"http://arxiv.org/abs/2401.04088\"\\n        dc:identifier=\"http://arxiv.org/abs/2401.04088\"\\n        dc:title=\"Mixtral of Experts\"\\n        trackback:ping=\"http://arxiv.org/trackback/2401.04088\" />\\n    </rdf:RDF>\\n-->\\n\\n<div id=\"abs\">\\n<div class=\"extra-services\">\\n\\n<div class=\"full-text\">\\n<span class=\"descriptor\">Full-text links:</span>\\n<h2>Download:</h2>\\n<ul>\\n<li><a href=\"/pdf/2401.04088\" accesskey=\"f\">PDF</a></li>\\n<li><a href=\"/format/2401.04088\">Other formats</a></li>\\n</ul>\\n<div class=\"abs-license\"><a href=\"http://creativecommons.org/licenses/by/4.0/\" title=\"Rights to this article\"><img src=\"/icons/licenses/by-4.0.png\"/></a></div>\\n</div><!--end full-text-->\\n\\n<div class=\"browse\">\\n<h3>Current browse context:</h3>\\n<div class=\"current\">cs.LG</div>\\n<div class=\"prevnext\"><span class=\"arrow\"><a href=\"http://arxiv.org/prevnext?site=export.arxiv.org&amp;id=2401.04088&amp;context=cs.LG&amp;function=prev\" accesskey=\"p\" title=\"previous in cs.LG (accesskey p)\">&lt;&nbsp;prev</a></span>&nbsp;|&nbsp;<span class=\"arrow\"><a href=\"http://arxiv.org/prevnext?site=export.arxiv.org&amp;id=2401.04088&amp;context=cs.LG&amp;function=next\" accesskey=\"n\" title=\"next in cs.LG (accesskey n)\">next&nbsp;&gt;</a></span>\\n<br /></div>\\n<div class=\"list\"><a href=\"/list/cs.LG/new\">new</a>&nbsp;| <a href=\"/list/cs.LG/recent\">recent</a>&nbsp;| <a href=\"/list/cs.LG/2401\">2401</a></div><h3>Change to browse by:</h3><div class=\"switch\">\\n<a href=\"/abs/2401.04088?context=cs\">cs</a><br />\\n<span class=\"subclass\"><a href=\"/abs/2401.04088?context=cs.CL\">cs.CL</a></span>\\n</div>\\n\\n</div>\\n<div class=\"extra-ref-cite\">\\n<h3>References &amp; Citations</h3><ul><li><a href=\"http://adsabs.harvard.edu/cgi-bin/bib_query?arXiv:2401.04088\">NASA ADS</a></li>\\n</ul>\\n\\n</div>\\n<div class=\"dblp\">\\n<h3><a href=\"http://www.informatik.uni-trier.de/~ley/db/\">DBLP</a> - CS Bibliography</h3><div class=\"list\">\\n<a href=\"http://www.informatik.uni-trier.de/~ley/db/journals/corr/corr2401.html#abs-2401-04088\">listing</a> | <a href=\"http://dblp.uni-trier.de/rec/bibtex/journals/corr/abs-2401-04088\">bibtex</a>\\n</div>\\n\\n</div>\\n<div class=\"bookmarks\">\\n<div class=\"what-is-this\">\\n<h3>Bookmark</h3> (<a href=\"https://info.arxiv.org/help/social_bookmarking\">what is this?</a>)\\n</div>\\n<a href=\"http://arxiv.org/ct?url=http%3A%2F%2Fwww.citeulike.org%2Fposturl%3Furl%3Dhttp%3A%2F%2Farxiv.org%2Fabs%2F2401.04088%26title%3DMixtral%2520of%2520Experts%26authors%3D&amp;v=354d162e\" title=\"Bookmark on CiteULike\"><img src=\"//static.arxiv.org/icons/social/citeulike.png\" alt=\"CiteULike logo\" /></a>\\n<a href=\"http://arxiv.org/ct?url=http%3A%2F%2Fwww.bibsonomy.org%2FBibtexHandler%3FrequTask%3Dupload%26url%3Dhttp%3A%2F%2Farxiv.org%2Fabs%2F2401.04088%26description%3DMixtral%2520of%2520Experts&amp;v=bef47afc\" title=\"Bookmark on BibSonomy\"><img src=\"//static.arxiv.org/icons/social/bibsonomy.png\" alt=\"BibSonomy logo\" /></a>\\n<a href=\"http://arxiv.org/ct?url=https%3A%2F%2Fwww.mendeley.com%2Fimport%2F%3Furl%3Dhttp%3A%2F%2Farxiv.org%2Fabs%2F2401.04088&amp;v=be336fd9\" title=\"Bookmark on Mendeley\"><img src=\"//static.arxiv.org/icons/social/mendeley.png\" alt=\"Mendeley logo\" /></a>\\n<a href=\"http://arxiv.org/ct?url=https%3A%2F%2Fdel.icio.us%2Fpost%3Furl%3Dhttp%3A%2F%2Farxiv.org%2Fabs%2F2401.04088%26description%3DMixtral%2520of%2520Experts&amp;v=827de2f6\" title=\"Bookmark on del.icio.us\"><img src=\"//static.arxiv.org/icons/social/delicious.png\" alt=\"del.icio.us logo\" /></a>\\n<a href=\"http://arxiv.org/ct?url=https%3A%2F%2Fdigg.com%2Fsubmit%3Furl%3Dhttp%3A%2F%2Farxiv.org%2Fabs%2F2401.04088%26title%3DMixtral%2520of%2520Experts&amp;v=8d5c0d57\" title=\"Bookmark on Digg\"><img src=\"//static.arxiv.org/icons/social/digg.png\" alt=\"Digg logo\" /></a>\\n<a href=\"http://arxiv.org/ct?url=https%3A%2F%2Freddit.com%2Fsubmit%3Furl%3Dhttp%3A%2F%2Farxiv.org%2Fabs%2F2401.04088%26title%3DMixtral%2520of%2520Experts&amp;v=14eafc8c\" title=\"Bookmark on Reddit\"><img src=\"//static.arxiv.org/icons/social/reddit.png\" alt=\"Reddit logo\" /></a>\\n\\n</div>\\n</div><!--end extra-services-->\\n\\n<div class=\"leftcolumn\">\\n<div class=\"subheader\">\\n<h1>Computer Science > Machine Learning</h1>\\n</div>\\n<h1 class=\"title mathjax\"><span class=\"descriptor\">Title:</span>\\nMixtral of Experts</h1>\\n<div class=\"authors\"><span class=\"descriptor\">Authors:</span>\\n<a href=\"/find/cs/1/au:+Jiang_A/0/1/0/all/0/1\">Albert Q. Jiang</a>, \\n<a href=\"/find/cs/1/au:+Sablayrolles_A/0/1/0/all/0/1\">Alexandre Sablayrolles</a>, \\n<a href=\"/find/cs/1/au:+Roux_A/0/1/0/all/0/1\">Antoine Roux</a>, \\n<a href=\"/find/cs/1/au:+Mensch_A/0/1/0/all/0/1\">Arthur Mensch</a>, \\n<a href=\"/find/cs/1/au:+Savary_B/0/1/0/all/0/1\">Blanche Savary</a>, \\n<a href=\"/find/cs/1/au:+Bamford_C/0/1/0/all/0/1\">Chris Bamford</a>, \\n<a href=\"/find/cs/1/au:+Chaplot_D/0/1/0/all/0/1\">Devendra Singh Chaplot</a>, \\n<a href=\"/find/cs/1/au:+Casas_D/0/1/0/all/0/1\">Diego de las Casas</a>, \\n<a href=\"/find/cs/1/au:+Hanna_E/0/1/0/all/0/1\">Emma Bou Hanna</a>, \\n<a href=\"/find/cs/1/au:+Bressand_F/0/1/0/all/0/1\">Florian Bressand</a>, \\n<a href=\"/find/cs/1/au:+Lengyel_G/0/1/0/all/0/1\">Gianna Lengyel</a>, \\n<a href=\"/find/cs/1/au:+Bour_G/0/1/0/all/0/1\">Guillaume Bour</a>, \\n<a href=\"/find/cs/1/au:+Lample_G/0/1/0/all/0/1\">Guillaume Lample</a>, \\n<a href=\"/find/cs/1/au:+Lavaud_L/0/1/0/all/0/1\">L&#xe9;lio Renard Lavaud</a>, \\n<a href=\"/find/cs/1/au:+Saulnier_L/0/1/0/all/0/1\">Lucile Saulnier</a>, \\n<a href=\"/find/cs/1/au:+Lachaux_M/0/1/0/all/0/1\">Marie-Anne Lachaux</a>, \\n<a href=\"/find/cs/1/au:+Stock_P/0/1/0/all/0/1\">Pierre Stock</a>, \\n<a href=\"/find/cs/1/au:+Subramanian_S/0/1/0/all/0/1\">Sandeep Subramanian</a>, \\n<a href=\"/find/cs/1/au:+Yang_S/0/1/0/all/0/1\">Sophia Yang</a>, \\n<a href=\"/find/cs/1/au:+Antoniak_S/0/1/0/all/0/1\">Szymon Antoniak</a>, \\n<a href=\"/find/cs/1/au:+Scao_T/0/1/0/all/0/1\">Teven Le Scao</a>, \\n<a href=\"/find/cs/1/au:+Gervet_T/0/1/0/all/0/1\">Th&#xe9;ophile Gervet</a>, \\n<a href=\"/find/cs/1/au:+Lavril_T/0/1/0/all/0/1\">Thibaut Lavril</a>, \\n<a href=\"/find/cs/1/au:+Wang_T/0/1/0/all/0/1\">Thomas Wang</a>, \\n<a href=\"/find/cs/1/au:+Lacroix_T/0/1/0/all/0/1\">Timoth&#xe9;e Lacroix</a>, \\n<a href=\"/find/cs/1/au:+Sayed_W/0/1/0/all/0/1\">William El Sayed</a></div>\\n<div class=\"dateline\">(Submitted on 8 Jan 2024)</div>\\n<blockquote class=\"abstract mathjax\">\\n<span class=\"descriptor\">Abstract:</span> We introduce Mixtral 8x7B, a Sparse Mixture of Experts (SMoE) language model.\\nMixtral has the same architecture as Mistral 7B, with the difference that each\\nlayer is composed of 8 feedforward blocks (i.e. experts). For every token, at\\neach layer, a router network selects two experts to process the current state\\nand combine their outputs. Even though each token only sees two experts, the\\nselected experts can be different at each timestep. As a result, each token has\\naccess to 47B parameters, but only uses 13B active parameters during inference.\\nMixtral was trained with a context size of 32k tokens and it outperforms or\\nmatches Llama 2 70B and GPT-3.5 across all evaluated benchmarks. In particular,\\nMixtral vastly outperforms Llama 2 70B on mathematics, code generation, and\\nmultilingual benchmarks. We also provide a model fine-tuned to follow\\ninstructions, Mixtral 8x7B - Instruct, that surpasses GPT-3.5 Turbo,\\nClaude-2.1, Gemini Pro, and Llama 2 70B - chat model on human benchmarks. Both\\nthe base and instruct models are released under the Apache 2.0 license.\\n</blockquote>\\n<!--CONTEXT-->\\n<div class=\"metatable\">\\n<table summary=\"Additional metadata\">\\n<tr>\\n<td class=\"tablecell label\">Comments:\\n</td>\\n<td class=\"tablecell comments mathjax\">See more details at <a href=\"https://mistral.ai/news/mixtral-of-experts/\">this https URL</a></td>\\n</tr>\\n<tr>\\n<td class=\"tablecell label\">Subjects:\\n</td>\\n<td class=\"tablecell subjects\"><span class=\"primary-subject\">Machine Learning (cs.LG)</span>; Computation and Language (cs.CL)</td>\\n</tr>\\n<tr>\\n<td class=\"tablecell label\">\\nCite&nbsp;as:\\n</td>\\n<td class=\"tablecell arxivid\"><a href=\"/abs/2401.04088\">arXiv:2401.04088</a> [cs.LG]</td>\\n</tr>\\n<tr>\\n<td class=\"tablecell label\">&nbsp;</td>\\n<td class=\"tablecell arxividv\">(or <span class=\"arxivid\"><a href=\"/abs/2401.04088v1\">arXiv:2401.04088v1</a> [cs.LG]</span> for this version)</td>\\n</tr>\\n</table>\\n</div>\\n<div class=\"submission-history\">\\n<h2>Submission history</h2>\\nFrom: Devendra Singh Chaplot [<a href=\"https://arxiv.org/show-email/d382fa4f/2401.04088\">view email</a>]\\n<br />\\n<b>[v1]</b> Mon, 8 Jan 2024 18:47:34 GMT  (2811kb,D)<br />\\n</div>\\n<div class=\"endorsers\"><a href=\"http://arxiv.org/auth/show-endorsers/2401.04088\">Which authors of this paper are endorsers?</a> | <a id=\"mathjax_toggle\" href=\"javascript:setMathjaxCookie()\">Disable MathJax</a> (<a href=\"/help/mathjax\">What is MathJax?</a>) </div><script type=\"text/javascript\" language=\"javascript\">mathjaxToggle();</script>\\n<script src=\"/bibex/bibex.js?20181009\" type=\"text/javascript\" defer></script>\\n</div><!--end leftcolumn-->\\n</div><!--end abs-->\\n<p>Link back to: <a href=\"http://arXiv.org/\">arXiv</a>, <a href=\"http://arxiv.org/form\">form interface</a>, <a href=\"/help/contact\">contact</a>.</p>\\n</div>\\n</div>\\n <footer style=\"clear: both;\">\\n      <div class=\"columns is-desktop\" role=\"navigation\" aria-label=\"Secondary\" style=\"margin: -0.75em -0.75em 0.75em -0.75em\">\\n        <!-- Macro-Column 1 -->\\n        <div class=\"column\" style=\"padding: 0;\">\\n          <div class=\"columns\">\\n            <div class=\"column\">\\n              <ul style=\"list-style: none; line-height: 2;\">\\n                <li><a href=\"https://arxiv.org/about\">About</a></li>\\n                <li><a href=\"https://arxiv.org/help\">Help</a></li>\\n              </ul>\\n            </div>\\n            <div class=\"column\">\\n              <ul style=\"list-style: none; line-height: 2;\">\\n                <li>\\n                  <svg xmlns=\"http://www.w3.org/2000/svg\" viewBox=\"0 0 512 512\" class=\"icon filter-black\" role=\"presentation\"><title>contact arXiv</title><desc>Click here to contact arXiv</desc><path d=\"M502.3 190.8c3.9-3.1 9.7-.2 9.7 4.7V400c0 26.5-21.5 48-48 48H48c-26.5 0-48-21.5-48-48V195.6c0-5 5.7-7.8 9.7-4.7 22.4 17.4 52.1 39.5 154.1 113.6 21.1 15.4 56.7 47.8 92.2 47.6 35.7.3 72-32.8 92.3-47.6 102-74.1 131.6-96.3 154-113.7zM256 320c23.2.4 56.6-29.2 73.4-41.4 132.7-96.3 142.8-104.7 173.4-128.7 5.8-4.5 9.2-11.5 9.2-18.9v-19c0-26.5-21.5-48-48-48H48C21.5 64 0 85.5 0 112v19c0 7.4 3.4 14.3 9.2 18.9 30.6 23.9 40.7 32.4 173.4 128.7 16.8 12.2 50.2 41.8 73.4 41.4z\"/></svg>\\n                  <a href=\"https://arxiv.org/help/contact\"> Contact</a>\\n                </li>\\n                <li>\\n                  <svg xmlns=\"http://www.w3.org/2000/svg\" viewBox=\"0 0 512 512\" class=\"icon filter-black\" role=\"presentation\"><title>subscribe to arXiv mailings</title><desc>Click here to subscribe</desc><path d=\"M476 3.2L12.5 270.6c-18.1 10.4-15.8 35.6 2.2 43.2L121 358.4l287.3-253.2c5.5-4.9 13.3 2.6 8.6 8.3L176 407v80.5c0 23.6 28.5 32.9 42.5 15.8L282 426l124.6 52.2c14.2 6 30.4-2.9 33-18.2l72-432C515 7.8 493.3-6.8 476 3.2z\"/></svg>\\n                  <a href=\"https://arxiv.org/help/subscribe\"> Subscribe</a>\\n                </li>\\n              </ul>\\n            </div>\\n          </div>\\n        </div>\\n        <!-- End Macro-Column 1 -->\\n        <!-- Macro-Column 2 -->\\n        <div class=\"column\" style=\"padding: 0;\">\\n          <div class=\"columns\">\\n            <div class=\"column\">\\n              <ul style=\"list-style: none; line-height: 2;\">\\n                <li><a href=\"https://arxiv.org/help/license\">Copyright</a></li>\\n                <li><a href=\"https://arxiv.org/help/policies/privacy_policy\">Privacy Policy</a></li>\\n              </ul>\\n            </div>\\n            <div class=\"column sorry-app-links\">\\n              <ul style=\"list-style: none; line-height: 2;\">\\n                <li><a href=\"https://arxiv.org/help/web_accessibility\">Web Accessibility Assistance</a></li>\\n                <li>\\n                  <p class=\"help\">\\n                    <a class=\"a11y-main-link\" href=\"https://status.arxiv.org\" target=\"_blank\">arXiv Operational Status <svg xmlns=\"http://www.w3.org/2000/svg\" viewBox=\"0 0 256 512\" class=\"icon filter-dark_grey\" role=\"presentation\"><path d=\"M224.3 273l-136 136c-9.4 9.4-24.6 9.4-33.9 0l-22.6-22.6c-9.4-9.4-9.4-24.6 0-33.9l96.4-96.4-96.4-96.4c-9.4-9.4-9.4-24.6 0-33.9L54.3 103c9.4-9.4 24.6-9.4 33.9 0l136 136c9.5 9.4 9.5 24.6.1 34z\"/></svg></a><br>\\n                    Get status notifications via\\n                    <a class=\"is-link\" href=\"https://subscribe.sorryapp.com/24846f03/email/new\" target=\"_blank\"><svg xmlns=\"http://www.w3.org/2000/svg\" viewBox=\"0 0 512 512\" class=\"icon filter-black\" role=\"presentation\"><path d=\"M502.3 190.8c3.9-3.1 9.7-.2 9.7 4.7V400c0 26.5-21.5 48-48 48H48c-26.5 0-48-21.5-48-48V195.6c0-5 5.7-7.8 9.7-4.7 22.4 17.4 52.1 39.5 154.1 113.6 21.1 15.4 56.7 47.8 92.2 47.6 35.7.3 72-32.8 92.3-47.6 102-74.1 131.6-96.3 154-113.7zM256 320c23.2.4 56.6-29.2 73.4-41.4 132.7-96.3 142.8-104.7 173.4-128.7 5.8-4.5 9.2-11.5 9.2-18.9v-19c0-26.5-21.5-48-48-48H48C21.5 64 0 85.5 0 112v19c0 7.4 3.4 14.3 9.2 18.9 30.6 23.9 40.7 32.4 173.4 128.7 16.8 12.2 50.2 41.8 73.4 41.4z\"/></svg>email</a>\\n                    or <a class=\"is-link\" href=\"https://subscribe.sorryapp.com/24846f03/slack/new\" target=\"_blank\"><svg xmlns=\"http://www.w3.org/2000/svg\" viewBox=\"0 0 448 512\" class=\"icon filter-black\" role=\"presentation\"><path d=\"M94.12 315.1c0 25.9-21.16 47.06-47.06 47.06S0 341 0 315.1c0-25.9 21.16-47.06 47.06-47.06h47.06v47.06zm23.72 0c0-25.9 21.16-47.06 47.06-47.06s47.06 21.16 47.06 47.06v117.84c0 25.9-21.16 47.06-47.06 47.06s-47.06-21.16-47.06-47.06V315.1zm47.06-188.98c-25.9 0-47.06-21.16-47.06-47.06S139 32 164.9 32s47.06 21.16 47.06 47.06v47.06H164.9zm0 23.72c25.9 0 47.06 21.16 47.06 47.06s-21.16 47.06-47.06 47.06H47.06C21.16 243.96 0 222.8 0 196.9s21.16-47.06 47.06-47.06H164.9zm188.98 47.06c0-25.9 21.16-47.06 47.06-47.06 25.9 0 47.06 21.16 47.06 47.06s-21.16 47.06-47.06 47.06h-47.06V196.9zm-23.72 0c0 25.9-21.16 47.06-47.06 47.06-25.9 0-47.06-21.16-47.06-47.06V79.06c0-25.9 21.16-47.06 47.06-47.06 25.9 0 47.06 21.16 47.06 47.06V196.9zM283.1 385.88c25.9 0 47.06 21.16 47.06 47.06 0 25.9-21.16 47.06-47.06 47.06-25.9 0-47.06-21.16-47.06-47.06v-47.06h47.06zm0-23.72c-25.9 0-47.06-21.16-47.06-47.06 0-25.9 21.16-47.06 47.06-47.06h117.84c25.9 0 47.06 21.16 47.06 47.06 0 25.9-21.16 47.06-47.06 47.06H283.1z\"/></svg>slack</a>\\n                  </p>\\n                </li>\\n              </ul>\\n            </div>\\n          </div>\\n        </div> <!-- end MetaColumn 2 -->\\n        <!-- End Macro-Column 2 -->\\n      </div>\\n    </footer>\\n</body>\\n</html>\\n'"
            ],
            "application/vnd.google.colaboratory.intrinsic+json": {
              "type": "string"
            }
          },
          "metadata": {},
          "execution_count": 7
        }
      ]
    },
    {
      "cell_type": "markdown",
      "source": [
        "Building a knowledge base:"
      ],
      "metadata": {
        "id": "vJjZMEO_HmOi"
      }
    },
    {
      "cell_type": "code",
      "source": [
        "import os\n",
        "from getpass import getpass\n",
        "from semantic_router.encoders import OpenAIEncoder\n",
        "\n",
        "os.environ[\"OPENAI_API_KEY\"] = os.getenv(\"OPENAI_API_KEY\") or getpass(\"OpenAI API key: \")\n",
        "\n",
        "encoder = OpenAIEncoder(name=\"text-embedding-3-small\")"
      ],
      "metadata": {
        "id": "LjsIFVbtKBu4"
      },
      "execution_count": 8,
      "outputs": []
    },
    {
      "cell_type": "code",
      "source": [
        "from pinecone import Pinecone\n",
        "\n",
        "# initialize connection to pinecone (get API key at app.pinecone.io)\n",
        "api_key = os.getenv(\"PINECONE_API_KEY\") or getpass(\"Pinecone API key: \")\n",
        "\n",
        "# configure client\n",
        "pc = Pinecone(api_key=api_key)"
      ],
      "metadata": {
        "id": "J233t2I4HmjD"
      },
      "execution_count": 9,
      "outputs": []
    },
    {
      "cell_type": "code",
      "source": [
        "from pinecone import ServerlessSpec\n",
        "\n",
        "spec = ServerlessSpec(\n",
        "    cloud=\"aws\", region=\"us-west-2\"  # us-east-1\n",
        ")"
      ],
      "metadata": {
        "id": "actWflaEKgVb"
      },
      "execution_count": 10,
      "outputs": []
    },
    {
      "cell_type": "code",
      "source": [
        "dims = len(encoder([\"some random text\"])[0])\n",
        "dims"
      ],
      "metadata": {
        "id": "jWijfk8LKil7",
        "colab": {
          "base_uri": "https://localhost:8080/"
        },
        "outputId": "b3c1dbaf-ebee-4509-da89-f354736dd896"
      },
      "execution_count": 11,
      "outputs": [
        {
          "output_type": "execute_result",
          "data": {
            "text/plain": [
              "1536"
            ]
          },
          "metadata": {},
          "execution_count": 11
        }
      ]
    },
    {
      "cell_type": "code",
      "source": [
        "import time\n",
        "\n",
        "index_name = \"gpt-4o-research-agent\"\n",
        "\n",
        "# check if index already exists (it shouldn't if this is first time)\n",
        "if index_name not in pc.list_indexes().names():\n",
        "    # if does not exist, create index\n",
        "    pc.create_index(\n",
        "        index_name,\n",
        "        dimension=dims,  # dimensionality of embed 3\n",
        "        metric='dotproduct',\n",
        "        spec=spec\n",
        "    )\n",
        "    # wait for index to be initialized\n",
        "    while not pc.describe_index(index_name).status['ready']:\n",
        "        time.sleep(1)\n",
        "\n",
        "# connect to index\n",
        "index = pc.Index(index_name)\n",
        "time.sleep(1)\n",
        "# view index stats\n",
        "index.describe_index_stats()"
      ],
      "metadata": {
        "id": "V-GHzWs3KlJn",
        "colab": {
          "base_uri": "https://localhost:8080/"
        },
        "outputId": "3a97fde3-994b-47d0-acea-f8eaeba53d93"
      },
      "execution_count": 12,
      "outputs": [
        {
          "output_type": "execute_result",
          "data": {
            "text/plain": [
              "{'dimension': 1536,\n",
              " 'index_fullness': 0.0,\n",
              " 'namespaces': {'': {'vector_count': 10000}},\n",
              " 'total_vector_count': 10000}"
            ]
          },
          "metadata": {},
          "execution_count": 12
        }
      ]
    },
    {
      "cell_type": "markdown",
      "source": [
        "Populate our knowledge base:"
      ],
      "metadata": {
        "id": "vwNPeBbZK0hx"
      }
    },
    {
      "cell_type": "code",
      "source": [
        "from tqdm.auto import tqdm\n",
        "\n",
        "# easier to work with dataset as pandas dataframe\n",
        "data = dataset.to_pandas().iloc[:10000]\n",
        "\n",
        "batch_size = 128\n",
        "\n",
        "for i in tqdm(range(0, len(data), batch_size)):\n",
        "    i_end = min(len(data), i+batch_size)\n",
        "    batch = data[i:i_end].to_dict(orient=\"records\")\n",
        "    # get batch of data\n",
        "    metadata = [{\n",
        "        \"title\": r[\"title\"],\n",
        "        \"content\": r[\"content\"],\n",
        "        \"arxiv_id\": r[\"arxiv_id\"],\n",
        "        \"references\": r[\"references\"].tolist()\n",
        "    } for r in batch]\n",
        "    # generate unique ids for each chunk\n",
        "    ids = [r[\"id\"] for r in batch]\n",
        "    # get text content to embed\n",
        "    content = [r[\"content\"] for r in batch]\n",
        "    # embed text\n",
        "    embeds = encoder(content)\n",
        "    # add to Pinecone\n",
        "    index.upsert(vectors=zip(ids, embeds, metadata))"
      ],
      "metadata": {
        "id": "5iQ2YJPeK2Us",
        "colab": {
          "base_uri": "https://localhost:8080/",
          "height": 49,
          "referenced_widgets": [
            "b43fbbe5dd7c462387eabb539b0b91bc",
            "fa5f039d9f754155afadc5ffef84b2fd",
            "c389c07a10044dbf9d4c88f4bdfdf3e9",
            "926ff8e304034efdbe28878d81435e91",
            "c904100a7d5a4091a28b4eada3320b15",
            "8c8b38749cf04448944450e74544cacc",
            "71c753c84ec8468f812cc9cbda216f66",
            "63ea850c4294486090746eadcea7a759",
            "06e6d5be948d47a3914ebab26ec30339",
            "c9f8f1f65652476a87062e4b76877167",
            "b4b8aca9f09c4746857ff402a89c4085"
          ]
        },
        "outputId": "7073ab7b-4d93-4d87-b050-1c0bb1246662"
      },
      "execution_count": 13,
      "outputs": [
        {
          "output_type": "display_data",
          "data": {
            "text/plain": [
              "  0%|          | 0/79 [00:00<?, ?it/s]"
            ],
            "application/vnd.jupyter.widget-view+json": {
              "version_major": 2,
              "version_minor": 0,
              "model_id": "b43fbbe5dd7c462387eabb539b0b91bc"
            }
          },
          "metadata": {}
        }
      ]
    },
    {
      "cell_type": "markdown",
      "source": [
        "## Graph State\n",
        "\n",
        "We will define a custom graph state to support our agent-oriented decision making."
      ],
      "metadata": {
        "id": "hITmdwQ7Qns0"
      }
    },
    {
      "cell_type": "code",
      "source": [
        "from typing import TypedDict, Annotated, List, Union\n",
        "from langchain_core.agents import AgentAction, AgentFinish\n",
        "from langchain_core.messages import BaseMessage\n",
        "import operator\n",
        "\n",
        "\n",
        "class AgentState(TypedDict):\n",
        "    input: str\n",
        "    chat_history: list[BaseMessage]\n",
        "    agent_out: Union[AgentAction, AgentFinish, None]\n",
        "    intermediate_steps: Annotated[list[tuple[AgentAction, str]], operator.add]"
      ],
      "metadata": {
        "id": "x7Fj9KNjQvUq"
      },
      "execution_count": 14,
      "outputs": []
    },
    {
      "cell_type": "markdown",
      "source": [
        "## Custom Tools"
      ],
      "metadata": {
        "id": "zlVbgX39Rhxj"
      }
    },
    {
      "cell_type": "markdown",
      "source": [
        "We will define several tools for this agent that will focus on initial data discovery, that will allow the LLM to use more tools to research more deeply via a variety of different routes."
      ],
      "metadata": {
        "id": "io-lnbpgKHzy"
      }
    },
    {
      "cell_type": "markdown",
      "source": [
        "### ArXiv Paper Fetch"
      ],
      "metadata": {
        "id": "v9MYnZvtF9WN"
      }
    },
    {
      "cell_type": "markdown",
      "source": [
        "The `fetch_arxiv` tool will allow our agent to get the summary of a specific paper given an ArXiv paper ID. To do this, we will simply send a GET request to arXiv and use regex to extract the paper abstract."
      ],
      "metadata": {
        "id": "VQZjy5TZGAFB"
      }
    },
    {
      "cell_type": "code",
      "source": [
        "import requests\n",
        "\n",
        "# we will test with the mixtral paper\n",
        "arxiv_id = \"2401.04088\"\n",
        "\n",
        "res = requests.get(\n",
        "    f\"https://export.arxiv.org/abs/{arxiv_id}\"\n",
        ")\n",
        "res.text"
      ],
      "metadata": {
        "colab": {
          "base_uri": "https://localhost:8080/",
          "height": 139
        },
        "id": "B2W-V1cOGzwJ",
        "outputId": "4cecf2f5-f12a-42bf-f7c8-5229f5f12397"
      },
      "execution_count": 15,
      "outputs": [
        {
          "output_type": "execute_result",
          "data": {
            "text/plain": [
              "'<?xml version=\"1.0\" encoding=\"UTF-8\"?>\\n<!DOCTYPE html PUBLIC \"-//W3C//DTD XHTML 1.0 Transitional//EN\" \"http://www.w3.org/TR/xhtml1/DTD/xhtml1-transitional.dtd\">\\n<html xmlns=\"http://www.w3.org/1999/xhtml\" lang=\"en\">\\n<head>\\n<title>[2401.04088] Mixtral of Experts</title>\\n<link rel=\"shortcut icon\" href=\"/favicon.ico\" type=\"image/x-icon\" />\\n<link rel=\"stylesheet\" type=\"text/css\" media=\"screen\" href=\"/css/arXiv-export.css\" />\\n<link rel=\"stylesheet\" type=\"text/css\" media=\"screen\" href=\"/bibex/bibex.css?20181009\">\\n<link rel=\"stylesheet\" type=\"text/css\" media=\"screen\" href=\"https://static.arxiv.org/static/browse/0.3.8/css/browse_search.css\" />\\n<meta name=\"citation_title\" content=\"Mixtral of Experts\" />\\n<meta name=\"citation_author\" content=\"Jiang, Albert Q.\" />\\n<meta name=\"citation_author\" content=\"Sablayrolles, Alexandre\" />\\n<meta name=\"citation_author\" content=\"Roux, Antoine\" />\\n<meta name=\"citation_author\" content=\"Mensch, Arthur\" />\\n<meta name=\"citation_author\" content=\"Savary, Blanche\" />\\n<meta name=\"citation_author\" content=\"Bamford, Chris\" />\\n<meta name=\"citation_author\" content=\"Chaplot, Devendra Singh\" />\\n<meta name=\"citation_author\" content=\"Casas, Diego de las\" />\\n<meta name=\"citation_author\" content=\"Hanna, Emma Bou\" />\\n<meta name=\"citation_author\" content=\"Bressand, Florian\" />\\n<meta name=\"citation_author\" content=\"Lengyel, Gianna\" />\\n<meta name=\"citation_author\" content=\"Bour, Guillaume\" />\\n<meta name=\"citation_author\" content=\"Lample, Guillaume\" />\\n<meta name=\"citation_author\" content=\"Lavaud, L&#xe9;lio Renard\" />\\n<meta name=\"citation_author\" content=\"Saulnier, Lucile\" />\\n<meta name=\"citation_author\" content=\"Lachaux, Marie-Anne\" />\\n<meta name=\"citation_author\" content=\"Stock, Pierre\" />\\n<meta name=\"citation_author\" content=\"Subramanian, Sandeep\" />\\n<meta name=\"citation_author\" content=\"Yang, Sophia\" />\\n<meta name=\"citation_author\" content=\"Antoniak, Szymon\" />\\n<meta name=\"citation_author\" content=\"Scao, Teven Le\" />\\n<meta name=\"citation_author\" content=\"Gervet, Th&#xe9;ophile\" />\\n<meta name=\"citation_author\" content=\"Lavril, Thibaut\" />\\n<meta name=\"citation_author\" content=\"Wang, Thomas\" />\\n<meta name=\"citation_author\" content=\"Lacroix, Timoth&#xe9;e\" />\\n<meta name=\"citation_author\" content=\"Sayed, William El\" />\\n<meta name=\"citation_date\" content=\"2024/01/08\" />\\n<meta name=\"citation_online_date\" content=\"2024/01/08\" />\\n<meta name=\"citation_pdf_url\" content=\"http://arxiv.org/pdf/2401.04088\" />\\n<meta name=\"citation_arxiv_id\" content=\"2401.04088\" />\\n<script src=\"/js/mathjaxToggle.min.js\" type=\"text/javascript\"></script>\\n\\n\\n</head>\\n<body class=\"with-cu-identity\">\\n\\n<div id=\"cu-identity\">\\n<div id=\"cu-logo\">\\n<a href=\"https://www.cornell.edu/\"><img src=\"//static.arxiv.org/icons/cu/cornell-reduced-white-SMALL.svg\" alt=\"Cornell University\" width=\"200\" border=\"0\" /></a>\\n</div>\\n<div id=\"support-ack\">\\n<a href=\"https://confluence.cornell.edu/x/ALlRF\">We gratefully acknowledge support from<br /> the Simons Foundation and member institutions.</a>\\n</div>\\n</div>\\n<div id=\"header\">\\n<h1 class=\"header-breadcrumbs\"><a href=\"/\"><img src=\"//static.arxiv.org/images/arxiv-logo-one-color-white.svg\" aria-label=\"logo\" alt=\"arxiv logo\" width=\"85\" style=\"width:85px;margin-right:8px;\"></a> <span>&gt;</span> <a href=\"/list/cs/recent\">cs</a> <span>&gt;</span> arXiv:2401.04088</h1>\\n<div id=\"search\">\\n<form id=\"search-arxiv\" method=\"post\" action=\"/search_classic\">\\n\\n<div class=\"wrapper-search-arxiv\">\\n<input class=\"keyword-field\" type=\"text\" name=\"query\" placeholder=\"Search or Article ID\"/>\\n\\n<div class=\"filter-field\">\\n <select name=\"searchtype\">\\n<option value=\"all\" selected=\"selected\">All papers</option>\\n<option value=\"ti\">Titles</option>\\n<option value=\"au\">Authors</option>\\n<option value=\"abs\">Abstracts</option>\\n<option value=\"ft\">Full text</option>\\n</select>\\n</div>\\n<input class=\"btn-search-arxiv\" value=\"\" type=\"submit\">\\n<div class=\"links\">(<a href=\"https://info.arxiv.org/help\">Help</a> | <a href=\"/find\">Advanced search</a>)</div>\\n</div>\\n</form>\\n</div>\\n</div>\\n<div id=\"content\">\\n\\n<!--\\n<rdf:RDF xmlns:rdf=\"http://www.w3.org/1999/02/22-rdf-syntax-ns#\"\\n         xmlns:dc=\"http://purl.org/dc/elements/1.1/\"\\n         xmlns:trackback=\"http://madskills.com/public/xml/rss/module/trackback/\">\\n    <rdf:Description\\n        rdf:about=\"http://arxiv.org/abs/2401.04088\"\\n        dc:identifier=\"http://arxiv.org/abs/2401.04088\"\\n        dc:title=\"Mixtral of Experts\"\\n        trackback:ping=\"http://arxiv.org/trackback/2401.04088\" />\\n    </rdf:RDF>\\n-->\\n\\n<div id=\"abs\">\\n<div class=\"extra-services\">\\n\\n<div class=\"full-text\">\\n<span class=\"descriptor\">Full-text links:</span>\\n<h2>Download:</h2>\\n<ul>\\n<li><a href=\"/pdf/2401.04088\" accesskey=\"f\">PDF</a></li>\\n<li><a href=\"/format/2401.04088\">Other formats</a></li>\\n</ul>\\n<div class=\"abs-license\"><a href=\"http://creativecommons.org/licenses/by/4.0/\" title=\"Rights to this article\"><img src=\"/icons/licenses/by-4.0.png\"/></a></div>\\n</div><!--end full-text-->\\n\\n<div class=\"browse\">\\n<h3>Current browse context:</h3>\\n<div class=\"current\">cs.LG</div>\\n<div class=\"prevnext\"><span class=\"arrow\"><a href=\"http://arxiv.org/prevnext?site=export.arxiv.org&amp;id=2401.04088&amp;context=cs.LG&amp;function=prev\" accesskey=\"p\" title=\"previous in cs.LG (accesskey p)\">&lt;&nbsp;prev</a></span>&nbsp;|&nbsp;<span class=\"arrow\"><a href=\"http://arxiv.org/prevnext?site=export.arxiv.org&amp;id=2401.04088&amp;context=cs.LG&amp;function=next\" accesskey=\"n\" title=\"next in cs.LG (accesskey n)\">next&nbsp;&gt;</a></span>\\n<br /></div>\\n<div class=\"list\"><a href=\"/list/cs.LG/new\">new</a>&nbsp;| <a href=\"/list/cs.LG/recent\">recent</a>&nbsp;| <a href=\"/list/cs.LG/2401\">2401</a></div><h3>Change to browse by:</h3><div class=\"switch\">\\n<a href=\"/abs/2401.04088?context=cs\">cs</a><br />\\n<span class=\"subclass\"><a href=\"/abs/2401.04088?context=cs.CL\">cs.CL</a></span>\\n</div>\\n\\n</div>\\n<div class=\"extra-ref-cite\">\\n<h3>References &amp; Citations</h3><ul><li><a href=\"http://adsabs.harvard.edu/cgi-bin/bib_query?arXiv:2401.04088\">NASA ADS</a></li>\\n</ul>\\n\\n</div>\\n<div class=\"dblp\">\\n<h3><a href=\"http://www.informatik.uni-trier.de/~ley/db/\">DBLP</a> - CS Bibliography</h3><div class=\"list\">\\n<a href=\"http://www.informatik.uni-trier.de/~ley/db/journals/corr/corr2401.html#abs-2401-04088\">listing</a> | <a href=\"http://dblp.uni-trier.de/rec/bibtex/journals/corr/abs-2401-04088\">bibtex</a>\\n</div>\\n\\n</div>\\n<div class=\"bookmarks\">\\n<div class=\"what-is-this\">\\n<h3>Bookmark</h3> (<a href=\"https://info.arxiv.org/help/social_bookmarking\">what is this?</a>)\\n</div>\\n<a href=\"http://arxiv.org/ct?url=http%3A%2F%2Fwww.citeulike.org%2Fposturl%3Furl%3Dhttp%3A%2F%2Farxiv.org%2Fabs%2F2401.04088%26title%3DMixtral%2520of%2520Experts%26authors%3D&amp;v=354d162e\" title=\"Bookmark on CiteULike\"><img src=\"//static.arxiv.org/icons/social/citeulike.png\" alt=\"CiteULike logo\" /></a>\\n<a href=\"http://arxiv.org/ct?url=http%3A%2F%2Fwww.bibsonomy.org%2FBibtexHandler%3FrequTask%3Dupload%26url%3Dhttp%3A%2F%2Farxiv.org%2Fabs%2F2401.04088%26description%3DMixtral%2520of%2520Experts&amp;v=bef47afc\" title=\"Bookmark on BibSonomy\"><img src=\"//static.arxiv.org/icons/social/bibsonomy.png\" alt=\"BibSonomy logo\" /></a>\\n<a href=\"http://arxiv.org/ct?url=https%3A%2F%2Fwww.mendeley.com%2Fimport%2F%3Furl%3Dhttp%3A%2F%2Farxiv.org%2Fabs%2F2401.04088&amp;v=be336fd9\" title=\"Bookmark on Mendeley\"><img src=\"//static.arxiv.org/icons/social/mendeley.png\" alt=\"Mendeley logo\" /></a>\\n<a href=\"http://arxiv.org/ct?url=https%3A%2F%2Fdel.icio.us%2Fpost%3Furl%3Dhttp%3A%2F%2Farxiv.org%2Fabs%2F2401.04088%26description%3DMixtral%2520of%2520Experts&amp;v=827de2f6\" title=\"Bookmark on del.icio.us\"><img src=\"//static.arxiv.org/icons/social/delicious.png\" alt=\"del.icio.us logo\" /></a>\\n<a href=\"http://arxiv.org/ct?url=https%3A%2F%2Fdigg.com%2Fsubmit%3Furl%3Dhttp%3A%2F%2Farxiv.org%2Fabs%2F2401.04088%26title%3DMixtral%2520of%2520Experts&amp;v=8d5c0d57\" title=\"Bookmark on Digg\"><img src=\"//static.arxiv.org/icons/social/digg.png\" alt=\"Digg logo\" /></a>\\n<a href=\"http://arxiv.org/ct?url=https%3A%2F%2Freddit.com%2Fsubmit%3Furl%3Dhttp%3A%2F%2Farxiv.org%2Fabs%2F2401.04088%26title%3DMixtral%2520of%2520Experts&amp;v=14eafc8c\" title=\"Bookmark on Reddit\"><img src=\"//static.arxiv.org/icons/social/reddit.png\" alt=\"Reddit logo\" /></a>\\n\\n</div>\\n</div><!--end extra-services-->\\n\\n<div class=\"leftcolumn\">\\n<div class=\"subheader\">\\n<h1>Computer Science > Machine Learning</h1>\\n</div>\\n<h1 class=\"title mathjax\"><span class=\"descriptor\">Title:</span>\\nMixtral of Experts</h1>\\n<div class=\"authors\"><span class=\"descriptor\">Authors:</span>\\n<a href=\"/find/cs/1/au:+Jiang_A/0/1/0/all/0/1\">Albert Q. Jiang</a>, \\n<a href=\"/find/cs/1/au:+Sablayrolles_A/0/1/0/all/0/1\">Alexandre Sablayrolles</a>, \\n<a href=\"/find/cs/1/au:+Roux_A/0/1/0/all/0/1\">Antoine Roux</a>, \\n<a href=\"/find/cs/1/au:+Mensch_A/0/1/0/all/0/1\">Arthur Mensch</a>, \\n<a href=\"/find/cs/1/au:+Savary_B/0/1/0/all/0/1\">Blanche Savary</a>, \\n<a href=\"/find/cs/1/au:+Bamford_C/0/1/0/all/0/1\">Chris Bamford</a>, \\n<a href=\"/find/cs/1/au:+Chaplot_D/0/1/0/all/0/1\">Devendra Singh Chaplot</a>, \\n<a href=\"/find/cs/1/au:+Casas_D/0/1/0/all/0/1\">Diego de las Casas</a>, \\n<a href=\"/find/cs/1/au:+Hanna_E/0/1/0/all/0/1\">Emma Bou Hanna</a>, \\n<a href=\"/find/cs/1/au:+Bressand_F/0/1/0/all/0/1\">Florian Bressand</a>, \\n<a href=\"/find/cs/1/au:+Lengyel_G/0/1/0/all/0/1\">Gianna Lengyel</a>, \\n<a href=\"/find/cs/1/au:+Bour_G/0/1/0/all/0/1\">Guillaume Bour</a>, \\n<a href=\"/find/cs/1/au:+Lample_G/0/1/0/all/0/1\">Guillaume Lample</a>, \\n<a href=\"/find/cs/1/au:+Lavaud_L/0/1/0/all/0/1\">L&#xe9;lio Renard Lavaud</a>, \\n<a href=\"/find/cs/1/au:+Saulnier_L/0/1/0/all/0/1\">Lucile Saulnier</a>, \\n<a href=\"/find/cs/1/au:+Lachaux_M/0/1/0/all/0/1\">Marie-Anne Lachaux</a>, \\n<a href=\"/find/cs/1/au:+Stock_P/0/1/0/all/0/1\">Pierre Stock</a>, \\n<a href=\"/find/cs/1/au:+Subramanian_S/0/1/0/all/0/1\">Sandeep Subramanian</a>, \\n<a href=\"/find/cs/1/au:+Yang_S/0/1/0/all/0/1\">Sophia Yang</a>, \\n<a href=\"/find/cs/1/au:+Antoniak_S/0/1/0/all/0/1\">Szymon Antoniak</a>, \\n<a href=\"/find/cs/1/au:+Scao_T/0/1/0/all/0/1\">Teven Le Scao</a>, \\n<a href=\"/find/cs/1/au:+Gervet_T/0/1/0/all/0/1\">Th&#xe9;ophile Gervet</a>, \\n<a href=\"/find/cs/1/au:+Lavril_T/0/1/0/all/0/1\">Thibaut Lavril</a>, \\n<a href=\"/find/cs/1/au:+Wang_T/0/1/0/all/0/1\">Thomas Wang</a>, \\n<a href=\"/find/cs/1/au:+Lacroix_T/0/1/0/all/0/1\">Timoth&#xe9;e Lacroix</a>, \\n<a href=\"/find/cs/1/au:+Sayed_W/0/1/0/all/0/1\">William El Sayed</a></div>\\n<div class=\"dateline\">(Submitted on 8 Jan 2024)</div>\\n<blockquote class=\"abstract mathjax\">\\n<span class=\"descriptor\">Abstract:</span> We introduce Mixtral 8x7B, a Sparse Mixture of Experts (SMoE) language model.\\nMixtral has the same architecture as Mistral 7B, with the difference that each\\nlayer is composed of 8 feedforward blocks (i.e. experts). For every token, at\\neach layer, a router network selects two experts to process the current state\\nand combine their outputs. Even though each token only sees two experts, the\\nselected experts can be different at each timestep. As a result, each token has\\naccess to 47B parameters, but only uses 13B active parameters during inference.\\nMixtral was trained with a context size of 32k tokens and it outperforms or\\nmatches Llama 2 70B and GPT-3.5 across all evaluated benchmarks. In particular,\\nMixtral vastly outperforms Llama 2 70B on mathematics, code generation, and\\nmultilingual benchmarks. We also provide a model fine-tuned to follow\\ninstructions, Mixtral 8x7B - Instruct, that surpasses GPT-3.5 Turbo,\\nClaude-2.1, Gemini Pro, and Llama 2 70B - chat model on human benchmarks. Both\\nthe base and instruct models are released under the Apache 2.0 license.\\n</blockquote>\\n<!--CONTEXT-->\\n<div class=\"metatable\">\\n<table summary=\"Additional metadata\">\\n<tr>\\n<td class=\"tablecell label\">Comments:\\n</td>\\n<td class=\"tablecell comments mathjax\">See more details at <a href=\"https://mistral.ai/news/mixtral-of-experts/\">this https URL</a></td>\\n</tr>\\n<tr>\\n<td class=\"tablecell label\">Subjects:\\n</td>\\n<td class=\"tablecell subjects\"><span class=\"primary-subject\">Machine Learning (cs.LG)</span>; Computation and Language (cs.CL)</td>\\n</tr>\\n<tr>\\n<td class=\"tablecell label\">\\nCite&nbsp;as:\\n</td>\\n<td class=\"tablecell arxivid\"><a href=\"/abs/2401.04088\">arXiv:2401.04088</a> [cs.LG]</td>\\n</tr>\\n<tr>\\n<td class=\"tablecell label\">&nbsp;</td>\\n<td class=\"tablecell arxividv\">(or <span class=\"arxivid\"><a href=\"/abs/2401.04088v1\">arXiv:2401.04088v1</a> [cs.LG]</span> for this version)</td>\\n</tr>\\n</table>\\n</div>\\n<div class=\"submission-history\">\\n<h2>Submission history</h2>\\nFrom: Devendra Singh Chaplot [<a href=\"https://arxiv.org/show-email/d382fa4f/2401.04088\">view email</a>]\\n<br />\\n<b>[v1]</b> Mon, 8 Jan 2024 18:47:34 GMT  (2811kb,D)<br />\\n</div>\\n<div class=\"endorsers\"><a href=\"http://arxiv.org/auth/show-endorsers/2401.04088\">Which authors of this paper are endorsers?</a> | <a id=\"mathjax_toggle\" href=\"javascript:setMathjaxCookie()\">Disable MathJax</a> (<a href=\"/help/mathjax\">What is MathJax?</a>) </div><script type=\"text/javascript\" language=\"javascript\">mathjaxToggle();</script>\\n<script src=\"/bibex/bibex.js?20181009\" type=\"text/javascript\" defer></script>\\n</div><!--end leftcolumn-->\\n</div><!--end abs-->\\n<p>Link back to: <a href=\"http://arXiv.org/\">arXiv</a>, <a href=\"http://arxiv.org/form\">form interface</a>, <a href=\"/help/contact\">contact</a>.</p>\\n</div>\\n</div>\\n <footer style=\"clear: both;\">\\n      <div class=\"columns is-desktop\" role=\"navigation\" aria-label=\"Secondary\" style=\"margin: -0.75em -0.75em 0.75em -0.75em\">\\n        <!-- Macro-Column 1 -->\\n        <div class=\"column\" style=\"padding: 0;\">\\n          <div class=\"columns\">\\n            <div class=\"column\">\\n              <ul style=\"list-style: none; line-height: 2;\">\\n                <li><a href=\"https://arxiv.org/about\">About</a></li>\\n                <li><a href=\"https://arxiv.org/help\">Help</a></li>\\n              </ul>\\n            </div>\\n            <div class=\"column\">\\n              <ul style=\"list-style: none; line-height: 2;\">\\n                <li>\\n                  <svg xmlns=\"http://www.w3.org/2000/svg\" viewBox=\"0 0 512 512\" class=\"icon filter-black\" role=\"presentation\"><title>contact arXiv</title><desc>Click here to contact arXiv</desc><path d=\"M502.3 190.8c3.9-3.1 9.7-.2 9.7 4.7V400c0 26.5-21.5 48-48 48H48c-26.5 0-48-21.5-48-48V195.6c0-5 5.7-7.8 9.7-4.7 22.4 17.4 52.1 39.5 154.1 113.6 21.1 15.4 56.7 47.8 92.2 47.6 35.7.3 72-32.8 92.3-47.6 102-74.1 131.6-96.3 154-113.7zM256 320c23.2.4 56.6-29.2 73.4-41.4 132.7-96.3 142.8-104.7 173.4-128.7 5.8-4.5 9.2-11.5 9.2-18.9v-19c0-26.5-21.5-48-48-48H48C21.5 64 0 85.5 0 112v19c0 7.4 3.4 14.3 9.2 18.9 30.6 23.9 40.7 32.4 173.4 128.7 16.8 12.2 50.2 41.8 73.4 41.4z\"/></svg>\\n                  <a href=\"https://arxiv.org/help/contact\"> Contact</a>\\n                </li>\\n                <li>\\n                  <svg xmlns=\"http://www.w3.org/2000/svg\" viewBox=\"0 0 512 512\" class=\"icon filter-black\" role=\"presentation\"><title>subscribe to arXiv mailings</title><desc>Click here to subscribe</desc><path d=\"M476 3.2L12.5 270.6c-18.1 10.4-15.8 35.6 2.2 43.2L121 358.4l287.3-253.2c5.5-4.9 13.3 2.6 8.6 8.3L176 407v80.5c0 23.6 28.5 32.9 42.5 15.8L282 426l124.6 52.2c14.2 6 30.4-2.9 33-18.2l72-432C515 7.8 493.3-6.8 476 3.2z\"/></svg>\\n                  <a href=\"https://arxiv.org/help/subscribe\"> Subscribe</a>\\n                </li>\\n              </ul>\\n            </div>\\n          </div>\\n        </div>\\n        <!-- End Macro-Column 1 -->\\n        <!-- Macro-Column 2 -->\\n        <div class=\"column\" style=\"padding: 0;\">\\n          <div class=\"columns\">\\n            <div class=\"column\">\\n              <ul style=\"list-style: none; line-height: 2;\">\\n                <li><a href=\"https://arxiv.org/help/license\">Copyright</a></li>\\n                <li><a href=\"https://arxiv.org/help/policies/privacy_policy\">Privacy Policy</a></li>\\n              </ul>\\n            </div>\\n            <div class=\"column sorry-app-links\">\\n              <ul style=\"list-style: none; line-height: 2;\">\\n                <li><a href=\"https://arxiv.org/help/web_accessibility\">Web Accessibility Assistance</a></li>\\n                <li>\\n                  <p class=\"help\">\\n                    <a class=\"a11y-main-link\" href=\"https://status.arxiv.org\" target=\"_blank\">arXiv Operational Status <svg xmlns=\"http://www.w3.org/2000/svg\" viewBox=\"0 0 256 512\" class=\"icon filter-dark_grey\" role=\"presentation\"><path d=\"M224.3 273l-136 136c-9.4 9.4-24.6 9.4-33.9 0l-22.6-22.6c-9.4-9.4-9.4-24.6 0-33.9l96.4-96.4-96.4-96.4c-9.4-9.4-9.4-24.6 0-33.9L54.3 103c9.4-9.4 24.6-9.4 33.9 0l136 136c9.5 9.4 9.5 24.6.1 34z\"/></svg></a><br>\\n                    Get status notifications via\\n                    <a class=\"is-link\" href=\"https://subscribe.sorryapp.com/24846f03/email/new\" target=\"_blank\"><svg xmlns=\"http://www.w3.org/2000/svg\" viewBox=\"0 0 512 512\" class=\"icon filter-black\" role=\"presentation\"><path d=\"M502.3 190.8c3.9-3.1 9.7-.2 9.7 4.7V400c0 26.5-21.5 48-48 48H48c-26.5 0-48-21.5-48-48V195.6c0-5 5.7-7.8 9.7-4.7 22.4 17.4 52.1 39.5 154.1 113.6 21.1 15.4 56.7 47.8 92.2 47.6 35.7.3 72-32.8 92.3-47.6 102-74.1 131.6-96.3 154-113.7zM256 320c23.2.4 56.6-29.2 73.4-41.4 132.7-96.3 142.8-104.7 173.4-128.7 5.8-4.5 9.2-11.5 9.2-18.9v-19c0-26.5-21.5-48-48-48H48C21.5 64 0 85.5 0 112v19c0 7.4 3.4 14.3 9.2 18.9 30.6 23.9 40.7 32.4 173.4 128.7 16.8 12.2 50.2 41.8 73.4 41.4z\"/></svg>email</a>\\n                    or <a class=\"is-link\" href=\"https://subscribe.sorryapp.com/24846f03/slack/new\" target=\"_blank\"><svg xmlns=\"http://www.w3.org/2000/svg\" viewBox=\"0 0 448 512\" class=\"icon filter-black\" role=\"presentation\"><path d=\"M94.12 315.1c0 25.9-21.16 47.06-47.06 47.06S0 341 0 315.1c0-25.9 21.16-47.06 47.06-47.06h47.06v47.06zm23.72 0c0-25.9 21.16-47.06 47.06-47.06s47.06 21.16 47.06 47.06v117.84c0 25.9-21.16 47.06-47.06 47.06s-47.06-21.16-47.06-47.06V315.1zm47.06-188.98c-25.9 0-47.06-21.16-47.06-47.06S139 32 164.9 32s47.06 21.16 47.06 47.06v47.06H164.9zm0 23.72c25.9 0 47.06 21.16 47.06 47.06s-21.16 47.06-47.06 47.06H47.06C21.16 243.96 0 222.8 0 196.9s21.16-47.06 47.06-47.06H164.9zm188.98 47.06c0-25.9 21.16-47.06 47.06-47.06 25.9 0 47.06 21.16 47.06 47.06s-21.16 47.06-47.06 47.06h-47.06V196.9zm-23.72 0c0 25.9-21.16 47.06-47.06 47.06-25.9 0-47.06-21.16-47.06-47.06V79.06c0-25.9 21.16-47.06 47.06-47.06 25.9 0 47.06 21.16 47.06 47.06V196.9zM283.1 385.88c25.9 0 47.06 21.16 47.06 47.06 0 25.9-21.16 47.06-47.06 47.06-25.9 0-47.06-21.16-47.06-47.06v-47.06h47.06zm0-23.72c-25.9 0-47.06-21.16-47.06-47.06 0-25.9 21.16-47.06 47.06-47.06h117.84c25.9 0 47.06 21.16 47.06 47.06 0 25.9-21.16 47.06-47.06 47.06H283.1z\"/></svg>slack</a>\\n                  </p>\\n                </li>\\n              </ul>\\n            </div>\\n          </div>\\n        </div> <!-- end MetaColumn 2 -->\\n        <!-- End Macro-Column 2 -->\\n      </div>\\n    </footer>\\n</body>\\n</html>\\n'"
            ],
            "application/vnd.google.colaboratory.intrinsic+json": {
              "type": "string"
            }
          },
          "metadata": {},
          "execution_count": 15
        }
      ]
    },
    {
      "cell_type": "markdown",
      "source": [
        "There's a lot going on there. Fortunately, we can use some _relatively_ straightforward regex to find the paper abstract."
      ],
      "metadata": {
        "id": "lPbxToG5HDm_"
      }
    },
    {
      "cell_type": "code",
      "source": [
        "import re\n",
        "\n",
        "# our regex\n",
        "abstract_pattern = re.compile(\n",
        "    r'<blockquote class=\"abstract mathjax\">\\s*<span class=\"descriptor\">Abstract:</span>\\s*(.*?)\\s*</blockquote>',\n",
        "    re.DOTALL\n",
        ")\n",
        "\n",
        "# we search\n",
        "re_match = abstract_pattern.search(res.text)\n",
        "\n",
        "# and now let's see what we got\n",
        "print(re_match.group(1))"
      ],
      "metadata": {
        "colab": {
          "base_uri": "https://localhost:8080/"
        },
        "id": "efGqEsaAF26E",
        "outputId": "38ee8667-ca52-4de5-d968-ea09046e620b"
      },
      "execution_count": 16,
      "outputs": [
        {
          "output_type": "stream",
          "name": "stdout",
          "text": [
            "We introduce Mixtral 8x7B, a Sparse Mixture of Experts (SMoE) language model.\n",
            "Mixtral has the same architecture as Mistral 7B, with the difference that each\n",
            "layer is composed of 8 feedforward blocks (i.e. experts). For every token, at\n",
            "each layer, a router network selects two experts to process the current state\n",
            "and combine their outputs. Even though each token only sees two experts, the\n",
            "selected experts can be different at each timestep. As a result, each token has\n",
            "access to 47B parameters, but only uses 13B active parameters during inference.\n",
            "Mixtral was trained with a context size of 32k tokens and it outperforms or\n",
            "matches Llama 2 70B and GPT-3.5 across all evaluated benchmarks. In particular,\n",
            "Mixtral vastly outperforms Llama 2 70B on mathematics, code generation, and\n",
            "multilingual benchmarks. We also provide a model fine-tuned to follow\n",
            "instructions, Mixtral 8x7B - Instruct, that surpasses GPT-3.5 Turbo,\n",
            "Claude-2.1, Gemini Pro, and Llama 2 70B - chat model on human benchmarks. Both\n",
            "the base and instruct models are released under the Apache 2.0 license.\n"
          ]
        }
      ]
    },
    {
      "cell_type": "markdown",
      "source": [
        "Now we pack all of this logic into a tool for our agent to use."
      ],
      "metadata": {
        "id": "1vjd5FhzHpqJ"
      }
    },
    {
      "cell_type": "code",
      "source": [
        "from langchain_core.tools import tool\n",
        "\n",
        "\n",
        "@tool(\"fetch_arxiv\")\n",
        "def fetch_arxiv_tool(arxiv_id: str):\n",
        "    \"\"\"Gets the abstract from an ArXiv paper given the arxiv ID. Useful for\n",
        "    finding high-level context about a specific paper.\"\"\"\n",
        "    # get paper page in html\n",
        "    res = requests.get(\n",
        "        f\"https://export.arxiv.org/abs/{arxiv_id}\"\n",
        "    )\n",
        "    # search html for abstract\n",
        "    re_match = abstract_pattern.search(res.text)\n",
        "    # return abstract text\n",
        "    return re_match.group(1)"
      ],
      "metadata": {
        "id": "jpYR2DYsHtgb"
      },
      "execution_count": 17,
      "outputs": []
    },
    {
      "cell_type": "markdown",
      "source": [
        "Let's test the tool."
      ],
      "metadata": {
        "id": "3uydhqzKIU2F"
      }
    },
    {
      "cell_type": "code",
      "source": [
        "print(fetch_arxiv_tool(tool_input=arxiv_id))"
      ],
      "metadata": {
        "colab": {
          "base_uri": "https://localhost:8080/"
        },
        "id": "yeEnI3V7IVDe",
        "outputId": "b6b4e4ba-c6ae-436c-ef7e-1c6a3c349ea7"
      },
      "execution_count": 18,
      "outputs": [
        {
          "output_type": "stream",
          "name": "stdout",
          "text": [
            "We introduce Mixtral 8x7B, a Sparse Mixture of Experts (SMoE) language model.\n",
            "Mixtral has the same architecture as Mistral 7B, with the difference that each\n",
            "layer is composed of 8 feedforward blocks (i.e. experts). For every token, at\n",
            "each layer, a router network selects two experts to process the current state\n",
            "and combine their outputs. Even though each token only sees two experts, the\n",
            "selected experts can be different at each timestep. As a result, each token has\n",
            "access to 47B parameters, but only uses 13B active parameters during inference.\n",
            "Mixtral was trained with a context size of 32k tokens and it outperforms or\n",
            "matches Llama 2 70B and GPT-3.5 across all evaluated benchmarks. In particular,\n",
            "Mixtral vastly outperforms Llama 2 70B on mathematics, code generation, and\n",
            "multilingual benchmarks. We also provide a model fine-tuned to follow\n",
            "instructions, Mixtral 8x7B - Instruct, that surpasses GPT-3.5 Turbo,\n",
            "Claude-2.1, Gemini Pro, and Llama 2 70B - chat model on human benchmarks. Both\n",
            "the base and instruct models are released under the Apache 2.0 license.\n"
          ]
        }
      ]
    },
    {
      "cell_type": "markdown",
      "source": [
        "### Web Search"
      ],
      "metadata": {
        "id": "vLX1N7oWKiNZ"
      }
    },
    {
      "cell_type": "markdown",
      "source": [
        "The web search tool will provide the agent with access to web search. It will be instructed to use this for more general knowledge queries."
      ],
      "metadata": {
        "id": "FsOutTz9KjoL"
      }
    },
    {
      "cell_type": "code",
      "source": [
        "from serpapi import GoogleSearch\n",
        "\n",
        "serpapi_params = {\n",
        "    \"engine\": \"google\",\n",
        "    \"api_key\": os.getenv(\"SERPAPI_KEY\") or getpass(\"SerpAPI key: \")\n",
        "}\n",
        "\n",
        "search = GoogleSearch({\n",
        "    **serpapi_params,\n",
        "    \"q\": \"coffee\"\n",
        "})\n",
        "\n",
        "results = search.get_dict()[\"organic_results\"]"
      ],
      "metadata": {
        "id": "vuv_exwsH8ZJ"
      },
      "execution_count": 19,
      "outputs": []
    },
    {
      "cell_type": "code",
      "source": [
        "contexts = \"\\n---\\n\".join(\n",
        "    [\"\\n\".join([x[\"title\"], x[\"snippet\"], x[\"link\"]]) for x in results]\n",
        ")"
      ],
      "metadata": {
        "id": "KklJP-XSTqLG"
      },
      "execution_count": 20,
      "outputs": []
    },
    {
      "cell_type": "code",
      "source": [
        "print(contexts)"
      ],
      "metadata": {
        "colab": {
          "base_uri": "https://localhost:8080/"
        },
        "id": "_b083gU3T-8K",
        "outputId": "712da250-de0d-4bb9-d977-3dfec61abc9b"
      },
      "execution_count": 21,
      "outputs": [
        {
          "output_type": "stream",
          "name": "stdout",
          "text": [
            "Coffee\n",
            "Coffee is a beverage brewed from roasted coffee beans. Darkly colored, bitter, and slightly acidic, coffee has a stimulating effect on humans, primarily due ...\n",
            "https://en.wikipedia.org/wiki/Coffee\n",
            "---\n",
            "What is Coffee?\n",
            "Coffee traces its origin to a genus of plants known as Coffea. Within the genus there are over 500 genera and 6,000 species of tropical trees and shrubs.\n",
            "https://www.ncausa.org/About-Coffee/What-is-Coffee\n",
            "---\n",
            "Starbucks Coffee Company\n",
            "More than just great coffee. Explore the menu, sign up for Starbucks® Rewards, manage your gift card and more.\n",
            "https://www.starbucks.com/\n",
            "---\n",
            "Coffee | Origin, Types, Uses, History, & Facts\n",
            "Coffee, beverage brewed from the roasted and ground seeds of the tropical evergreen coffee plant of African origin. Coffee is one of the ...\n",
            "https://www.britannica.com/topic/coffee\n",
            "---\n",
            "Coffee | The Nutrition Source - HSPH.Harvard.edu\n",
            "Low to moderate doses of caffeine (50–300 mg) may cause increased alertness, energy, and ability to concentrate, while higher doses may have negative effects ...\n",
            "https://www.hsph.harvard.edu/nutritionsource/food-features/coffee/\n",
            "---\n",
            "9 Reasons Why (the Right Amount of) Coffee Is Good for You\n",
            "Drinking one to two cups of coffee a day may help ward off heart failure, when a weakened heart has difficulty pumping enough blood to the body.\n",
            "https://www.hopkinsmedicine.org/health/wellness-and-prevention/9-reasons-why-the-right-amount-of-coffee-is-good-for-you\n",
            "---\n",
            "Blue Bottle Coffee | Fresh Roasted Specialty Coffee\n",
            "Blue Bottle Coffee is a specialty coffee roaster with cafes in LA, SF, NYC, & Japan. Shop our freshly roasted specialty coffee online & in-store.\n",
            "https://bluebottlecoffee.com/\n",
            "---\n",
            "Philz Coffee: Home\n",
            "We specialize in customized blends with coffee shops in California and Chicago, IL Buy coffee online or find your nearest Philz location.\n",
            "https://philzcoffee.com/\n",
            "---\n",
            "Coffee Beanery | Flavored Coffees & Coffee Gift Baskets\n",
            "40+ Flavored Coffees & Coffee Pods | Gourmet Coffee Gift Baskets | Swiss Water Process Decaf Coffee | 100% Specialty Arabica Coffee Roasts | Since 1976.\n",
            "https://www.coffeebeanery.com/\n"
          ]
        }
      ]
    },
    {
      "cell_type": "markdown",
      "source": [
        "We put this process into a tool:"
      ],
      "metadata": {
        "id": "ZtmOt4nQH4KS"
      }
    },
    {
      "cell_type": "code",
      "source": [
        "@tool(\"web_search\")\n",
        "def web_search_schema(query: str):\n",
        "    \"\"\"Finds general knowledge information using Google search. Can also be used\n",
        "    to augment more 'general' knowledge to a previous specialist query.\"\"\"\n",
        "    search = GoogleSearch({\n",
        "        **serpapi_params,\n",
        "        \"q\": query,\n",
        "        \"num\": 5\n",
        "    })\n",
        "    results = search.get_dict()[\"organic_results\"]\n",
        "    contexts = \"\\n---\\n\".join(\n",
        "        [\"\\n\".join([x[\"title\"], x[\"snippet\"], x[\"link\"]]) for x in results]\n",
        "    )\n",
        "    return contexts"
      ],
      "metadata": {
        "id": "TYmOL54xH6GH"
      },
      "execution_count": 22,
      "outputs": []
    },
    {
      "cell_type": "markdown",
      "source": [
        "### RAG Tools"
      ],
      "metadata": {
        "id": "oCBZjWfAIN0N"
      }
    },
    {
      "cell_type": "code",
      "source": [
        "from langchain_core.tools import tool\n",
        "\n",
        "\n",
        "@tool(\"rag_search_filter\")\n",
        "def rag_search_filter_schema(query: str, arxiv_id: str):\n",
        "    \"\"\"Finds information from our ArXiv database using a natural language query\n",
        "    and a specific ArXiv ID. Allows us to learn more details about a specific paper.\"\"\"\n",
        "    xq = encoder([query])\n",
        "    xc = index.query(vector=xq, top_k=6, include_metadata=True, filter={\"arxiv_id\": arxiv_id})\n",
        "    contexts = \"\\n---\\n\".join(\n",
        "        [x[\"metadata\"][\"content\"] for x in xc[\"matches\"]]\n",
        "    )\n",
        "    return contexts\n",
        "\n",
        "@tool(\"rag_search\")\n",
        "def rag_search_schema(query: str):\n",
        "    \"\"\"Finds specialist information on AI using a natural language query.\"\"\"\n",
        "    xq = encoder([query])\n",
        "    xc = index.query(vector=xq, top_k=2, include_metadata=True)\n",
        "    contexts = \"\\n---\\n\".join(\n",
        "        [x[\"metadata\"][\"content\"] for x in xc[\"matches\"]]\n",
        "    )\n",
        "    return contexts"
      ],
      "metadata": {
        "id": "SPcrbQfdRrda"
      },
      "execution_count": 23,
      "outputs": []
    },
    {
      "cell_type": "code",
      "source": [
        "@tool(\"final_answer\")\n",
        "def final_answer_schema(\n",
        "    introduction: str,\n",
        "    research_steps: str,\n",
        "    main_body: str,\n",
        "    conclusion: str,\n",
        "    sources: str\n",
        "):\n",
        "    \"\"\"Returns a natural language response to the user in the form of a research\n",
        "    report. There are several sections to this report, those are:\n",
        "    - `introduction`: a short paragraph introducing the user's question and the\n",
        "    topic we are researching.\n",
        "    - `research_steps`: a few bullet points explaining the steps that were taken\n",
        "    to research your report.\n",
        "    - `main_body`: this is where the bulk of high quality and concise\n",
        "    information that answers the user's question belongs. It is 3-4 paragraphs\n",
        "    long in length.\n",
        "    - `conclusion`: this is a short single paragraph conclusion providing a\n",
        "    concise but sophisticated view on what was found.\n",
        "    - `sources`: a bulletpoint list provided detailed sources for all information\n",
        "    referenced during the research process\n",
        "    \"\"\"\n",
        "    if type(research_steps) is list:\n",
        "        research_steps = \"\\n\".join([f\"- {r}\" for r in research_steps])\n",
        "    if type(sources) is list:\n",
        "        sources = \"\\n\".join([f\"- {s}\" for s in sources])\n",
        "    return \"\""
      ],
      "metadata": {
        "id": "UIjAlcHdfJCG"
      },
      "execution_count": 24,
      "outputs": []
    },
    {
      "cell_type": "markdown",
      "source": [
        "## Initialize Agent"
      ],
      "metadata": {
        "id": "E8OsQ3tIS-_t"
      }
    },
    {
      "cell_type": "code",
      "source": [
        "from langchain.agents import create_openai_tools_agent\n",
        "from langchain import hub\n",
        "from langchain_openai import ChatOpenAI\n",
        "\n",
        "llm = ChatOpenAI(\n",
        "    model=\"gpt-4o\",\n",
        "    openai_api_key=os.environ[\"OPENAI_API_KEY\"],\n",
        "    temperature=0\n",
        ")\n",
        "\n",
        "prompt = hub.pull(\"hwchase17/openai-functions-agent\")\n",
        "\n",
        "oracle_agent_runnable = create_openai_tools_agent(\n",
        "    llm=llm,\n",
        "    tools=[\n",
        "        rag_search_filter_schema,\n",
        "        rag_search_schema,\n",
        "        fetch_arxiv_tool,\n",
        "        web_search_schema,\n",
        "        final_answer_schema\n",
        "    ],\n",
        "    prompt=prompt\n",
        ")"
      ],
      "metadata": {
        "id": "0gKxRe4tTBHX"
      },
      "execution_count": 26,
      "outputs": []
    },
    {
      "cell_type": "code",
      "source": [
        "prompt.messages[0].prompt.template = \"\"\"\n",
        "You are the ultimate AI research assistant. Your objective is to help users\n",
        "dive into the details of research papers. Typically a user will ask a question,\n",
        "you must use the various tools at your disposal to find more information, using the\n",
        "rag_search, web_search, rag_search_filter, and fetch_arxiv tools to maximize the\n",
        "amount of information on the topic.\n",
        "\n",
        "In no case should you use the rag_search tool more than once.\n",
        "\n",
        "Once you have completed information gathering, you must provide a small report\n",
        "to the user via the final_answer tool.\n",
        "\"\"\""
      ],
      "metadata": {
        "id": "QaaBqbJOzInO"
      },
      "execution_count": 27,
      "outputs": []
    },
    {
      "cell_type": "markdown",
      "source": [
        "Test the agent quickly to confirm it is functional:"
      ],
      "metadata": {
        "id": "ESCSupKbTuVR"
      }
    },
    {
      "cell_type": "code",
      "source": [
        "inputs = {\n",
        "    \"input\": \"tell me something interesting about dogs\",\n",
        "    \"chat_history\": [],\n",
        "    \"intermediate_steps\": [],\n",
        "}\n",
        "agent_out = oracle_agent_runnable.invoke(inputs)\n",
        "agent_out"
      ],
      "metadata": {
        "colab": {
          "base_uri": "https://localhost:8080/"
        },
        "id": "p5xMQ8ajTxFQ",
        "outputId": "03a0bbf7-f6e1-4a8f-b307-83d07fe4e08b"
      },
      "execution_count": 28,
      "outputs": [
        {
          "output_type": "execute_result",
          "data": {
            "text/plain": [
              "[ToolAgentAction(tool='rag_search', tool_input={'query': 'interesting facts about dogs'}, log=\"\\nInvoking: `rag_search` with `{'query': 'interesting facts about dogs'}`\\n\\n\\n\", message_log=[AIMessage(content='', additional_kwargs={'tool_calls': [{'id': 'call_UEn1BlIpHf2oOlAVGH92gI5n', 'function': {'arguments': '{\"query\":\"interesting facts about dogs\"}', 'name': 'rag_search'}, 'type': 'function'}]}, response_metadata={'token_usage': {'completion_tokens': 18, 'prompt_tokens': 561, 'total_tokens': 579}, 'model_name': 'gpt-4o', 'system_fingerprint': 'fp_729ea513f7', 'finish_reason': 'tool_calls', 'logprobs': None}, id='run-018f6f22-2774-43d0-9ebb-6fadabb06179-0', tool_calls=[{'name': 'rag_search', 'args': {'query': 'interesting facts about dogs'}, 'id': 'call_UEn1BlIpHf2oOlAVGH92gI5n'}])], tool_call_id='call_UEn1BlIpHf2oOlAVGH92gI5n')]"
            ]
          },
          "metadata": {},
          "execution_count": 28
        }
      ]
    },
    {
      "cell_type": "code",
      "source": [
        "agent_out[-1].message_log[-1].additional_kwargs[\"tool_calls\"][-1]"
      ],
      "metadata": {
        "colab": {
          "base_uri": "https://localhost:8080/"
        },
        "id": "u7wUMr2BUBt7",
        "outputId": "657cb8ce-8373-4540-936f-52b4ca71fec0"
      },
      "execution_count": 29,
      "outputs": [
        {
          "output_type": "execute_result",
          "data": {
            "text/plain": [
              "{'id': 'call_UEn1BlIpHf2oOlAVGH92gI5n',\n",
              " 'function': {'arguments': '{\"query\":\"interesting facts about dogs\"}',\n",
              "  'name': 'rag_search'},\n",
              " 'type': 'function'}"
            ]
          },
          "metadata": {},
          "execution_count": 29
        }
      ]
    },
    {
      "cell_type": "markdown",
      "source": [
        "We would use this information to route our state to either the `search` or `final_answer` nodes of our graph."
      ],
      "metadata": {
        "id": "bHEeL8ADZQuq"
      }
    },
    {
      "cell_type": "markdown",
      "source": [
        "## Define Nodes for Graph"
      ],
      "metadata": {
        "id": "h6pAxC9kcY1F"
      }
    },
    {
      "cell_type": "code",
      "source": [
        "from langchain_core.agents import AgentFinish\n",
        "from langchain_core.messages import AIMessage, HumanMessage\n",
        "import json\n",
        "\n",
        "def run_oracle(state: list):\n",
        "    agent_out = oracle_agent_runnable.invoke(state)\n",
        "    return {\"agent_out\": agent_out}\n",
        "\n",
        "\n",
        "# execute tools\n",
        "def execute_rag_search_filter(state: list):\n",
        "    action = state[\"agent_out\"]\n",
        "    tool_call = action[-1].message_log[-1].additional_kwargs[\"tool_calls\"][-1]\n",
        "    print(f\"execute_rag_search_filter | {tool_call['function']['arguments']}\")\n",
        "    out = rag_search_filter_schema.invoke(\n",
        "        json.loads(tool_call[\"function\"][\"arguments\"])\n",
        "    )\n",
        "    action_out = AgentAction(\n",
        "        tool=\"rag_search_filter\",\n",
        "        tool_input=json.loads(tool_call[\"function\"][\"arguments\"]),\n",
        "        log=str(out)\n",
        "    )\n",
        "    notes = f\"\"\"rag_search_filter tool results:\n",
        "    {out}\n",
        "    \"\"\"\n",
        "    return {\n",
        "        \"intermediate_steps\": [(action_out, str(out))],\n",
        "        \"chat_history\": [\n",
        "            *state[\"chat_history\"],\n",
        "            HumanMessage(content=notes, name=\"Assistant\")\n",
        "        ]\n",
        "    }\n",
        "\n",
        "def execute_rag_search(state: list):\n",
        "    action = state[\"agent_out\"]\n",
        "    tool_call = action[-1].message_log[-1].additional_kwargs[\"tool_calls\"][-1]\n",
        "    print(f\"execute_rag_search | {tool_call['function']['arguments']}\")\n",
        "    out = rag_search_schema.invoke(\n",
        "        json.loads(tool_call[\"function\"][\"arguments\"])\n",
        "    )\n",
        "    action_out = AgentAction(\n",
        "        tool=\"rag_search\",\n",
        "        tool_input=json.loads(tool_call[\"function\"][\"arguments\"]),\n",
        "        log=str(out)\n",
        "    )\n",
        "    notes = f\"\"\"rag_search tool results:\n",
        "    {out}\"\"\"\n",
        "    return {\n",
        "        \"intermediate_steps\": [(action_out, str(out))],\n",
        "        \"chat_history\": [\n",
        "            *state[\"chat_history\"],\n",
        "            HumanMessage(content=notes, name=\"Assistant\")\n",
        "        ]\n",
        "    }\n",
        "\n",
        "def execute_fetch_arxiv(state: list):\n",
        "    action = state[\"agent_out\"]\n",
        "    tool_call = action[-1].message_log[-1].additional_kwargs[\"tool_calls\"][-1]\n",
        "    print(f\"execute_fetch_arxiv | {tool_call['function']['arguments']}\")\n",
        "    out = fetch_arxiv_tool.invoke(\n",
        "        json.loads(tool_call[\"function\"][\"arguments\"])\n",
        "    )\n",
        "    action_out = AgentAction(\n",
        "        tool=\"fetch_arxiv\",\n",
        "        tool_input=json.loads(tool_call[\"function\"][\"arguments\"]),\n",
        "        log=str(out)\n",
        "    )\n",
        "    notes = f\"\"\"fetch_arxiv tool results:\n",
        "    {out}\"\"\"\n",
        "    return {\n",
        "        \"intermediate_steps\": [(action_out, str(out))],\n",
        "        \"chat_history\": [\n",
        "            *state[\"chat_history\"],\n",
        "            HumanMessage(content=notes, name=\"Assistant\")\n",
        "        ]\n",
        "    }\n",
        "\n",
        "def execute_web_search(state: list):\n",
        "    action = state[\"agent_out\"]\n",
        "    tool_call = action[-1].message_log[-1].additional_kwargs[\"tool_calls\"][-1]\n",
        "    print(f\"execute_web_search | {tool_call['function']['arguments']}\")\n",
        "    out = web_search_schema.invoke(\n",
        "        json.loads(tool_call[\"function\"][\"arguments\"])\n",
        "    )\n",
        "    action_out = AgentAction(\n",
        "        tool=\"web_search\",\n",
        "        tool_input=json.loads(tool_call[\"function\"][\"arguments\"]),\n",
        "        log=str(out)\n",
        "    )\n",
        "    notes = f\"\"\"execute_search tool results:\n",
        "    {out}\"\"\"\n",
        "    return {\n",
        "        \"intermediate_steps\": [(action_out, str(out))],\n",
        "        \"chat_history\": [\n",
        "            *state[\"chat_history\"],\n",
        "            HumanMessage(content=notes, name=\"Assistant\")\n",
        "        ]\n",
        "    }\n",
        "\n",
        "def router(state: list):\n",
        "    if isinstance(state[\"agent_out\"], list):\n",
        "        return state[\"agent_out\"][-1].tool\n",
        "    else:\n",
        "        return \"error\"\n",
        "\n",
        "# finally, we will have a single LLM call that MUST use structured output\n",
        "final_answer_llm = llm.bind_tools([final_answer_schema], tool_choice=\"final_answer\")\n",
        "\n",
        "def final_answer(state: list):\n",
        "    print(f\"final_answer\")\n",
        "    query = state[\"input\"]\n",
        "    context = state[\"intermediate_steps\"][-1]\n",
        "\n",
        "    prompt = f\"\"\"You are a helpful assistant, answer the user's question using the\n",
        "    previous research steps performed:\n",
        "\n",
        "    RESEARCH STEPS:\"\"\" + str(state[\"chat_history\"]) + f\"\"\"\n",
        "\n",
        "    QUESTION: {query}\n",
        "    \"\"\"\n",
        "    out = final_answer_llm.invoke(prompt)\n",
        "    function_call = out.additional_kwargs[\"tool_calls\"][-1][\"function\"][\"arguments\"]\n",
        "    return {\"agent_out\": function_call}\n",
        "\n",
        "def handle_error(state: list):\n",
        "    print(f\"handle_error\")\n",
        "    query = state[\"input\"]\n",
        "    prompt = f\"\"\"You are a helpful assistant, answer the user's question.\n",
        "\n",
        "    QUESTION: {query}\n",
        "    \"\"\"\n",
        "    out = final_answer_llm.invoke(prompt)\n",
        "    function_call = out.additional_kwargs[\"tool_calls\"][-1][\"function\"][\"arguments\"]\n",
        "    return {\"agent_out\": function_call}"
      ],
      "metadata": {
        "id": "-JGJGvDVcbvq"
      },
      "execution_count": 30,
      "outputs": []
    },
    {
      "cell_type": "markdown",
      "source": [
        "## Define Graph"
      ],
      "metadata": {
        "id": "zwv4EsTKeZzh"
      }
    },
    {
      "cell_type": "code",
      "source": [
        "from langgraph.graph import StateGraph, END\n",
        "\n",
        "graph = StateGraph(AgentState)\n",
        "\n",
        "graph.add_node(\"oracle\", run_oracle)\n",
        "graph.add_node(\"rag_search_filter\", execute_rag_search_filter)\n",
        "graph.add_node(\"rag_search\", execute_rag_search)\n",
        "graph.add_node(\"fetch_arxiv\", execute_fetch_arxiv)\n",
        "graph.add_node(\"web_search\", execute_web_search)\n",
        "graph.add_node(\"error\", handle_error)\n",
        "#graph.add_node(\"final_answer_aggregator\", final_answer)\n",
        "\n",
        "graph.set_entry_point(\"oracle\")\n",
        "\n",
        "graph.add_conditional_edges(\n",
        "    start_key=\"oracle\",  # where in graph to start\n",
        "    condition=router,  # function to determine which node is called\n",
        "    conditional_edge_mapping={\n",
        "        \"rag_search_filter\": \"rag_search_filter\",\n",
        "        \"rag_search\": \"rag_search\",\n",
        "        \"fetch_arxiv\": \"fetch_arxiv\",\n",
        "        \"web_search\": \"web_search\",\n",
        "        \"error\": \"error\",\n",
        "        \"final_answer\": END\n",
        "    }\n",
        ")\n",
        "graph.add_edge(\"rag_search\", \"oracle\")\n",
        "graph.add_edge(\"rag_search_filter\", \"oracle\")\n",
        "graph.add_edge(\"fetch_arxiv\", \"oracle\")\n",
        "graph.add_edge(\"web_search\", \"oracle\")\n",
        "graph.add_edge(\"error\", END)\n",
        "#graph.add_edge(\"final_answer_aggregator\", END)\n",
        "\n",
        "runnable = graph.compile()"
      ],
      "metadata": {
        "id": "LAkcBE5pebXv"
      },
      "execution_count": 31,
      "outputs": []
    },
    {
      "cell_type": "code",
      "source": [
        "from IPython.display import Image\n",
        "\n",
        "Image(runnable.get_graph().draw_png())"
      ],
      "metadata": {
        "colab": {
          "base_uri": "https://localhost:8080/",
          "height": 533
        },
        "id": "EmwkoQkthb__",
        "outputId": "56eaba2c-d336-4ba6-f943-dbf71e0dcdea"
      },
      "execution_count": 32,
      "outputs": [
        {
          "output_type": "execute_result",
          "data": {
            "image/png": "[encoded data removed]",
            "text/plain": [
              "<IPython.core.display.Image object>"
            ]
          },
          "metadata": {},
          "execution_count": 32
        }
      ]
    },
    {
      "cell_type": "markdown",
      "source": [
        "## Building Reports"
      ],
      "metadata": {
        "id": "QmrXAdCwiN8N"
      }
    },
    {
      "cell_type": "markdown",
      "source": [
        "Let's test our research agent. First, I want to try on something simple (although not within the intended use-case of our agent):"
      ],
      "metadata": {
        "id": "nPJiet2niPnQ"
      }
    },
    {
      "cell_type": "code",
      "source": [
        "out = runnable.invoke({\n",
        "    \"input\": \"tell me something interesting about dogs\",\n",
        "    \"chat_history\": [],\n",
        "})"
      ],
      "metadata": {
        "id": "eghr8ZBI-IJL",
        "colab": {
          "base_uri": "https://localhost:8080/"
        },
        "outputId": "05c7c759-2449-47d6-fc94-1becfa311624"
      },
      "execution_count": 33,
      "outputs": [
        {
          "output_type": "stream",
          "name": "stdout",
          "text": [
            "execute_rag_search | {\"query\":\"interesting facts about dogs\"}\n",
            "execute_web_search | {\"query\":\"interesting facts about dogs\"}\n"
          ]
        }
      ]
    },
    {
      "cell_type": "markdown",
      "source": [
        "Let's create a function to consume the agent output and format it into our report:"
      ],
      "metadata": {
        "id": "YjwDv5zvjACg"
      }
    },
    {
      "cell_type": "code",
      "source": [
        "def build_report(output: dict):\n",
        "    research_steps = output[\"research_steps\"]\n",
        "    if type(research_steps) is list:\n",
        "        research_steps = \"\\n\".join([f\"- {r}\" for r in research_steps])\n",
        "    sources = output[\"sources\"]\n",
        "    if type(sources) is list:\n",
        "        sources = \"\\n\".join([f\"- {s}\" for s in sources])\n",
        "    return f\"\"\"\n",
        "INTRODUCTION\n",
        "------------\n",
        "{output[\"introduction\"]}\n",
        "\n",
        "RESEARCH STEPS\n",
        "--------------\n",
        "{research_steps}\n",
        "\n",
        "REPORT\n",
        "------\n",
        "{output[\"main_body\"]}\n",
        "\n",
        "CONCLUSION\n",
        "----------\n",
        "{output[\"conclusion\"]}\n",
        "\n",
        "SOURCES\n",
        "-------\n",
        "{sources}\n",
        "\"\"\""
      ],
      "metadata": {
        "id": "xZxjrfBfjFPl"
      },
      "execution_count": 34,
      "outputs": []
    },
    {
      "cell_type": "code",
      "source": [
        "print(build_report(output=out[\"agent_out\"][0].tool_input))"
      ],
      "metadata": {
        "colab": {
          "base_uri": "https://localhost:8080/"
        },
        "id": "xjbPRhk8dhfs",
        "outputId": "9c37e159-6fbc-4881-9be3-1aafbcb15f47"
      },
      "execution_count": 35,
      "outputs": [
        {
          "output_type": "stream",
          "name": "stdout",
          "text": [
            "\n",
            "INTRODUCTION\n",
            "------------\n",
            "Dogs are fascinating creatures with a rich history and a variety of unique traits. They have been companions to humans for thousands of years, and their abilities and behaviors continue to amaze us.\n",
            "\n",
            "RESEARCH STEPS\n",
            "--------------\n",
            "1. Conducted a rag_search to gather specialist information on dogs.\n",
            "2. Performed a web_search to find general knowledge and interesting facts about dogs.\n",
            "3. Compiled the most intriguing and lesser-known facts about dogs from various sources.\n",
            "\n",
            "REPORT\n",
            "------\n",
            "One of the most interesting facts about dogs is their incredible sense of smell. Dogs can smell up to 40 times better than humans, thanks to the 300 million olfactory receptors in their noses compared to the 6 million in humans. This extraordinary sense of smell allows them to detect a wide range of scents, from drugs and explosives to diseases like cancer and diabetes.\n",
            "\n",
            "Dogs also have a remarkable sense of time. Studies have shown that dogs can differentiate between different lengths of time and can even predict future events based on past experiences. For example, they often know when it's time for their daily walk or when their owner is due to return home.\n",
            "\n",
            "Another fascinating aspect of dogs is their ability to understand human emotions. Dogs are highly attuned to their owners' feelings and can sense changes in mood through body language, tone of voice, and even scent. This ability makes them excellent companions and therapy animals, providing comfort and support to people in need.\n",
            "\n",
            "Additionally, dogs have a unique way of communicating with humans and other dogs. They use a combination of vocalizations, body language, and facial expressions to convey their feelings and intentions. For instance, a wagging tail can indicate happiness, while a lowered tail might suggest fear or submission.\n",
            "      \n",
            "CONCLUSION\n",
            "----------\n",
            "Dogs are truly remarkable animals with a wide range of abilities and traits that make them special. From their exceptional sense of smell to their understanding of human emotions, dogs continue to be invaluable companions to humans. Their unique characteristics and behaviors are a testament to their long-standing relationship with people.\n",
            "      \n",
            "SOURCES\n",
            "-------\n",
            "- https://www.mspca.org/pet_resources/interesting-facts-about-dogs/\n",
            "- https://www.akc.org/expert-advice/lifestyle/dog-facts/\n",
            "- https://www.montecitopethospital.com/site/blog/2023/09/15/fun-dog-facts-kids\n",
            "- https://www.natgeokids.com/uk/discover/animals/general-animals/dog-facts/\n",
            "- https://www.thedrakecenter.com/services/dogs/blog/23-amazing-facts-about-dogs-you-probably-didnt-know\n",
            "\n"
          ]
        }
      ]
    },
    {
      "cell_type": "markdown",
      "source": [
        "Now let's try with an on-topic question on AI."
      ],
      "metadata": {
        "id": "TBgBR3PdiXIg"
      }
    },
    {
      "cell_type": "code",
      "source": [
        "out = runnable.invoke({\n",
        "    \"input\": \"tell me about AI\",\n",
        "    \"chat_history\": []\n",
        "})"
      ],
      "metadata": {
        "colab": {
          "base_uri": "https://localhost:8080/"
        },
        "id": "a21f9VneePw_",
        "outputId": "321a2ce7-37e1-4eab-ca34-93241c80ca11"
      },
      "execution_count": 46,
      "outputs": [
        {
          "output_type": "stream",
          "name": "stdout",
          "text": [
            "execute_rag_search | {\"query\":\"AI\"}\n",
            "execute_web_search | {\"query\":\"AI overview\"}\n"
          ]
        }
      ]
    },
    {
      "cell_type": "code",
      "source": [
        "print(build_report(output=out[\"agent_out\"][0].tool_input))"
      ],
      "metadata": {
        "colab": {
          "base_uri": "https://localhost:8080/"
        },
        "id": "W3Xuh__OfzH0",
        "outputId": "a21d57a0-10bd-43cb-fff0-19430b8d3a8d"
      },
      "execution_count": 47,
      "outputs": [
        {
          "output_type": "stream",
          "name": "stdout",
          "text": [
            "\n",
            "INTRODUCTION\n",
            "------------\n",
            "Artificial Intelligence (AI) is a rapidly evolving field that encompasses a wide range of technologies and applications. From personalized learning to autonomous agents, AI is transforming various aspects of our lives.\n",
            "\n",
            "RESEARCH STEPS\n",
            "--------------\n",
            "1. Conducted a rag_search to gather specialist information on AI.\n",
            "2. Performed a web_search to find general knowledge and recent developments in AI.\n",
            "3. Compiled and synthesized the information to provide a comprehensive overview.\n",
            "\n",
            "REPORT\n",
            "------\n",
            "Artificial Intelligence (AI) is a broad field that involves the use of data, algorithms, and human feedback to create systems capable of performing tasks that typically require human intelligence. These tasks include learning, reasoning, problem-solving, perception, and language understanding. AI technologies are being applied in various domains, including healthcare, finance, education, and entertainment.\n",
            "\n",
            "One notable application of AI is in personalized learning and well-being. AI-generated characters, as discussed in a paper published in Nature Machine Intelligence, are being used to support personalized learning experiences. These characters can adapt to individual learning styles and provide emotional support, enhancing the overall learning experience.\n",
            "\n",
            "Another significant development in AI is the creation of autonomous agents. These agents leverage advanced language models like GPT-4, vector search technologies like Pinecone, and frameworks like LangChain to perform a wide range of tasks autonomously. They can be configured and deployed rapidly, making them useful for research, coding, collaboration, and general-purpose applications. For instance, Chatbot Pi3, an LLM-based chatting AI agent, not only serves productivity needs but also focuses on emotional companionship, allowing users to communicate as naturally as they would with a close friend.\n",
            "\n",
            "Generative AI is another exciting area of AI research. Companies like Google are using generative AI to create new experiences and applications. These AI models are capable of generating text, images, and other content, opening up new possibilities for creativity and innovation.\n",
            "      \n",
            "CONCLUSION\n",
            "----------\n",
            "AI is a transformative technology with a wide range of applications. From personalized learning to autonomous agents and generative AI, the advancements in this field are reshaping how we interact with technology and each other. As AI continues to evolve, it will undoubtedly play an increasingly important role in our daily lives.\n",
            "      \n",
            "SOURCES\n",
            "-------\n",
            "- Nature Machine Intelligence, 3(12):1013-1022, 2021.\n",
            "- Workshop on Social Intelligence in Humans and Robots at RSS 2023, 2023.\n",
            "- https://www.finra.org/rules-guidance/key-topics/fintech/report/artificial-intelligence-in-the-securities-industry/overview-of-ai-tech\n",
            "- https://searchengineland.com/google-rolls-out-ai-overviews-in-us-with-more-countries-coming-soon-440418\n",
            "- https://ai.google/discover/generativeai/\n",
            "\n"
          ]
        }
      ]
    },
    {
      "cell_type": "markdown",
      "source": [
        "Let's ask about RAG specifically."
      ],
      "metadata": {
        "id": "JNyxZL4SNjhX"
      }
    },
    {
      "cell_type": "code",
      "source": [
        "out = runnable.invoke({\n",
        "    \"input\": \"what is retrieval augmented generation?\",\n",
        "    \"chat_history\": []\n",
        "})"
      ],
      "metadata": {
        "id": "x0VmnWlWE6Lg",
        "colab": {
          "base_uri": "https://localhost:8080/"
        },
        "outputId": "d488b7b0-8c80-4169-d69b-1e8f3a4a849f"
      },
      "execution_count": 48,
      "outputs": [
        {
          "output_type": "stream",
          "name": "stdout",
          "text": [
            "execute_rag_search | {\"query\":\"retrieval augmented generation\"}\n",
            "execute_web_search | {\"query\":\"Retrieval-Augmented Generation (RAG)\"}\n"
          ]
        }
      ]
    },
    {
      "cell_type": "code",
      "source": [
        "print(build_report(output=out[\"agent_out\"][0].tool_input))"
      ],
      "metadata": {
        "id": "I7LssyU4Nqis",
        "colab": {
          "base_uri": "https://localhost:8080/"
        },
        "outputId": "0144d918-ee58-471a-c16e-baf441761e32"
      },
      "execution_count": 49,
      "outputs": [
        {
          "output_type": "stream",
          "name": "stdout",
          "text": [
            "\n",
            "INTRODUCTION\n",
            "------------\n",
            "Retrieval-Augmented Generation (RAG) is an advanced AI framework designed to enhance the performance of generative models by integrating external information retrieval mechanisms. This approach aims to address the limitations of large language models (LLMs) by grounding their outputs in accurate and relevant external knowledge.\n",
            "\n",
            "RESEARCH STEPS\n",
            "--------------\n",
            "- Conducted a RAG search to gather specialist information on Retrieval-Augmented Generation.\n",
            "- Performed a web search to obtain general knowledge and explanations about RAG.\n",
            "- Compiled and synthesized the information to provide a comprehensive overview of RAG.\n",
            "\n",
            "REPORT\n",
            "------\n",
            "Retrieval-Augmented Generation (RAG) is a technique that combines the strengths of information retrieval systems with generative AI models. The primary goal of RAG is to improve the accuracy and reliability of generative models by incorporating external documents and knowledge bases into the generation process. This is particularly useful for mitigating the intrinsic limitations of LLMs, such as their tendency to generate plausible but incorrect or nonsensical answers.\n",
            "\n",
            "In a typical RAG system, there are two main components: the retriever and the generator. The retriever is responsible for fetching relevant information from an external knowledge base or document repository. This information is then passed to the generator, which uses it to produce more accurate and contextually appropriate responses. By grounding the generative process in external knowledge, RAG systems can provide more factual and reliable outputs.\n",
            "\n",
            "RAG has been applied in various domains, including code generation and question answering. For instance, in the context of code generation, RAG can retrieve relevant code snippets or documentation to assist in generating accurate code. Similarly, in question answering, RAG can fetch authoritative information from pre-determined knowledge sources to ensure that the answers provided are well-grounded in factual data.\n",
            "\n",
            "The flexibility of RAG allows for different levels of integration between the retrieved knowledge and the generative model. Some approaches may prioritize a clear separation between context interpretation and knowledge memorization, while others may allow for a more seamless integration of the two. This adaptability makes RAG a powerful tool for enhancing the capabilities of generative AI models across various applications.\n",
            "      \n",
            "CONCLUSION\n",
            "----------\n",
            "Retrieval-Augmented Generation (RAG) represents a significant advancement in the field of AI by addressing the limitations of large language models through the integration of external knowledge. By combining information retrieval with generative modeling, RAG systems can produce more accurate, reliable, and contextually appropriate outputs, making them valuable in a wide range of applications.\n",
            "      \n",
            "SOURCES\n",
            "-------\n",
            "- https://blogs.nvidia.com/blog/what-is-retrieval-augmented-generation/\n",
            "- https://aws.amazon.com/what-is/retrieval-augmented-generation/\n",
            "- https://research.ibm.com/blog/retrieval-augmented-generation-RAG\n",
            "- https://www.promptingguide.ai/techniques/rag\n",
            "\n"
          ]
        }
      ]
    },
    {
      "cell_type": "markdown",
      "source": [
        "---"
      ],
      "metadata": {
        "id": "rp2uaRW7cAoM"
      }
    }
  ]
}