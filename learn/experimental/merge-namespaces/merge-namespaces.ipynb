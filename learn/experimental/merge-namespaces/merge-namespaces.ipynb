{
 "cells": [
  {
   "cell_type": "markdown",
   "metadata": {},
   "source": [
    "[![Open In Colab](https://colab.research.google.com/assets/colab-badge.svg)](https://colab.research.google.com/github/pinecone-io/examples/blob/master/learn/experimental/merge-namespaces/merge-namespaces.ipynb) [![Open nbviewer](https://raw.githubusercontent.com/pinecone-io/examples/master/assets/nbviewer-shield.svg)](https://nbviewer.org/github/pinecone-io/examples/blob/master/learn/experimental/merge-namespaces/merge-namespaces.ipynb)"
   ]
  },
  {
   "cell_type": "markdown",
   "metadata": {},
   "source": [
    "# Merging Namespaces in a Pinecone Index"
   ]
  },
  {
   "cell_type": "markdown",
   "metadata": {},
   "source": [
    "This notebook queries vectors out of two namespaces `ns1` and `ns2` and upsesrts them to a new namespace named `merged`.\n",
    "\n",
    "Please note this code is **experimental** and not guaranteed to work by Pinecone. Test thoroughly before using in production."
   ]
  },
  {
   "cell_type": "code",
   "execution_count": null,
   "metadata": {},
   "outputs": [],
   "source": [
    "%pip install -qU pinecone-notebooks pinecone-client[grpc]"
   ]
  },
  {
   "cell_type": "code",
   "execution_count": null,
   "metadata": {},
   "outputs": [],
   "source": [
    "from pinecone.grpc import PineconeGRPC as Pinecone\n",
    "from pinecone import ServerlessSpec\n",
    "import os\n",
    "\n",
    "# The generated API key is available in the PINECONE_API_KEY environment variable\n",
    "api_key = os.environ.get('PINECONE_API_KEY')\n",
    "\n",
    "# Use the API key to initialize the Pinecone client\n",
    "pc = Pinecone(api_key=api_key)\n",
    "\n",
    "# Connect to your index\n",
    "index_name = \"namespace-test\" # replace with the correct index name\n",
    "index = pc.Index(index_name)"
   ]
  },
  {
   "cell_type": "code",
   "execution_count": null,
   "metadata": {},
   "outputs": [],
   "source": [
    "import random\n",
    "\n",
    "dimension = index.describe_index_stats()['dimension']\n",
    "# Function to fetch all vectors from a namespace\n",
    "def fetch_all_vectors(namespace):\n",
    "    count = index.describe_index_stats()['namespaces'][namespace]['vector_count']\n",
    "    random_vecs = [random.random() for _ in range(dimension)]\n",
    "    response = index.query(\n",
    "        namespace=namespace,\n",
    "        vector=random_vecs,\n",
    "        top_k=count,\n",
    "        include_values=True\n",
    "    )\n",
    "    return response['matches']\n",
    "\n",
    "# Fetch vectors from ns1 and ns2\n",
    "vectors_ns1 = fetch_all_vectors(\"ns1\")\n",
    "vectors_ns2 = fetch_all_vectors(\"ns2\")"
   ]
  }
 ],
 "metadata": {
  "language_info": {
   "name": "python"
  }
 },
 "nbformat": 4,
 "nbformat_minor": 2
}
