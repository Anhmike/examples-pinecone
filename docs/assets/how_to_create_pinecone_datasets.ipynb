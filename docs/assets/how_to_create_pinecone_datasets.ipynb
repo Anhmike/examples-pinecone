{
 "cells": [
  {
   "cell_type": "markdown",
   "metadata": {},
   "source": [
    "[![Open In Colab](https://colab.research.google.com/assets/colab-badge.svg)](https://colab.research.google.com/github/pinecone-io/examples/blob/master/docs/assets/how_to_create_pinecone_datasets.ipynb) \n",
    "[![Open nbviewer](https://raw.githubusercontent.com/pinecone-io/examples/master/assets/nbviewer-shield.svg)](https://nbviewer.org/github/pinecone-io/examples/blob/master/docs/assets/how_to_create_pinecone_datasets.ipynb)\n",
    "\n",
    "# Creaeting Pinecone Datasets"
   ]
  },
  {
   "cell_type": "markdown",
   "metadata": {},
   "source": [
    "This notebook will walk you through the process of creating a Pinecone dataset from a pandas Dataframe."
   ]
  },
  {
   "cell_type": "markdown",
   "metadata": {},
   "source": [
    "## Step 1: create a simple sample dataset"
   ]
  },
  {
   "cell_type": "code",
   "execution_count": 25,
   "metadata": {},
   "outputs": [
    {
     "name": "stdout",
     "output_type": "stream",
     "text": [
      "Defaulting to user installation because normal site-packages is not writeable\n",
      "Requirement already satisfied: pandas in /Users/roymiara/Library/Python/3.9/lib/python/site-packages (2.0.2)\n",
      "Requirement already satisfied: python-dateutil>=2.8.2 in /Users/roymiara/Library/Python/3.9/lib/python/site-packages (from pandas) (2.8.2)\n",
      "Requirement already satisfied: pytz>=2020.1 in /Users/roymiara/Library/Python/3.9/lib/python/site-packages (from pandas) (2022.2.1)\n",
      "Requirement already satisfied: tzdata>=2022.1 in /Users/roymiara/Library/Python/3.9/lib/python/site-packages (from pandas) (2022.7)\n",
      "Requirement already satisfied: numpy>=1.20.3 in /Users/roymiara/Library/Python/3.9/lib/python/site-packages (from pandas) (1.24.2)\n",
      "Requirement already satisfied: six>=1.5 in /Library/Developer/CommandLineTools/Library/Frameworks/Python3.framework/Versions/3.9/lib/python3.9/site-packages (from python-dateutil>=2.8.2->pandas) (1.15.0)\n",
      "\n",
      "\u001b[1m[\u001b[0m\u001b[34;49mnotice\u001b[0m\u001b[1;39;49m]\u001b[0m\u001b[39;49m A new release of pip is available: \u001b[0m\u001b[31;49m23.1.2\u001b[0m\u001b[39;49m -> \u001b[0m\u001b[32;49m23.2.1\u001b[0m\n",
      "\u001b[1m[\u001b[0m\u001b[34;49mnotice\u001b[0m\u001b[1;39;49m]\u001b[0m\u001b[39;49m To update, run: \u001b[0m\u001b[32;49m/Library/Developer/CommandLineTools/usr/bin/python3 -m pip install --upgrade pip\u001b[0m\n"
     ]
    }
   ],
   "source": [
    "!pip install pandas"
   ]
  },
  {
   "cell_type": "code",
   "execution_count": 26,
   "metadata": {},
   "outputs": [],
   "source": [
    "import pandas as pd"
   ]
  },
  {
   "cell_type": "code",
   "execution_count": 27,
   "metadata": {},
   "outputs": [
    {
     "data": {
      "text/html": [
       "<div>\n",
       "<style scoped>\n",
       "    .dataframe tbody tr th:only-of-type {\n",
       "        vertical-align: middle;\n",
       "    }\n",
       "\n",
       "    .dataframe tbody tr th {\n",
       "        vertical-align: top;\n",
       "    }\n",
       "\n",
       "    .dataframe thead th {\n",
       "        text-align: right;\n",
       "    }\n",
       "</style>\n",
       "<table border=\"1\" class=\"dataframe\">\n",
       "  <thead>\n",
       "    <tr style=\"text-align: right;\">\n",
       "      <th></th>\n",
       "      <th>id</th>\n",
       "      <th>values</th>\n",
       "      <th>sparse_values</th>\n",
       "      <th>metadata</th>\n",
       "      <th>blob</th>\n",
       "    </tr>\n",
       "  </thead>\n",
       "  <tbody>\n",
       "    <tr>\n",
       "      <th>0</th>\n",
       "      <td>1</td>\n",
       "      <td>[0.1, 0.2, 0.3]</td>\n",
       "      <td>{'indices': [1, 2, 3], 'values': [0.1, 0.2, 0.3]}</td>\n",
       "      <td>{'title': 'title1', 'url': 'url1'}</td>\n",
       "      <td>{'extra_field': 'extra_value'}</td>\n",
       "    </tr>\n",
       "    <tr>\n",
       "      <th>1</th>\n",
       "      <td>2</td>\n",
       "      <td>[0.4, 0.5, 0.6]</td>\n",
       "      <td>{'indices': [4, 5, 6], 'values': [0.4, 0.5, 0.6]}</td>\n",
       "      <td>{'title': 'title2', 'url': 'url2'}</td>\n",
       "      <td>None</td>\n",
       "    </tr>\n",
       "    <tr>\n",
       "      <th>2</th>\n",
       "      <td>3</td>\n",
       "      <td>[0.7, 0.8, 0.9]</td>\n",
       "      <td>{'indices': [7, 8, 9], 'values': [0.7, 0.8, 0.9]}</td>\n",
       "      <td>{'title': 'title3', 'url': 'url3'}</td>\n",
       "      <td>None</td>\n",
       "    </tr>\n",
       "    <tr>\n",
       "      <th>3</th>\n",
       "      <td>4</td>\n",
       "      <td>[1.0, 1.1, 1.2]</td>\n",
       "      <td>{'indices': [10, 11, 12], 'values': [1.0, 1.1,...</td>\n",
       "      <td>{'title': 'title4', 'url': 'url4'}</td>\n",
       "      <td>None</td>\n",
       "    </tr>\n",
       "    <tr>\n",
       "      <th>4</th>\n",
       "      <td>5</td>\n",
       "      <td>[1.3, 1.4, 1.5]</td>\n",
       "      <td>{'indices': [13, 14, 15], 'values': [1.3, 1.4,...</td>\n",
       "      <td>{'title': 'title5', 'url': 'url5'}</td>\n",
       "      <td>{'another_field': 'another_value'}</td>\n",
       "    </tr>\n",
       "  </tbody>\n",
       "</table>\n",
       "</div>"
      ],
      "text/plain": [
       "  id           values                                      sparse_values  \\\n",
       "0  1  [0.1, 0.2, 0.3]  {'indices': [1, 2, 3], 'values': [0.1, 0.2, 0.3]}   \n",
       "1  2  [0.4, 0.5, 0.6]  {'indices': [4, 5, 6], 'values': [0.4, 0.5, 0.6]}   \n",
       "2  3  [0.7, 0.8, 0.9]  {'indices': [7, 8, 9], 'values': [0.7, 0.8, 0.9]}   \n",
       "3  4  [1.0, 1.1, 1.2]  {'indices': [10, 11, 12], 'values': [1.0, 1.1,...   \n",
       "4  5  [1.3, 1.4, 1.5]  {'indices': [13, 14, 15], 'values': [1.3, 1.4,...   \n",
       "\n",
       "                             metadata                                blob  \n",
       "0  {'title': 'title1', 'url': 'url1'}      {'extra_field': 'extra_value'}  \n",
       "1  {'title': 'title2', 'url': 'url2'}                                None  \n",
       "2  {'title': 'title3', 'url': 'url3'}                                None  \n",
       "3  {'title': 'title4', 'url': 'url4'}                                None  \n",
       "4  {'title': 'title5', 'url': 'url5'}  {'another_field': 'another_value'}  "
      ]
     },
     "execution_count": 27,
     "metadata": {},
     "output_type": "execute_result"
    }
   ],
   "source": [
    "documents = [\n",
    "    {\n",
    "        \"id\": \"1\",\n",
    "        \"values\": [0.1, 0.2, 0.3],\n",
    "        \"sparse_values\": {\"indices\": [1, 2, 3], \"values\": [0.1, 0.2, 0.3]},\n",
    "        \"metadata\": {\"title\": \"title1\", \"url\": \"url1\"},\n",
    "        \"blob\": {\"extra_field\": \"extra_value\"},\n",
    "    },\n",
    "    {\n",
    "        \"id\": \"2\",\n",
    "        \"values\": [0.4, 0.5, 0.6],\n",
    "        \"sparse_values\": {\"indices\": [4, 5, 6], \"values\": [0.4, 0.5, 0.6]},\n",
    "        \"metadata\": {\"title\": \"title2\", \"url\": \"url2\"},\n",
    "        \"blob\": None,\n",
    "    },\n",
    "    {\n",
    "        \"id\": \"3\",\n",
    "        \"values\": [0.7, 0.8, 0.9],\n",
    "        \"sparse_values\": {\"indices\": [7, 8, 9], \"values\": [0.7, 0.8, 0.9]},\n",
    "        \"metadata\": {\"title\": \"title3\", \"url\": \"url3\"},\n",
    "        \"blob\": None,\n",
    "    },\n",
    "    {\n",
    "        \"id\": \"4\",\n",
    "        \"values\": [1.0, 1.1, 1.2],\n",
    "        \"sparse_values\": {\"indices\": [10, 11, 12], \"values\": [1.0, 1.1, 1.2]},\n",
    "        \"metadata\": {\"title\": \"title4\", \"url\": \"url4\"},\n",
    "        \"blob\": None,\n",
    "    },\n",
    "    {\n",
    "        \"id\": \"5\",\n",
    "        \"values\": [1.3, 1.4, 1.5],\n",
    "        \"sparse_values\": {\"indices\": [13, 14, 15], \"values\": [1.3, 1.4, 1.5]},\n",
    "        \"metadata\": {\"title\": \"title5\", \"url\": \"url5\"},\n",
    "        \"blob\": {\"another_field\": \"another_value\"},\n",
    "    }\n",
    "]\n",
    "\n",
    "df = pd.DataFrame(documents)\n",
    "df"
   ]
  },
  {
   "cell_type": "markdown",
   "metadata": {},
   "source": [
    "Some notes:\n",
    "* Note that we have both metadata field and 'blob' field, the metadata field is the acutal pinecone metadata we will use in our index, blob, is an additional field that we can use to store any additional information we want to store along with the Dataset.\n",
    "* here we used both 'values' and 'sparse_values', however, sparse_values is not a mandatory field, if you don't have sparse values keep it empty."
   ]
  },
  {
   "cell_type": "markdown",
   "metadata": {},
   "source": [
    "## Pinecone Dataset\n",
    "\n",
    "Now that we have our data Ready, we can create a Pinecone Dataset. A Pinecone Dataset is a collection of documtents, queries and Metadata. We can create a Pinecone \n",
    "* Documents: a collection of records with Id, Vectors (dense, sparse) and metadata\n",
    "* Queries: a collection of queries with Vectors (dense, sparse), metadata filter and top_k\n",
    "* Metadata: a defintion of the dataset: Name, dimension, metric, embedding models, etc."
   ]
  },
  {
   "cell_type": "code",
   "execution_count": null,
   "metadata": {},
   "outputs": [],
   "source": [
    "!pip install pinecone-datasets"
   ]
  },
  {
   "cell_type": "code",
   "execution_count": 29,
   "metadata": {},
   "outputs": [],
   "source": [
    "from pinecone_datasets import Dataset, DatasetMetadata"
   ]
  },
  {
   "cell_type": "code",
   "execution_count": 30,
   "metadata": {},
   "outputs": [
    {
     "data": {
      "text/plain": [
       "{'name': '',\n",
       " 'created_at': '2023-08-07 17:52:49.166878',\n",
       " 'documents': 0,\n",
       " 'queries': 0,\n",
       " 'source': None,\n",
       " 'license': None,\n",
       " 'bucket': None,\n",
       " 'task': None,\n",
       " 'dense_model': {'name': '', 'tokenizer': None, 'dimension': 0},\n",
       " 'sparse_model': None,\n",
       " 'description': None,\n",
       " 'tags': None,\n",
       " 'args': None}"
      ]
     },
     "execution_count": 30,
     "metadata": {},
     "output_type": "execute_result"
    }
   ],
   "source": [
    "# creating a new empty metadata\n",
    "metadata = DatasetMetadata.empty()\n",
    "metadata.dict()"
   ]
  },
  {
   "cell_type": "code",
   "execution_count": 31,
   "metadata": {},
   "outputs": [
    {
     "data": {
      "text/html": [
       "<div>\n",
       "<style scoped>\n",
       "    .dataframe tbody tr th:only-of-type {\n",
       "        vertical-align: middle;\n",
       "    }\n",
       "\n",
       "    .dataframe tbody tr th {\n",
       "        vertical-align: top;\n",
       "    }\n",
       "\n",
       "    .dataframe thead th {\n",
       "        text-align: right;\n",
       "    }\n",
       "</style>\n",
       "<table border=\"1\" class=\"dataframe\">\n",
       "  <thead>\n",
       "    <tr style=\"text-align: right;\">\n",
       "      <th></th>\n",
       "      <th>id</th>\n",
       "      <th>values</th>\n",
       "      <th>sparse_values</th>\n",
       "      <th>metadata</th>\n",
       "      <th>blob</th>\n",
       "    </tr>\n",
       "  </thead>\n",
       "  <tbody>\n",
       "    <tr>\n",
       "      <th>0</th>\n",
       "      <td>1</td>\n",
       "      <td>[0.1, 0.2, 0.3]</td>\n",
       "      <td>{'indices': [1, 2, 3], 'values': [0.1, 0.2, 0.3]}</td>\n",
       "      <td>{'title': 'title1', 'url': 'url1'}</td>\n",
       "      <td>{'extra_field': 'extra_value'}</td>\n",
       "    </tr>\n",
       "    <tr>\n",
       "      <th>1</th>\n",
       "      <td>2</td>\n",
       "      <td>[0.4, 0.5, 0.6]</td>\n",
       "      <td>{'indices': [4, 5, 6], 'values': [0.4, 0.5, 0.6]}</td>\n",
       "      <td>{'title': 'title2', 'url': 'url2'}</td>\n",
       "      <td>None</td>\n",
       "    </tr>\n",
       "    <tr>\n",
       "      <th>2</th>\n",
       "      <td>3</td>\n",
       "      <td>[0.7, 0.8, 0.9]</td>\n",
       "      <td>{'indices': [7, 8, 9], 'values': [0.7, 0.8, 0.9]}</td>\n",
       "      <td>{'title': 'title3', 'url': 'url3'}</td>\n",
       "      <td>None</td>\n",
       "    </tr>\n",
       "    <tr>\n",
       "      <th>3</th>\n",
       "      <td>4</td>\n",
       "      <td>[1.0, 1.1, 1.2]</td>\n",
       "      <td>{'indices': [10, 11, 12], 'values': [1.0, 1.1,...</td>\n",
       "      <td>{'title': 'title4', 'url': 'url4'}</td>\n",
       "      <td>None</td>\n",
       "    </tr>\n",
       "    <tr>\n",
       "      <th>4</th>\n",
       "      <td>5</td>\n",
       "      <td>[1.3, 1.4, 1.5]</td>\n",
       "      <td>{'indices': [13, 14, 15], 'values': [1.3, 1.4,...</td>\n",
       "      <td>{'title': 'title5', 'url': 'url5'}</td>\n",
       "      <td>{'another_field': 'another_value'}</td>\n",
       "    </tr>\n",
       "  </tbody>\n",
       "</table>\n",
       "</div>"
      ],
      "text/plain": [
       "  id           values                                      sparse_values  \\\n",
       "0  1  [0.1, 0.2, 0.3]  {'indices': [1, 2, 3], 'values': [0.1, 0.2, 0.3]}   \n",
       "1  2  [0.4, 0.5, 0.6]  {'indices': [4, 5, 6], 'values': [0.4, 0.5, 0.6]}   \n",
       "2  3  [0.7, 0.8, 0.9]  {'indices': [7, 8, 9], 'values': [0.7, 0.8, 0.9]}   \n",
       "3  4  [1.0, 1.1, 1.2]  {'indices': [10, 11, 12], 'values': [1.0, 1.1,...   \n",
       "4  5  [1.3, 1.4, 1.5]  {'indices': [13, 14, 15], 'values': [1.3, 1.4,...   \n",
       "\n",
       "                             metadata                                blob  \n",
       "0  {'title': 'title1', 'url': 'url1'}      {'extra_field': 'extra_value'}  \n",
       "1  {'title': 'title2', 'url': 'url2'}                                None  \n",
       "2  {'title': 'title3', 'url': 'url3'}                                None  \n",
       "3  {'title': 'title4', 'url': 'url4'}                                None  \n",
       "4  {'title': 'title5', 'url': 'url5'}  {'another_field': 'another_value'}  "
      ]
     },
     "execution_count": 31,
     "metadata": {},
     "output_type": "execute_result"
    }
   ],
   "source": [
    "ds = Dataset.from_pandas(documents=df, q=None, metadata=metadata)\n",
    "ds.documents"
   ]
  },
  {
   "cell_type": "markdown",
   "metadata": {},
   "source": [
    "## Save dataset to local path\n"
   ]
  },
  {
   "cell_type": "code",
   "execution_count": 32,
   "metadata": {},
   "outputs": [
    {
     "name": "stderr",
     "output_type": "stream",
     "text": [
      "/Users/roymiara/Library/Python/3.9/lib/python/site-packages/pinecone_datasets/dataset.py:433: UserWarning: Queries are empty, not saving queries\n",
      "  warnings.warn(\"Queries are empty, not saving queries\")\n"
     ]
    }
   ],
   "source": [
    "ds.to_path('/tmp/ds')"
   ]
  },
  {
   "cell_type": "markdown",
   "metadata": {},
   "source": [
    "### Re-load dataset"
   ]
  },
  {
   "cell_type": "code",
   "execution_count": 33,
   "metadata": {},
   "outputs": [],
   "source": [
    "new_ds = Dataset.from_path('/tmp/ds')"
   ]
  },
  {
   "cell_type": "code",
   "execution_count": 34,
   "metadata": {},
   "outputs": [
    {
     "data": {
      "text/html": [
       "<div>\n",
       "<style scoped>\n",
       "    .dataframe tbody tr th:only-of-type {\n",
       "        vertical-align: middle;\n",
       "    }\n",
       "\n",
       "    .dataframe tbody tr th {\n",
       "        vertical-align: top;\n",
       "    }\n",
       "\n",
       "    .dataframe thead th {\n",
       "        text-align: right;\n",
       "    }\n",
       "</style>\n",
       "<table border=\"1\" class=\"dataframe\">\n",
       "  <thead>\n",
       "    <tr style=\"text-align: right;\">\n",
       "      <th></th>\n",
       "      <th>id</th>\n",
       "      <th>values</th>\n",
       "      <th>sparse_values</th>\n",
       "      <th>metadata</th>\n",
       "      <th>blob</th>\n",
       "    </tr>\n",
       "  </thead>\n",
       "  <tbody>\n",
       "    <tr>\n",
       "      <th>0</th>\n",
       "      <td>1</td>\n",
       "      <td>[0.1, 0.2, 0.3]</td>\n",
       "      <td>{'indices': [1, 2, 3], 'values': [0.1, 0.2, 0.3]}</td>\n",
       "      <td>{'title': 'title1', 'url': 'url1'}</td>\n",
       "      <td>{'another_field': None, 'extra_field': 'extra_...</td>\n",
       "    </tr>\n",
       "    <tr>\n",
       "      <th>1</th>\n",
       "      <td>2</td>\n",
       "      <td>[0.4, 0.5, 0.6]</td>\n",
       "      <td>{'indices': [4, 5, 6], 'values': [0.4, 0.5, 0.6]}</td>\n",
       "      <td>{'title': 'title2', 'url': 'url2'}</td>\n",
       "      <td>None</td>\n",
       "    </tr>\n",
       "    <tr>\n",
       "      <th>2</th>\n",
       "      <td>3</td>\n",
       "      <td>[0.7, 0.8, 0.9]</td>\n",
       "      <td>{'indices': [7, 8, 9], 'values': [0.7, 0.8, 0.9]}</td>\n",
       "      <td>{'title': 'title3', 'url': 'url3'}</td>\n",
       "      <td>None</td>\n",
       "    </tr>\n",
       "    <tr>\n",
       "      <th>3</th>\n",
       "      <td>4</td>\n",
       "      <td>[1.0, 1.1, 1.2]</td>\n",
       "      <td>{'indices': [10, 11, 12], 'values': [1.0, 1.1,...</td>\n",
       "      <td>{'title': 'title4', 'url': 'url4'}</td>\n",
       "      <td>None</td>\n",
       "    </tr>\n",
       "    <tr>\n",
       "      <th>4</th>\n",
       "      <td>5</td>\n",
       "      <td>[1.3, 1.4, 1.5]</td>\n",
       "      <td>{'indices': [13, 14, 15], 'values': [1.3, 1.4,...</td>\n",
       "      <td>{'title': 'title5', 'url': 'url5'}</td>\n",
       "      <td>{'another_field': 'another_value', 'extra_fiel...</td>\n",
       "    </tr>\n",
       "  </tbody>\n",
       "</table>\n",
       "</div>"
      ],
      "text/plain": [
       "  id           values                                      sparse_values  \\\n",
       "0  1  [0.1, 0.2, 0.3]  {'indices': [1, 2, 3], 'values': [0.1, 0.2, 0.3]}   \n",
       "1  2  [0.4, 0.5, 0.6]  {'indices': [4, 5, 6], 'values': [0.4, 0.5, 0.6]}   \n",
       "2  3  [0.7, 0.8, 0.9]  {'indices': [7, 8, 9], 'values': [0.7, 0.8, 0.9]}   \n",
       "3  4  [1.0, 1.1, 1.2]  {'indices': [10, 11, 12], 'values': [1.0, 1.1,...   \n",
       "4  5  [1.3, 1.4, 1.5]  {'indices': [13, 14, 15], 'values': [1.3, 1.4,...   \n",
       "\n",
       "                             metadata  \\\n",
       "0  {'title': 'title1', 'url': 'url1'}   \n",
       "1  {'title': 'title2', 'url': 'url2'}   \n",
       "2  {'title': 'title3', 'url': 'url3'}   \n",
       "3  {'title': 'title4', 'url': 'url4'}   \n",
       "4  {'title': 'title5', 'url': 'url5'}   \n",
       "\n",
       "                                                blob  \n",
       "0  {'another_field': None, 'extra_field': 'extra_...  \n",
       "1                                               None  \n",
       "2                                               None  \n",
       "3                                               None  \n",
       "4  {'another_field': 'another_value', 'extra_fiel...  "
      ]
     },
     "execution_count": 34,
     "metadata": {},
     "output_type": "execute_result"
    }
   ],
   "source": [
    "new_ds.documents"
   ]
  }
 ],
 "metadata": {
  "kernelspec": {
   "display_name": "Python 3",
   "language": "python",
   "name": "python3"
  },
  "language_info": {
   "codemirror_mode": {
    "name": "ipython",
    "version": 3
   },
   "file_extension": ".py",
   "mimetype": "text/x-python",
   "name": "python",
   "nbconvert_exporter": "python",
   "pygments_lexer": "ipython3",
   "version": "3.9.6"
  },
  "orig_nbformat": 4
 },
 "nbformat": 4,
 "nbformat_minor": 2
}
