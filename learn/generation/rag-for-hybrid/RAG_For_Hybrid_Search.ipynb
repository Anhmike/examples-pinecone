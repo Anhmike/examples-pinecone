{
 "cells": [
  {
   "cell_type": "markdown",
   "id": "61ea1c38-24ac-46ee-b8f5-fdeb65511131",
   "metadata": {},
   "source": [
    "# RAG Chat Bot for Hybrid Search\n",
    "\n",
    "This is the accompanying notebook for the Oct 19 (2023) RAG for Hybrid Search meetup.\n",
    "\n",
    "---"
   ]
  },
  {
   "cell_type": "markdown",
   "id": "9960f94c-11a1-4c9b-99fc-0552e3f20886",
   "metadata": {},
   "source": [
    "[![Open In Colab](https://colab.research.google.com/assets/colab-badge.svg)](https://colab.research.google.com/github/pinecone-io/examples/blob/master/learn/search/hybrid-search/rag-for-hyrbid/rag-for-hybrid-search.ipynb) [![Open nbviewer](https://raw.githubusercontent.com/pinecone-io/examples/master/assets/nbviewer-shield.svg)](https://nbviewer.org/github/pinecone-io/examples/blob/master/learn/search/hybrid-search/rag-for-hyrbid/rag-for-hybrid-search.ipynb)"
   ]
  },
  {
   "cell_type": "markdown",
   "id": "67f57977-9583-4772-86d9-e28e83dbe147",
   "metadata": {},
   "source": [
    "Quick notes:\n",
    "- You will need an OpenAI API Key\n",
    "- You will need a Pinecone account\n",
    "- If running locally, this notebook is meant to run on a Macbook Pro (m2)\n",
    "- Cells that preview data are commented out, so that users can more easily navigate the notebook on Github. Run the notebook locally with these cells un-commented to see data previews.\n",
    "\n",
    "---\n",
    "\n",
    "\n",
    "\n",
    "Make sure you have [docker](https://docs.docker.com/engine/install/) and [homebrew](https://brew.sh/) installed for the above steps. \n",
    "\n",
    "---\n",
    "\n",
    "[Read more about how unstructured partitions PDFs & why the fact that our PDFs have columns determined our use of the `ocr_only` strategy. \n",
    "](https://unstructured-io.github.io/unstructured/bricks/partition.html#partition-pdf)\n",
    "\n",
    "[Run the docker container](https://unstructured-io.github.io/unstructured/api.html#using-docker-images) from `Unstructured.`\n"
   ]
  },
  {
   "cell_type": "code",
   "execution_count": 2,
   "id": "d460c3b3-c534-4d3c-8970-0b63b5e7a416",
   "metadata": {
    "scrolled": true
   },
   "outputs": [],
   "source": [
    "# !docker pull quay.io/unstructured-io/unstructured-api:latest\n",
    "# !docker run -p 8000:8000 -d --rm --name unstructured-api quay.io/unstructured-io/unstructured-api:latest --port 8000 --host 0.0.0.0"
   ]
  },
  {
   "cell_type": "code",
   "execution_count": 23,
   "id": "e4abfde5-abb5-49bd-9912-38317e9d2417",
   "metadata": {},
   "outputs": [],
   "source": [
    "# Brew install packages (poppler==23.10.0 and tesseract==5.3.3)\n",
    "\n",
    "!brew install \\\n",
    "  poppler \\  \n",
    "  tesseract"
   ]
  },
  {
   "cell_type": "code",
   "execution_count": 25,
   "id": "bc3b8d11-6a04-4e7c-ace2-2bc28ab64b7f",
   "metadata": {},
   "outputs": [],
   "source": [
    "# Pip install libraries\n",
    "\n",
    "!pip3 install -qU \\\n",
    "  pinecone-client==2.2.4 \\\n",
    "  pinecone-text==0.5.4 \\\n",
    "  unstructured==0.10.24 \\\n",
    "  sentence-transformers==2.2.2 \\\n",
    "  langchain==0.0.327"
   ]
  },
  {
   "cell_type": "markdown",
   "id": "6af345ef-6321-4a30-b2e3-9e84cbd4d5b2",
   "metadata": {},
   "source": [
    "Imports"
   ]
  },
  {
   "cell_type": "code",
   "execution_count": 3,
   "id": "0520a370-63a3-4f16-8cf1-acfc8cc7f914",
   "metadata": {},
   "outputs": [
    {
     "name": "stderr",
     "output_type": "stream",
     "text": [
      "/Library/Frameworks/Python.framework/Versions/3.11/lib/python3.11/site-packages/pinecone/index.py:4: TqdmWarning: IProgress not found. Please update jupyter and ipywidgets. See https://ipywidgets.readthedocs.io/en/stable/user_install.html\n",
      "  from tqdm.autonotebook import tqdm\n"
     ]
    }
   ],
   "source": [
    "import pinecone\n",
    "import os\n",
    "import re\n",
    "from uuid import uuid4\n",
    "from typing import IO, Any, Dict, List, Tuple\n",
    "from copy import deepcopy\n",
    "\n",
    "from unstructured.partition.pdf import partition_pdf\n",
    "from unstructured.documents import elements\n",
    "from langchain.text_splitter import RecursiveCharacterTextSplitter\n",
    "from langchain.docstore.document import Document\n",
    "from sentence_transformers import SentenceTransformer\n",
    "import pinecone\n",
    "import openai\n",
    "from pinecone.core.client.model.query_response import QueryResponse\n",
    "\n",
    "from pinecone_text.sparse import BM25Encoder"
   ]
  },
  {
   "cell_type": "markdown",
   "id": "c5858c70-9d3f-437d-a289-066ae69a64e2",
   "metadata": {},
   "source": [
    "Set up the environment variables we'll need. We recommend using `dotenv`. It's a super simple way to keep your variables safe, but accessible. Simply create a `.env` file with your secrets in it, and use the Python `dotenv` and `os` libraries to load them."
   ]
  },
  {
   "cell_type": "code",
   "execution_count": 4,
   "id": "8fb61e9a-c191-489a-90e2-48df47e0c77b",
   "metadata": {},
   "outputs": [],
   "source": [
    "%load_ext dotenv\n",
    "from dotenv import load_dotenv\n",
    "import os"
   ]
  },
  {
   "cell_type": "code",
   "execution_count": 5,
   "id": "d62f04ff-5339-4097-b8e4-98a29450e879",
   "metadata": {},
   "outputs": [
    {
     "data": {
      "text/plain": [
       "True"
      ]
     },
     "execution_count": 5,
     "metadata": {},
     "output_type": "execute_result"
    }
   ],
   "source": [
    "# Make sure dotenv is in our kernel environment & working\n",
    "\n",
    "load_dotenv()"
   ]
  },
  {
   "cell_type": "code",
   "execution_count": 6,
   "id": "e0d6d9c5-2cf2-4796-8141-564e1b94994b",
   "metadata": {},
   "outputs": [],
   "source": [
    "pinecone_api_key = os.getenv('PINECONE_API_KEY')  # You can get your Pinecone api key and env (e.g. \"us-east-1\") at app.pinecone.io\n",
    "pinecone_env = os.getenv('PINECONE_ENV')\n",
    "openai_api_key = os.getenv('OPENAI_API_KEY')\n"
   ]
  },
  {
   "cell_type": "code",
   "execution_count": 7,
   "id": "535ecd2e-fe6e-40fb-99bf-8b8333ef01fe",
   "metadata": {},
   "outputs": [],
   "source": [
    "# Let's make sure our dotenv secrets loaded correctly\n",
    "\n",
    "assert len(pinecone_api_key) > 0\n",
    "assert len(pinecone_env) > 0\n",
    "assert len(openai_api_key) > 0"
   ]
  },
  {
   "cell_type": "markdown",
   "id": "acfaeac9-d63a-4d5a-b316-f714f032c421",
   "metadata": {},
   "source": [
    "# Download some articles we're interested in learning more about. \n",
    "\n",
    "Remember, hybrid search is best for knowledge that contains a lot of unique keywords that you'd like to search for, along with concepts you'd like clarity on, etc. Data that works best for this type of thing include medical data, most types of research data, data with lots of entities in it, etc.\n",
    "\n",
    "We'll be using Arxiv.org articles about different vector search algorithms for this demo. They've got lots of jargon and concepts that'll work great for hybrid search!"
   ]
  },
  {
   "cell_type": "code",
   "execution_count": 8,
   "id": "89469015-06d2-4d82-864e-2edafd134034",
   "metadata": {},
   "outputs": [],
   "source": [
    "freshdisk = os.path.join(\"/Users/audrey.lorberfeld/Downloads/freshdiskann_paper.pdf\")\n",
    "hnsw = os.path.join(\"/Users/audrey.lorberfeld/Downloads/hnsw_paper.pdf\")\n",
    "ivfpq = os.path.join(\"/Users/audrey.lorberfeld/Downloads/ivfpq_paper.pdf\")"
   ]
  },
  {
   "cell_type": "markdown",
   "id": "c8e91a7b-2287-4200-b268-da25dec4f8c9",
   "metadata": {},
   "source": [
    "# Partitioning & Cleaning our PDFs\n",
    "\n",
    "This step is optional. Partitioning simply uses ML to break a document up into pages, paragraphs, the title, etc. It's a nice-to-have that allows you to exclude certain elements you might not want to index, such as an article's bibliography (although we'll keep that since it could be useful information). \n",
    "\n",
    "If you want to skip this step, you can just read the PDFs into text or json, etc. and make your chunks straight from that object(s). \n",
    "\n",
    "Note: this notebook assumes you have partitioned your PDF. If you want to run this notebook from start to finish as-is, you'll need to run this step."
   ]
  },
  {
   "cell_type": "code",
   "execution_count": 9,
   "id": "2fd90300-2c17-4b6d-bd12-624453c82fcc",
   "metadata": {},
   "outputs": [],
   "source": [
    "# Let's partition all of our PDFs and store their partitions in a dictionary for easy retrieval & inspection later\n",
    "\n",
    "# Note: This takes ~2 mins to run\n",
    "\n",
    "partitioned_files = {\n",
    "    \"freshdisk\": partition_pdf(freshdisk, url=None, strategy = 'ocr_only'),\n",
    "    \"hnsw\": partition_pdf(hnsw, url=None, strategy = 'ocr_only'),\n",
    "    \"ivfpq\": partition_pdf(ivfpq, url=None, strategy = 'ocr_only'),            \n",
    "}\n"
   ]
  },
  {
   "cell_type": "code",
   "execution_count": 10,
   "id": "b1cb1014-b774-42ba-8eb1-598762f3b434",
   "metadata": {},
   "outputs": [],
   "source": [
    "# Let's make an archived copy of partitioned_files dict so if we mess it up while cleaning, we don't have to re-ocr our PDFs:\n",
    "\n",
    "partitioned_files_copy = deepcopy(partitioned_files)"
   ]
  },
  {
   "cell_type": "code",
   "execution_count": 12,
   "id": "ea7c9628-de78-45b1-946b-50e525e42f23",
   "metadata": {},
   "outputs": [],
   "source": [
    "# partitioned_files.get('freshdisk')"
   ]
  },
  {
   "cell_type": "markdown",
   "id": "1173112f-8449-4449-b520-2a19740fd940",
   "metadata": {},
   "source": [
    "You can see in the preview above that each of our PDFs now has elements classifying different parts of the text, such as `Text`, `Title`, and `EmailAddress`.\n",
    "\n",
    "Data cleaning matters a lot when it comes to hybrid search, because for the keyword-search part we care about each individual token (word).\n",
    "\n",
    "Let's filter out all of the email addresses to start with, since we don't need those for any reason."
   ]
  },
  {
   "cell_type": "code",
   "execution_count": 13,
   "id": "a0236621-8c64-453a-bb8b-44b7019c6671",
   "metadata": {
    "scrolled": true
   },
   "outputs": [],
   "source": [
    "def remove_unwanted_categories(elements: Dict[str, List[elements]], unwanted_cat: str) -> None: \n",
    "    \"\"\"\n",
    "    Remove partitions containing an unwanted category.\n",
    "    \n",
    "    :parameter elements: Partitioned pieces of our documents.\n",
    "    :parameter unwanted_cat: The name of the category we'd like filtered out.\n",
    "    \"\"\"\n",
    "    for key, value in elements.items():\n",
    "        elements[key] = [i for i in value if not i.category == unwanted_cat]\n",
    "        "
   ]
  },
  {
   "cell_type": "code",
   "execution_count": 14,
   "id": "00045ae3-4821-4200-a2fa-a3be94b216c1",
   "metadata": {},
   "outputs": [],
   "source": [
    "# Remove unwanted EmailAddress category from dictionary of partitioned PDFs\n",
    "\n",
    "remove_unwanted_categories(partitioned_files, 'EmailAddress')"
   ]
  },
  {
   "cell_type": "markdown",
   "id": "f9e35647-586a-4887-975e-bb86d091b7cd",
   "metadata": {},
   "source": [
    "No more `EmailAddress` elements!:"
   ]
  },
  {
   "cell_type": "code",
   "execution_count": 16,
   "id": "644d52c1-a0dd-4209-87c7-86f022630111",
   "metadata": {},
   "outputs": [],
   "source": [
    "# partitioned_files.get('freshdisk')"
   ]
  },
  {
   "cell_type": "markdown",
   "id": "bb46a39a-8dcd-46cd-bbfb-f755d1052754",
   "metadata": {},
   "source": [
    "To actually see what our elements are, we can call the `.text` attribute of each object:"
   ]
  },
  {
   "cell_type": "code",
   "execution_count": 18,
   "id": "dbabf1e0-656e-42e2-af4a-f6a3708e1cf2",
   "metadata": {},
   "outputs": [],
   "source": [
    "# Text preview of what's actually in one of our dictionary items:\n",
    "\n",
    "# [i.text for i in partitioned_files.get('freshdisk')]"
   ]
  },
  {
   "attachments": {
    "4d164df8-187c-4d6a-879a-09c712c1e31e.png": {
     "image/png": "[encoded data removed]"
    }
   },
   "cell_type": "markdown",
   "id": "6e2fe123-0257-42e2-9cda-627c540820b2",
   "metadata": {},
   "source": [
    "![Screenshot 2023-10-18 at 12.51.55 PM.png](attachment:4d164df8-187c-4d6a-879a-09c712c1e31e.png)"
   ]
  },
  {
   "attachments": {
    "0aa6e277-09cf-4ac5-81c4-755c6fb9657e.png": {
     "image/png": "[encoded data removed]"
    }
   },
   "cell_type": "markdown",
   "id": "c6edc4fd-308d-48d0-aec9-4dbb23c40b34",
   "metadata": {},
   "source": [
    "![Screenshot 2023-10-18 at 12.32.39 PM.png](attachment:0aa6e277-09cf-4ac5-81c4-755c6fb9657e.png)"
   ]
  },
  {
   "cell_type": "markdown",
   "id": "bfade5a5-baa1-4479-8deb-8968cb8376ba",
   "metadata": {},
   "source": [
    "You can see there are weird things like blank spaces, single letters, etc. as their own partitions. We don't want these either, so let's get rid of them. \n",
    "\n",
    "You can also see where some page breaks were that spanned single words -- these are identifiable by a word ending with a `- `. For these, we want to get rid of the `- ` and squish the word back together, so it makes sense.\n",
    "\n",
    "(You can also see that not all of the email addresses were caught by Unstructured's ML. It's too cumbersome to go through each doc and weed those out by hand, so we'll just have to leave them for now)"
   ]
  },
  {
   "cell_type": "code",
   "execution_count": 19,
   "id": "22413a4e-1b61-41c6-83f3-1c7e3cc1ff54",
   "metadata": {},
   "outputs": [],
   "source": [
    "# Remove empty spaces & single-letter/-digit partitions:\n",
    "\n",
    "def remove_space_and_single_partitions(elements: Dict[str, List[elements]]) -> None: \n",
    "    \"\"\"\n",
    "    Remove empty partitions & partitions with lengths of 1.\n",
    "    \n",
    "    :parameter elements: Partitioned pieces of our documents.\n",
    "    \"\"\"\n",
    "    for key, value in elements.items():\n",
    "        elements[key] = [i for i in value if len(i.text.strip()) > 1 ]"
   ]
  },
  {
   "cell_type": "code",
   "execution_count": 20,
   "id": "33e8aa65-d26e-4fc7-8f34-0ec2bc72da00",
   "metadata": {},
   "outputs": [],
   "source": [
    "remove_space_and_single_partitions(partitioned_files)"
   ]
  },
  {
   "cell_type": "markdown",
   "id": "562a2d57-7f94-4ff9-8ef0-96e5fa1ed7d2",
   "metadata": {},
   "source": [
    "No more single-character partitions or partitions with only whitespace, perfect!"
   ]
  },
  {
   "cell_type": "code",
   "execution_count": 22,
   "id": "b6a7a897-8803-40eb-baaa-9dce221c03b3",
   "metadata": {},
   "outputs": [],
   "source": [
    "# [i.text for i in partitioned_files.get('freshdisk')]"
   ]
  },
  {
   "cell_type": "markdown",
   "id": "5c439c74-8a6b-4962-af7e-7e8d450e5b54",
   "metadata": {},
   "source": [
    "Let's now get rid of those strange words that have been split across page breaks (e.g. `funda- mental`):"
   ]
  },
  {
   "cell_type": "code",
   "execution_count": 23,
   "id": "7e62b963-64eb-4b03-a50c-7ae5d98e7197",
   "metadata": {},
   "outputs": [],
   "source": [
    "# Note: this function transforms our elemenets into their text representations\n",
    "\n",
    "def rejoin_split_words(elements: Dict[str, List[elements]]) -> None: \n",
    "    \"\"\"\n",
    "    Rejoing words that are split over pagebreaks.\n",
    "    \n",
    "    :parameter elements: Partitioned pieces of our documents.\n",
    "    \"\"\"\n",
    "    for key, value in elements.items():\n",
    "        elements[key] = [i.text.replace('- ', '') for i in value if '- ' in i.text]\n",
    "\n"
   ]
  },
  {
   "cell_type": "code",
   "execution_count": 24,
   "id": "ee954160-75f7-44b4-a5c1-5bda0037fcce",
   "metadata": {},
   "outputs": [],
   "source": [
    "rejoin_split_words(partitioned_files)"
   ]
  },
  {
   "cell_type": "code",
   "execution_count": 29,
   "id": "1eaf8942-ed2b-4053-9a51-55a678ed8909",
   "metadata": {},
   "outputs": [],
   "source": [
    "# partitioned_files.get('freshdisk')"
   ]
  },
  {
   "attachments": {
    "a3bd85fa-d8cb-4c64-996b-009ccc52e11b.png": {
     "image/png": "[encoded data removed]"
    },
    "b7683d0c-c77c-4c1e-a82c-7d540b32a66b.png": {
     "image/png": "[encoded data removed]"
    }
   },
   "cell_type": "markdown",
   "id": "5325d394-1266-4292-bf46-1d2d41a798ad",
   "metadata": {},
   "source": [
    "You can see now that we've sewn those split words back together:\n",
    "\n",
    "![Screenshot 2023-10-18 at 1.57.35 PM.png](attachment:a3bd85fa-d8cb-4c64-996b-009ccc52e11b.png)\n",
    "\n",
    "![Screenshot 2023-10-18 at 1.57.22 PM.png](attachment:b7683d0c-c77c-4c1e-a82c-7d540b32a66b.png)"
   ]
  },
  {
   "cell_type": "markdown",
   "id": "551b2690-d91f-44a6-9969-fe2cc2142cc5",
   "metadata": {},
   "source": [
    "The last cleaning step we'll want to take is removing the inline citations, e.g. `[6, 9, 11, 16, 32, 35, 38, 43, 59]` and `[12]`."
   ]
  },
  {
   "cell_type": "code",
   "execution_count": 26,
   "id": "6383895a-72ec-4923-aa00-f2848822d35e",
   "metadata": {},
   "outputs": [],
   "source": [
    "def remove_inline_citation_numbers(elements: Dict[str, List[elements]]) -> None: \n",
    "    \"\"\"\n",
    "    Remove inline citation numbers from partitions.\n",
    "    \n",
    "    :parameter elements: Partitioned pieces of our documents.\n",
    "    \"\"\"\n",
    "    for key, value in elements.items():\n",
    "        pattern = re.compile(r'\\[\\s*(\\d+\\s*,\\s*)*\\d+\\s*\\]')\n",
    "        elements[key] = [pattern.sub('', i) for i in value]\n",
    "\n"
   ]
  },
  {
   "cell_type": "code",
   "execution_count": 27,
   "id": "c59afe18-b664-4a0a-8103-91049ecb9bca",
   "metadata": {},
   "outputs": [],
   "source": [
    "remove_inline_citation_numbers(partitioned_files)"
   ]
  },
  {
   "cell_type": "markdown",
   "id": "17d99d35-605f-4dfc-af6f-47488aa2c7ab",
   "metadata": {},
   "source": [
    "We've still got some weird numbers in there, but it's pretty good!"
   ]
  },
  {
   "cell_type": "code",
   "execution_count": 30,
   "id": "8f6cb1c5-ea66-4be9-9246-ae8a39e4ab28",
   "metadata": {},
   "outputs": [],
   "source": [
    "# partitioned_files.get('freshdisk')"
   ]
  },
  {
   "cell_type": "markdown",
   "id": "a653859f-4a0e-44b8-b49d-dc904cb141c9",
   "metadata": {},
   "source": [
    "Now that we've cleaned our data, we can zip all the partitions (per PDF) back together so we're starting our chunking from a single, coherent text object."
   ]
  },
  {
   "cell_type": "code",
   "execution_count": 31,
   "id": "7a8190b3-7d9d-45cd-8463-4e47729f9016",
   "metadata": {},
   "outputs": [],
   "source": [
    "# Sew our partitions back together, per PDF:\n",
    "\n",
    "def stitch_partitions_back_together(elements: Dict[str, List[elements]]) -> None: \n",
    "    \"\"\"\n",
    "    Stitch partitions back into single string object.\n",
    "    \n",
    "    :parameter elements:  Partitioned pieces of our documents.\n",
    "    \"\"\"\n",
    "    for key, value in elements.items():\n",
    "        elements[key] = ' '.join(value)"
   ]
  },
  {
   "cell_type": "code",
   "execution_count": 32,
   "id": "c7051c57-483e-4262-92a1-84dfa00c3f6e",
   "metadata": {},
   "outputs": [],
   "source": [
    "stitch_partitions_back_together(partitioned_files)"
   ]
  },
  {
   "cell_type": "markdown",
   "id": "afc64d40-6205-4371-9b0b-a503b8fb45ef",
   "metadata": {},
   "source": [
    "Good to go! All of our PDFs are now cleaned and single globs of text data"
   ]
  },
  {
   "cell_type": "code",
   "execution_count": 34,
   "id": "0a985d1a-caa0-4e91-a510-0b8b440f1a22",
   "metadata": {
    "scrolled": true
   },
   "outputs": [],
   "source": [
    "# partitioned_files"
   ]
  },
  {
   "cell_type": "code",
   "execution_count": 35,
   "id": "63780cff-5390-41a4-b53d-81772bcb800f",
   "metadata": {},
   "outputs": [],
   "source": [
    "# Let's save our cleaned files to a new variable that makes more sense w/the current state \n",
    "\n",
    "cleaned_files = partitioned_files"
   ]
  },
  {
   "cell_type": "markdown",
   "id": "36bc4e5e-aa4d-42bc-9bb3-d47bb46a1a1e",
   "metadata": {},
   "source": [
    "# Chunking our PDF content\n",
    "\n",
    "Chunking is integral to achieving great relevance with vector search, whether that's sparse vector search, dense vector search, or hybrid vector search.\n",
    "\n",
    "From our [chunking strategy post](https://www.pinecone.io/learn/chunking-strategies/):\n",
    "\n",
    "> The main reason for chunking is to ensure we’re embedding a piece of content with as little noise as possible that is still semantically relevant . . . For example, in semantic search, we index a corpus of documents, with each document containing valuable information on a specific topic. By applying an effective chunking strategy, we can ensure our search results accurately capture the essence of the user’s query. If our chunks are too small or too large, it may lead to imprecise search results or missed opportunities to surface relevant content. As a rule of thumb, if the chunk of text makes sense without the surrounding context to a human, it will make sense to the language model as well. Therefore, finding the optimal chunk size for the documents in the corpus is crucial to ensuring that the search results are accurate and relevant.\n",
    "\n",
    "We need to chunk our PDFs' (text) data into sizable chunks that are semantically coherent and dense with contextual information. \n",
    "\n",
    "We'll use LangChain's `RecusiveCharacterTextSplitter` since it's a super easy utility that makes chunking quick and customizable. You should experiment with different chunk sizes and overlap values to see how the resulting chunks differ. You want each chunk to make a reasonable amount of sense as a stand-alone data object. After some experimentation on our end, we will choose a `chunk_size` of `512` and a `chunk_overlap` of `35` (characters)."
   ]
  },
  {
   "cell_type": "code",
   "execution_count": 37,
   "id": "d1b8f24e-0052-41e7-9a23-8db8a6e829bb",
   "metadata": {},
   "outputs": [],
   "source": [
    "def generate_chunks(doc: str, chunk_size: int = 512, chunk_overlap: int = 35) -> List[Document]:\n",
    "    \"\"\"\n",
    "    Generate chunks of a certain size and token overlap. \n",
    "\n",
    "    :param doc: Document we want to turn into chunks.\n",
    "    :param chunk_size: Desired size of our chunks, in tokens (words).\n",
    "    :param chunk_overlap: Desired # of tokens (words) that will overlap across chunks.\n",
    "\n",
    "    :return: Chunks representations of the given document.\n",
    "    \"\"\"\n",
    "    splitter = RecursiveCharacterTextSplitter(\n",
    "        chunk_size = chunk_size,\n",
    "        chunk_overlap = chunk_overlap\n",
    "    )\n",
    "\n",
    "    return splitter.create_documents([doc])\n",
    "\n"
   ]
  },
  {
   "cell_type": "code",
   "execution_count": 38,
   "id": "667392aa-ba7b-4f3a-8fb9-2b63e6066b95",
   "metadata": {},
   "outputs": [],
   "source": [
    "def chunk_documents(docs: Dict[str, List[elements]],  chunk_size: int = 512, chunk_overlap: int = 35) -> None: \n",
    "    \"\"\"\n",
    "    Iterate over documents and chunk each one.\n",
    "    \n",
    "    :parameter docs: The documents we want to chunk.\n",
    "    :param chunk_size: Desired size of our chunks, in tokens (words).\n",
    "    :param chunk_overlap: Desired # of tokens (words) that will overlap across chunks.\n",
    "    \"\"\"\n",
    "    for key, value in docs.items():\n",
    "        chunks = generate_chunks(value)\n",
    "        docs[key] = [c.page_content for c in chunks]  # Grab the text representation of the chunks via the `page_content` attribute\n"
   ]
  },
  {
   "cell_type": "code",
   "execution_count": 39,
   "id": "1a912cf2-4e14-47c5-a074-bcfd983056d9",
   "metadata": {},
   "outputs": [],
   "source": [
    "chunk_documents(cleaned_files)"
   ]
  },
  {
   "cell_type": "code",
   "execution_count": 40,
   "id": "94320c93-1993-40ee-850e-687a71fe3da4",
   "metadata": {},
   "outputs": [],
   "source": [
    "chunked_files = cleaned_files"
   ]
  },
  {
   "cell_type": "markdown",
   "id": "5c646c92-3c4e-401a-a6e7-0481501ada96",
   "metadata": {},
   "source": [
    "Check out our chunks!"
   ]
  },
  {
   "cell_type": "code",
   "execution_count": 43,
   "id": "8ceb3744-e564-472d-a800-e50ee355681a",
   "metadata": {},
   "outputs": [],
   "source": [
    "# chunked_files"
   ]
  },
  {
   "cell_type": "markdown",
   "id": "3e710a40-19b0-4957-89a6-30eaba4085d0",
   "metadata": {},
   "source": [
    "# Create Dense Embeddings of our Chunks\n",
    "\n",
    "Hybrid search needs both dense embeddings and sparse embeddings of the same content in order to work. Let's start with dense embeddings.\n",
    "\n",
    "We'll use the `'all-MiniLM-L12-v2'` [model](https://huggingface.co/sentence-transformers/all-MiniLM-L12-v2) hosted by HuggingFace to create our dense embeddings. It's currently high on their [MTEB (Massive Text Embedding Benchmark) Leaderboard](https://huggingface.co/spaces/mteb/leaderboard) (Reranking section), so it's a pretty safe bet. This will output dense vectors of 384 dimensions.\n",
    "\n",
    "Note: if you're playing around with this notebook, make sure to save your chunks and embeddings (both sparse and dense) in `pkl` [files](https://stackoverflow.com/questions/11218477/how-can-i-use-pickle-to-save-a-dict-or-any-other-python-object), so that you don't have to wait for the embeddings to generate again if you want to rerun any steps in this notebook."
   ]
  },
  {
   "cell_type": "markdown",
   "id": "079ab428-d7d5-4aab-8ed3-e05408a5bfe3",
   "metadata": {},
   "source": [
    "We'll have to create a dense embedding of each of our PDFs' chunks:"
   ]
  },
  {
   "cell_type": "code",
   "execution_count": 44,
   "id": "3984fa37-32e3-43f3-9b97-b0013497a88e",
   "metadata": {},
   "outputs": [],
   "source": [
    "def produce_embeddings(chunks: List[str]) -> List[str]:\n",
    "    \"\"\"\n",
    "    Produce dense embeddings for each chunk.\n",
    "\n",
    "    :param chunks: The chunks we want to create dense embeddings of.\n",
    "\n",
    "    :return: Dense embeddings produced by our SentenceTransformer model `all-MiniLM-L12-v2`.\n",
    "    \"\"\"\n",
    "    model = SentenceTransformer('all-MiniLM-L12-v2')\n",
    "    embeddings = []\n",
    "    for c in chunks:\n",
    "        embedding = model.encode(c)\n",
    "        embeddings.append(embedding)\n",
    "    return embeddings\n",
    "    "
   ]
  },
  {
   "cell_type": "code",
   "execution_count": 45,
   "id": "836ae697-df61-435f-b6da-093b0151e7b1",
   "metadata": {},
   "outputs": [],
   "source": [
    "freshdisk_dembeddings = produce_embeddings(chunked_files.get('freshdisk'))"
   ]
  },
  {
   "cell_type": "code",
   "execution_count": 46,
   "id": "7f8bb67f-2b95-48f6-bbfa-ed3bd40a1574",
   "metadata": {},
   "outputs": [],
   "source": [
    "hnsw_dembeddings = produce_embeddings(chunked_files.get('hnsw'))"
   ]
  },
  {
   "cell_type": "code",
   "execution_count": 47,
   "id": "fc992bc7-6c15-43e9-a88f-1f70412ea90c",
   "metadata": {},
   "outputs": [],
   "source": [
    "ivfpq_dembeddings = produce_embeddings(chunked_files.get('ivfpq'))"
   ]
  },
  {
   "cell_type": "code",
   "execution_count": 48,
   "id": "1fe90755-9203-45e1-a47b-51bedff337e1",
   "metadata": {},
   "outputs": [],
   "source": [
    "# We can confirm the shape of each our dense embeddings is 384:\n",
    "\n",
    "# Make binary lists to keep track of any shapes that are *not* 384\n",
    "freshdisk_assertion = [0 for i in freshdisk_dembeddings if i.shape == 384]\n",
    "hnsw_assertion = [0 for i in hnsw_dembeddings if i.shape == 384]\n",
    "ivfpq_assertion = [0 for i in ivfpq_dembeddings if i.shape == 384]\n",
    "\n",
    "# Sum up our lists. If there are any embeddings that are not of shape 384, these sums will be > 0\n",
    "assert sum(freshdisk_assertion) == 0\n",
    "assert sum(hnsw_assertion) == 0\n",
    "assert sum(ivfpq_assertion) == 0"
   ]
  },
  {
   "cell_type": "markdown",
   "id": "cffb7427-6db0-42c4-ba3e-b589edadd3e2",
   "metadata": {},
   "source": [
    "# Create Sparse Embeddings of our Chunks\n",
    "\n",
    "Now we can create our sparse embeddings. We will use the BM25 algorithm to create our sparse embeddings. The resulting vector will represent an inverted index of the tokens in our chunks, constrained by things like chunk length. \n",
    "\n",
    "Pinecone has an awesome [text library](https://github.com/pinecone-io/pinecone-text) that makes generating these vectors super easy. We also have [a great notebook](https://colab.research.google.com/github/pinecone-io/examples/blob/master/learn/search/semantic-search/sparse/bm25/bm25-vector-generation.ipynb) all about BM25 encodings.\n",
    "\n",
    "Since we're using a ML-implemented version of BM25, we need to \"fit\" the model to our corpus. To do this, we'll combine all 3 of our PDFs together, so that the BM25 model can compute all the token frequencies etc correctly. We'll then encode each of our documents with our \"fitted\" model."
   ]
  },
  {
   "cell_type": "code",
   "execution_count": 49,
   "id": "2aa80a1a-bea3-4d49-90cc-33206e604899",
   "metadata": {},
   "outputs": [],
   "source": [
    "# Join the content of all our PDFs together into 1 large corpus\n",
    "\n",
    "corpus = \"\"\n",
    "\n",
    "for i, v in chunked_files.items():\n",
    "    corpus += ' '.join(v)"
   ]
  },
  {
   "cell_type": "code",
   "execution_count": 51,
   "id": "fa6c477c-df4a-4b78-b0a6-421527650000",
   "metadata": {},
   "outputs": [
    {
     "data": {
      "text/plain": [
       "127590"
      ]
     },
     "execution_count": 51,
     "metadata": {},
     "output_type": "execute_result"
    }
   ],
   "source": [
    "len(corpus)  # Awesome, we've got lots o' tokens here for our BM25 model to learn :)"
   ]
  },
  {
   "cell_type": "code",
   "execution_count": 52,
   "id": "f124295c-9da5-4195-a57f-1a53f2feb842",
   "metadata": {},
   "outputs": [
    {
     "name": "stderr",
     "output_type": "stream",
     "text": [
      "100%|████████████████████████████████| 127590/127590 [00:02<00:00, 58007.82it/s]\n"
     ]
    },
    {
     "data": {
      "text/plain": [
       "<pinecone_text.sparse.bm25_encoder.BM25Encoder at 0x2b7110e10>"
      ]
     },
     "execution_count": 52,
     "metadata": {},
     "output_type": "execute_result"
    }
   ],
   "source": [
    "# Initialize BM25 and fit the corpus\n",
    "\n",
    "bm25 = BM25Encoder()\n",
    "bm25.fit(corpus)"
   ]
  },
  {
   "cell_type": "code",
   "execution_count": 53,
   "id": "73b2ca25-2ac4-4712-bd8d-77607ef9c852",
   "metadata": {},
   "outputs": [],
   "source": [
    "# Create embeddings for each chunk\n",
    "freshdisk_sembeddings = [bm25.encode_documents(i) for i in chunked_files.get('freshdisk')]"
   ]
  },
  {
   "cell_type": "code",
   "execution_count": 54,
   "id": "e4b1c9f3-9192-4e46-afa2-6b4e93ebb6a0",
   "metadata": {},
   "outputs": [],
   "source": [
    "hnsw_sembeddings = [bm25.encode_documents(i) for i in chunked_files.get('hnsw')]"
   ]
  },
  {
   "cell_type": "code",
   "execution_count": 55,
   "id": "87899d0e-2bcd-4fc5-8c47-f27672b8dcd9",
   "metadata": {},
   "outputs": [],
   "source": [
    "ivfpq_sembeddings = [bm25.encode_documents(i) for i in chunked_files.get('ivfpq')]"
   ]
  },
  {
   "cell_type": "markdown",
   "id": "5f43b724-acdc-4c13-b321-5c63b4a3b907",
   "metadata": {},
   "source": [
    "Let's look at the sparse embeddings for one of our PDFs.\n",
    "\n",
    "You'll see that each PDF's chunks has now transformed into a dictionary with `indices` and `values` keys. "
   ]
  },
  {
   "cell_type": "code",
   "execution_count": 57,
   "id": "a794f792-b1b5-458b-8f37-fd9e132cf907",
   "metadata": {},
   "outputs": [],
   "source": [
    "# freshdisk_sembeddings"
   ]
  },
  {
   "cell_type": "code",
   "execution_count": 58,
   "id": "02f495a3-37b8-4573-afca-3c8bfe6fb08f",
   "metadata": {},
   "outputs": [],
   "source": [
    "# We want the # of chunks per PDF to be equal to the # of sparse embeddings we've generated. Let's check that:\n",
    "\n",
    "assert len(freshdisk_sembeddings) == len(chunked_files.get('freshdisk'))\n",
    "assert len(hnsw_sembeddings) == len(chunked_files.get('hnsw'))\n",
    "assert len(ivfpq_sembeddings) == len(chunked_files.get('ivfpq'))"
   ]
  },
  {
   "cell_type": "markdown",
   "id": "ece747e9-abc4-4289-aac2-b2fef0831339",
   "metadata": {},
   "source": [
    "# Getting Our Embeddings into Pinecone\n",
    "\n",
    "Now that we have made our sparse and dense embeddings, it's time to index them into our Pinecone index.\n",
    "\n",
    "One thing to note is that only [p1 and s1 pods support hybrid search](https://docs.pinecone.io/docs/indexes). Since we're not concerned about high throughput for a demo, we'll go with s1, which is optimized for storage over throughput.\n",
    "\n",
    "Hybrid search inherently also needs `\"dotproduct\"` as the similarity `metric`."
   ]
  },
  {
   "cell_type": "code",
   "execution_count": 59,
   "id": "afe1431b-82be-4318-9b79-b485234bf25c",
   "metadata": {
    "scrolled": true
   },
   "outputs": [],
   "source": [
    "pinecone.init(\n",
    "   api_key=pinecone_api_key,\n",
    "   environment=pinecone_env\n",
    ")\n",
    "# choose a name for your index\n",
    "index_name = \"hybrid-search-demo-oct23\"\n",
    " \n",
    "# create the index\n",
    "pinecone.create_index(\n",
    "   name = index_name,\n",
    "   dimension = 384,  # dimensionality of our vectors\n",
    "   metric = \"dotproduct\",\n",
    "   pod_type = \"s1\"\n",
    ")"
   ]
  },
  {
   "cell_type": "code",
   "execution_count": 60,
   "id": "8840e747-8d7e-4911-8b76-73d7b852b15d",
   "metadata": {
    "scrolled": true
   },
   "outputs": [
    {
     "data": {
      "text/plain": [
       "IndexDescription(name='hybrid-search-demo-oct23', metric='dotproduct', replicas=1, dimension=384.0, shards=1, pods=1, pod_type='s1.x1', status={'ready': True, 'state': 'Ready'}, metadata_config=None, source_collection='')"
      ]
     },
     "execution_count": 60,
     "metadata": {},
     "output_type": "execute_result"
    }
   ],
   "source": [
    "# Let's confirm everything looks good with our index\n",
    "\n",
    "pinecone.describe_index('hybrid-search-demo-oct23')"
   ]
  },
  {
   "cell_type": "markdown",
   "id": "9bb3e59a-2656-457f-aa88-e54fa60b2a63",
   "metadata": {},
   "source": [
    "We'll create an index object out of the index we just made. We'll make this with Pinecone's [GRPC client](https://docs.pinecone.io/docs/performance-tuning#using-the-grpc-client-to-get-higher-upsert-speeds), since it's a little faster for upserts:\n"
   ]
  },
  {
   "cell_type": "code",
   "execution_count": 61,
   "id": "5f20b672-860d-4f9a-aa9a-6aff955542d8",
   "metadata": {},
   "outputs": [],
   "source": [
    "index = pinecone.GRPCIndex(\"hybrid-search-demo-oct23\")\n"
   ]
  },
  {
   "cell_type": "markdown",
   "id": "89dc6979-bd52-4080-b7cc-80689b6daf91",
   "metadata": {},
   "source": [
    "We'll need to make unique IDs for all of our objects, which is easy with the `uuid` library in Python:"
   ]
  },
  {
   "cell_type": "code",
   "execution_count": 62,
   "id": "06205558-1994-466b-b1fd-f8b5a824e742",
   "metadata": {},
   "outputs": [],
   "source": [
    "def create_ids(chunks: str) -> List[str]:\n",
    "    \"\"\"\n",
    "    Create unique IDs for each document (chunk) in our index.\n",
    "\n",
    "    :param chunks: Chunks of our PDF file.\n",
    "\n",
    "    :return: Unique IDs for chunks.\n",
    "    \"\"\"\n",
    "    return [str(uuid4()) for _ in range(len(chunks))]"
   ]
  },
  {
   "cell_type": "code",
   "execution_count": 63,
   "id": "468968b1-dfc1-495c-8de1-dd8c40cf43e2",
   "metadata": {},
   "outputs": [],
   "source": [
    "freshdisk_ids = create_ids(chunked_files.get('freshdisk'))\n",
    "hnsw_ids = create_ids(chunked_files.get('hnsw'))\n",
    "ivfpq_ids = create_ids(chunked_files.get('ivfpq'))\n"
   ]
  },
  {
   "cell_type": "code",
   "execution_count": 64,
   "id": "a855b9ff-7dcc-4543-933f-64815f9d8972",
   "metadata": {},
   "outputs": [
    {
     "data": {
      "text/plain": [
       "'4c4a6ec8-a345-46cd-8c79-b8fb1a4c2a34'"
      ]
     },
     "execution_count": 64,
     "metadata": {},
     "output_type": "execute_result"
    }
   ],
   "source": [
    "# Let's preview one of our IDs:\n",
    "\n",
    "freshdisk_ids[0]"
   ]
  },
  {
   "cell_type": "code",
   "execution_count": 65,
   "id": "46051402-3950-4c6c-a0ab-ac6b3a08e389",
   "metadata": {},
   "outputs": [],
   "source": [
    "# Let's make sure we have the same # of IDs as there are chunks:\n",
    "\n",
    "assert len(freshdisk_ids) == len(chunked_files.get('freshdisk'))\n",
    "assert len(hnsw_ids) == len(chunked_files.get('hnsw'))\n",
    "assert len(ivfpq_ids) == len(chunked_files.get('ivfpq'))"
   ]
  },
  {
   "cell_type": "markdown",
   "id": "7eef3d9c-94f0-40d6-8c6c-7fef149c4152",
   "metadata": {},
   "source": [
    "Now that we have our IDs, we can make our composite sparse-dense objects that we'll index into Pinecone. These will take 4 components: \n",
    "- Our IDs\n",
    "- Our sparse embeddings\n",
    "- Our dense embeddings\n",
    "- Our chunks\n",
    "\n",
    "We'll use the actual text content of our PDFs (stored in our chunks) as metadata. This allows the end user to see the content of what's being returned by their search instead of just the sparse/dense vectors. In order to store our chunks' textual data in digestible metadata object for Pinecone, we'll want to turn each chunk into a dict that has a `'text'` key to hold the chunk value."
   ]
  },
  {
   "cell_type": "code",
   "execution_count": 66,
   "id": "9f994d0a-6167-4157-8e7f-0e450d164197",
   "metadata": {},
   "outputs": [],
   "source": [
    "def create_metadata_objs(doc: List[str]) -> List[dict[str]]:\n",
    "    \"\"\"\n",
    "    Create objects to store as metadata alongside our sparse and dense vectors in our hybird Pinecone index.\n",
    "\n",
    "    :param doc: Chunks of a document we'd like to use while creating metadata objects.\n",
    "\n",
    "    :return: Metadata objects with a \"text\" key and a value that points to the text content of each chunk. \n",
    "    \"\"\"\n",
    "    return [{'text': d} for d in doc]"
   ]
  },
  {
   "cell_type": "code",
   "execution_count": 68,
   "id": "874f6265-5c21-4169-a8b9-2bd65f5b4a57",
   "metadata": {},
   "outputs": [],
   "source": [
    "freshdisk_metadata = create_metadata_objs(chunked_files.get('freshdisk'))\n",
    "hnsw_metadata = create_metadata_objs(chunked_files.get('hnsw'))\n",
    "ivfpq_metadata = create_metadata_objs(chunked_files.get('ivfpq'))"
   ]
  },
  {
   "cell_type": "code",
   "execution_count": 69,
   "id": "f6a6a557-49cc-4dbf-9c00-f02c447c4c48",
   "metadata": {},
   "outputs": [
    {
     "data": {
      "text/plain": [
       "{'text': 'Approximate nearest neighbor search (ANNS) is a fundamental building block in information retrieval with graphbased indices being the current state-of-the-art  and widely used in the industry. Recent advances  in graph-based indices have made it possible to index and search billion-point datasets with high recall and millisecond-level latency on a single commodity machine with an SSD. In this paper, we present the first graph-based ANNS index that reflects corpus updates into the index in real-time without'}"
      ]
     },
     "execution_count": 69,
     "metadata": {},
     "output_type": "execute_result"
    }
   ],
   "source": [
    "# Preview\n",
    "\n",
    "freshdisk_metadata[0]"
   ]
  },
  {
   "cell_type": "code",
   "execution_count": 70,
   "id": "9e2add63-efaa-4022-bf18-1472ae8aacee",
   "metadata": {},
   "outputs": [],
   "source": [
    "def create_composite_objs(ids: str, sembeddings: List[Dict[str, List[Any]]], dembeddings: List[float], metadata: Dict[str, str]) -> List[Dict[str, Any]]:\n",
    "    \"\"\"\n",
    "    Create objects for indexing into Pinecone. Each object contains a document ID (which corresponds to the chunk, not the larger document), \n",
    "    the chunk's sparse embedding, the chunk's dense embedding, and the chunk's corresponding metadata object.\n",
    "\n",
    "    :param ids: Unique ID of a chunk we want to index.\n",
    "    :param sembeddings: Sparse embedding representation of a chunk we want to index.\n",
    "    :param dembeddings: Dense embedding representation of a chunk we want to index.\n",
    "    :param metadata: Metadata objects with a \"text\" key and a value that points to the text content of each chunk. \n",
    "\n",
    "    :return: Composite objects in the correct format for ingest into Pinecone.\n",
    "    \"\"\"\n",
    "    to_index = []\n",
    "\n",
    "    for i in range(len(metadata)):\n",
    "        to_index_obj = {\n",
    "                'id': ids[i],\n",
    "                'sparse_values': sembeddings[i],\n",
    "                'values': dembeddings[i],\n",
    "                'metadata': metadata[i]\n",
    "            }\n",
    "        to_index.append(to_index_obj)\n",
    "    return to_index"
   ]
  },
  {
   "cell_type": "code",
   "execution_count": 71,
   "id": "57f44a46-a6b8-4778-bab7-429e8733c181",
   "metadata": {},
   "outputs": [],
   "source": [
    "freshdisk_com_objs = create_composite_objs(freshdisk_ids, freshdisk_sembeddings, freshdisk_dembeddings, freshdisk_metadata)\n",
    "hnsw_com_objs = create_composite_objs(hnsw_ids, hnsw_sembeddings, hnsw_dembeddings, hnsw_metadata)\n",
    "ivfpq_com_objs = create_composite_objs(ivfpq_ids, ivfpq_sembeddings, ivfpq_dembeddings, ivfpq_metadata)"
   ]
  },
  {
   "cell_type": "code",
   "execution_count": 73,
   "id": "938a4954-ecf5-4491-87e6-597a83956024",
   "metadata": {},
   "outputs": [],
   "source": [
    "# freshdisk_com_objs[0]"
   ]
  },
  {
   "cell_type": "markdown",
   "id": "db7bc28e-5ead-4d44-a2af-287ee3efd712",
   "metadata": {},
   "source": [
    "Now we can index (\"upsert\") our objects into our Pinecone index!"
   ]
  },
  {
   "cell_type": "code",
   "execution_count": 74,
   "id": "6aaaaf91-2353-430b-aec6-0e843c499bd7",
   "metadata": {},
   "outputs": [],
   "source": [
    "index.upsert(freshdisk_com_objs)\n",
    "index.upsert(hnsw_com_objs)\n",
    "index.upsert(ivfpq_com_objs)\n"
   ]
  },
  {
   "cell_type": "code",
   "execution_count": 75,
   "id": "29feb6c2-e6ad-47c4-834a-91ba08a72927",
   "metadata": {},
   "outputs": [
    {
     "data": {
      "text/plain": [
       "{'dimension': 384,\n",
       " 'index_fullness': 0.0,\n",
       " 'namespaces': {'': {'vector_count': 253}},\n",
       " 'total_vector_count': 253}"
      ]
     },
     "execution_count": 75,
     "metadata": {},
     "output_type": "execute_result"
    }
   ],
   "source": [
    "# Woo we have our vectors (253) in our index!\n",
    "\n",
    "index.describe_index_stats()"
   ]
  },
  {
   "cell_type": "markdown",
   "id": "4f16c883-9892-49a6-99b5-846b356b3258",
   "metadata": {},
   "source": [
    "# Query Our Hybrid Docs\n",
    "\n",
    "Now that we have all of our hybrid vector objects in our Pinecone index, we can issue some queries!\n",
    "\n",
    "Since issuing a query to a vector index requires the query to be vectorized in the same way as the objects in the index are vectorized (so they can match up in vector space), for hybrid queries we'll have to vectorize the query *twice*! Once as a sparse vector and once as a dense vector. We then send both of those vectors to Pinecone to get items back."
   ]
  },
  {
   "cell_type": "code",
   "execution_count": 76,
   "id": "3802bd10-1a66-4a9b-b5c6-56a2779f30d9",
   "metadata": {},
   "outputs": [],
   "source": [
    "query = \"What are nearest neighbors?\" \n"
   ]
  },
  {
   "cell_type": "markdown",
   "id": "c0303a36-1bb0-40d5-85a3-eed31d003cab",
   "metadata": {
    "jp-MarkdownHeadingCollapsed": true
   },
   "source": [
    "Create sparse embedding from query\n",
    "\n",
    "Note: do *not* refit the bm25 model here. We want to keep the token frequencies etc from when we fit it to the text from our PDFs!\n",
    "\n",
    "You might be wondering how the model gets \"refit\" when the corpus changes, the answer is a little complicated, but essentially this is a special implementation of BM25 (which usually runs online) that has precomputed frequencies for English words, based off the MSMarco dataset. So, when you add new docs to the corpus, you don't have to \"refit\" the BM25 model, it just finds the word frequencies in the MSMarco dataset.\n",
    "\n",
    "More here: https://github.com/pinecone-io/pinecone-text/blob/main/pinecone_text/sparse/bm25_encoder.py#L255\n",
    "\n"
   ]
  },
  {
   "cell_type": "code",
   "execution_count": 77,
   "id": "fd44e1c5-5ccc-4e94-8247-d83f2a32f02a",
   "metadata": {},
   "outputs": [],
   "source": [
    "query_sembedding = bm25.encode_documents(query)"
   ]
  },
  {
   "cell_type": "code",
   "execution_count": 78,
   "id": "4644d3a3-d5e3-4e6e-8383-ccd214bd0eaf",
   "metadata": {},
   "outputs": [
    {
     "data": {
      "text/plain": [
       "{'indices': [3650065742, 1196854555],\n",
       " 'values': [0.3225806451612903, 0.3225806451612903]}"
      ]
     },
     "execution_count": 78,
     "metadata": {},
     "output_type": "execute_result"
    }
   ],
   "source": [
    "# Cool! We can see there are only two values in here, because BM25 automatically removed stop word like \"what\" and \"is\"\n",
    "\n",
    "query_sembedding  "
   ]
  },
  {
   "cell_type": "code",
   "execution_count": 79,
   "id": "20e4ad1b-418b-4865-9995-45bb8a351efb",
   "metadata": {
    "scrolled": true
   },
   "outputs": [],
   "source": [
    "# Create dense embedding\n",
    "\n",
    "query_dembedding = produce_embeddings([query])"
   ]
  },
  {
   "cell_type": "code",
   "execution_count": 81,
   "id": "c366ef74-e1cd-46d1-b7a2-e856acb6ce8a",
   "metadata": {
    "scrolled": true
   },
   "outputs": [],
   "source": [
    "# query_dembedding"
   ]
  },
  {
   "cell_type": "markdown",
   "id": "06ebc12c-a6a2-4834-b6ec-749fd61f32ae",
   "metadata": {},
   "source": [
    "Pinecone vector search has a cool user feature where you can weight the sparse vectors higher or lower (i.e. of more or less importance) than the dense vectors. This is controlled by the `alpha` parameter. An `alpha` of 0 means you're doing a totally keyword-based search (i.e. only over sparse vectors), while an `alpha` of 1 means you're doing a totally semantic search (i.e. only over dense vectors).\n",
    "\n",
    "Let's make a function that'll let us weight our vectors by alpha.\n",
    "\n",
    "(We'll also include `k`, which is the number of docs we want to retrieve)"
   ]
  },
  {
   "cell_type": "code",
   "execution_count": 82,
   "id": "6b61142a-192e-4b73-87f1-eeb68e8c4998",
   "metadata": {},
   "outputs": [],
   "source": [
    "# Integrate alpha and top-k\n",
    "\n",
    "def weight_by_alpha(sparse_embedding: Dict[str, List[Any]], dense_embedding: List[float], alpha: float) -> Tuple[Dict[str, List[Any]], List[float]]:\n",
    "    \"\"\"\n",
    "    Weight the values of our sparse and dense embeddings by the parameter alpha (0-1).\n",
    "\n",
    "    :param sparse_embedding: Sparse embedding representation of one of our documents (or chunks).\n",
    "    :param dense_embedding: Dense embedding representation of one of our documents (or chunks).\n",
    "    :param alpha: Weighting parameter between 0-1 that controls the impact of sparse or dense embeddings on the retrieval and ranking\n",
    "        of returned docs (chunks) in our index.\n",
    "\n",
    "    :return: Weighted sparse and dense embeddings for one of our documents (chunks).\n",
    "    \"\"\"\n",
    "    if alpha < 0 or alpha > 1:\n",
    "        raise ValueError(\"Alpha must be between 0 and 1\")\n",
    "    hsparse = {\n",
    "        'indices': sparse_embedding['indices'],\n",
    "        'values':  [v * (1 - alpha) for v in sparse_embedding['values']]\n",
    "    }\n",
    "    hdense = [v * alpha for v in dense_embedding]\n",
    "    return hsparse, hdense"
   ]
  },
  {
   "cell_type": "markdown",
   "id": "f0c12e86-5a18-41cf-bce0-699df56fbc8c",
   "metadata": {},
   "source": [
    "Now let's make a function that'll query our Pinecone index while taking into account whatever `alpha` and `k` values we want to pass:"
   ]
  },
  {
   "cell_type": "code",
   "execution_count": 84,
   "id": "787c9898-b1d8-4eea-a8ec-5b24215c2a27",
   "metadata": {},
   "outputs": [],
   "source": [
    "# Note this doesn't have any genAI in it yet\n",
    "\n",
    "\n",
    "def issue_hybrid_query(sparse_embedding: Dict[str, List[Any]], dense_embedding: List[float], alpha: float, top_k: int) -> QueryResponse:\n",
    "    \"\"\"\n",
    "    Send properly formatted hybrid search query to Pinecone index and get back `k` ranked results (ranked by dot product similarity, as \n",
    "        defined when we made our index).\n",
    "\n",
    "    :param sparse_embedding: Sparse embedding representation of one of our documents (or chunks).\n",
    "    :param dense_embedding: Dense embedding representation of one of our documents (or chunks).\n",
    "    :param alpha: Weighting parameter between 0-1 that controls the impact of sparse or dense embeddings on the retrieval and ranking\n",
    "        of returned docs (chunks) in our index.\n",
    "    :param top_k: The number of documents (chunks) we want back from Pinecone.\n",
    "\n",
    "    :return: QueryResponse object from Pinecone containing top-k results.\n",
    "    \"\"\"\n",
    "    scaled_sparse, scaled_dense = weight_by_alpha(sparse_embedding, dense_embedding, alpha)\n",
    "\n",
    "    result = index.query(\n",
    "        vector=scaled_dense,\n",
    "        sparse_vector=scaled_sparse,\n",
    "        top_k=top_k,\n",
    "        include_metadata=True\n",
    "    )\n",
    "    return result"
   ]
  },
  {
   "cell_type": "markdown",
   "id": "626bffe8-cce1-47b9-84d6-c827e9f5cf07",
   "metadata": {},
   "source": [
    "Let's issue a pure semantic search:"
   ]
  },
  {
   "cell_type": "code",
   "execution_count": 85,
   "id": "cea14e5f-20dc-44a1-8793-17583e8689ef",
   "metadata": {
    "scrolled": true
   },
   "outputs": [
    {
     "data": {
      "text/plain": [
       "{'matches': [{'id': '5856cf9d-8e3c-4707-bfea-66f290dd8576',\n",
       "              'metadata': {'text': 'to the closest neighbors in a k-NN graph '\n",
       "                                   'serve as a simple approximation of the '\n",
       "                                   'Delaunay graph  (a graph which guranties '\n",
       "                                   'that the result of a basic greedy graph '\n",
       "                                   'traversal is always the nearest neighbor). '\n",
       "                                   'Unfortunately, Delaunay graph cannot be '\n",
       "                                   'efficiently constructed without prior '\n",
       "                                   'information about the structure of a space '\n",
       "                                   ', but its approximation by the nearest '\n",
       "                                   'neighbors can be done by using only '\n",
       "                                   'distances between the stored elements. It '\n",
       "                                   'was shown that proximity graph approaches '\n",
       "                                   'with such approximation'},\n",
       "              'score': 0.03963484,\n",
       "              'sparse_values': {'indices': [], 'values': []},\n",
       "              'values': []},\n",
       "             {'id': '4fd8e9cc-16f1-4a10-a71a-a9e8b4536d1f',\n",
       "              'metadata': {'text': 'to database vectors, as this would '\n",
       "                                   'increase the memory usage. 4) add a new '\n",
       "                                   'entry to the inverted list corresponding '\n",
       "                                   'to g-(y). It contains the vector (or '\n",
       "                                   'image) identifier and the binary code (the '\n",
       "                                   'product quantizer’s indexes). Searching '\n",
       "                                   'the nearest neighbor(s) of a query x '\n",
       "                                   'consists of 1) quantize x to its w nearest '\n",
       "                                   'neighbors in the codebook q; with these w '\n",
       "                                   'assignments. The two steps are applied to '\n",
       "                                   'all w assignments. 4) select the K nearest '\n",
       "                                   'neighbors of x based on the estimated '\n",
       "                                   'distances. This is implemented'},\n",
       "              'score': 0.03665689,\n",
       "              'sparse_values': {'indices': [], 'values': []},\n",
       "              'values': []},\n",
       "             {'id': '3f1bf006-2f9c-421e-b73e-de7c281d2e19',\n",
       "              'metadata': {'text': 'neighbors, the correcting term is likely '\n",
       "                                   'to be higher 0 Ts. L -0.3 -0.2 -0.1 0 0.1 '\n",
       "                                   '0.2 0.3 difference: estimator d(x,y) In '\n",
       "                                   'our experiments, we observe that the '\n",
       "                                   'correction returns inferior results on '\n",
       "                                   'average. Therefore, we advocate the use of '\n",
       "                                   'Equation 13 for the nearest neighbor '\n",
       "                                   'search. The corrected version is useful '\n",
       "                                   'only if we are interested in the distances '\n",
       "                                   'themselves. Approximate nearest neighbor '\n",
       "                                   'search with product quantizers is fast '\n",
       "                                   '(only m additions are required per '\n",
       "                                   'distance calculation) and reduces'},\n",
       "              'score': 0.033054642,\n",
       "              'sparse_values': {'indices': [], 'values': []},\n",
       "              'values': []},\n",
       "             {'id': '360a6e24-e28a-4aa9-9637-5202f603af00',\n",
       "              'metadata': {'text': 'nearest neighbors is then approximated by '\n",
       "                                   'the search of the nearest neighbors in '\n",
       "                                   'terms of Hamming distances between codes. '\n",
       "                                   'In , spectral hashing (SH) is shown to '\n",
       "                                   'outperform the binary codes generated by '\n",
       "                                   'the restricted Boltzmann machine , '\n",
       "                                   'boosting and LSH. In this paper, we '\n",
       "                                   'construct short codes using quantization. '\n",
       "                                   'The goal is to estimate distances using '\n",
       "                                   'vectorto-centroid distances, i.e., the '\n",
       "                                   'query vector is not quantized, codes are '\n",
       "                                   'assigned to the database vectors only. '\n",
       "                                   'This reduces the quantization noise'},\n",
       "              'score': 0.029526833,\n",
       "              'sparse_values': {'indices': [], 'values': []},\n",
       "              'values': []},\n",
       "             {'id': '19c5c0c3-0ebe-4e02-892f-eed62d6bc642',\n",
       "              'metadata': {'text': 'Nearest Neighbor Queries in Fixed '\n",
       "                                   'Dimensions. In Proceedings of the Fourth '\n",
       "                                   'Annual ACMSIAM Symposium on Discrete '\n",
       "                                   'Algorithms (Austin, Texas, USA) (SODA '\n",
       "                                   '’93). Society for Industrial and Applied '\n",
       "                                   'Mathematics, Philadelphia, PA, USA, '\n",
       "                                   '271-280. '\n",
       "                                   'http://dl.acm.org/citation.cfm?id=313559.313768 '\n",
       "                                   'Martin Aumiiller, Erik Bernhardsson, and '\n",
       "                                   'Alexander Faithfull. 2020. ANN-Benchmarks: '\n",
       "                                   'A benchmarking tool for approximate '\n",
       "                                   'nearest neighbor algorithms. Information '\n",
       "                                   'Systems 87 (2020). http://www.'},\n",
       "              'score': 0.027808676,\n",
       "              'sparse_values': {'indices': [], 'values': []},\n",
       "              'values': []}],\n",
       " 'namespace': ''}"
      ]
     },
     "execution_count": 85,
     "metadata": {},
     "output_type": "execute_result"
    }
   ],
   "source": [
    "# Note, for our dense embedding (`query_dembedding`), we need to grab the 1st value [0] since Pinecone expects a Numpy array when queried:\n",
    "\n",
    "issue_hybrid_query(query_sembedding, query_dembedding[0], 0.0, 5)"
   ]
  },
  {
   "cell_type": "markdown",
   "id": "d98e72fd-4ace-42dc-8bd2-d086bd0907f4",
   "metadata": {
    "scrolled": true
   },
   "source": [
    "And now a pure keyword search. You can see how many more domain-specific words are in these results:"
   ]
  },
  {
   "cell_type": "code",
   "execution_count": 86,
   "id": "f6146883-735d-4755-84fc-f234a92725be",
   "metadata": {
    "scrolled": true
   },
   "outputs": [
    {
     "data": {
      "text/plain": [
       "{'matches': [{'id': 'e3fa7bd5-e76b-4126-b997-78c29b443683',\n",
       "              'metadata': {'text': 'Inc., San Francisco, CA, USA. Piotr Indyk '\n",
       "                                   'and Rajeev Motwani. 1998. Approximate '\n",
       "                                   'Nearest Neighbors: Towards Removing the '\n",
       "                                   'Curse of Dimensionality. In Proceedings of '\n",
       "                                   'the Thirtieth Annual ACM Symposium on '\n",
       "                                   'Theory of Computing (Dallas, Texas, USA) '\n",
       "                                   '(STOC ’98). ACM, New York, NY, USA, '\n",
       "                                   '604-613. M Iwasaki. [n.d.]. '\n",
       "                                   '_https://github.com/yahoojapan/NGT/wiki '\n",
       "                                   'Masajiro Iwasaki and Daisuke Miyazaki. '\n",
       "                                   '2018. Optimization of Indexing Based on '\n",
       "                                   'k-Nearest Neighbor Graph for Proximity '\n",
       "                                   'Search in High-dimensional Data. Herve '\n",
       "                                   'Jegou,'},\n",
       "              'score': 0.7219573,\n",
       "              'sparse_values': {'indices': [], 'values': []},\n",
       "              'values': []},\n",
       "             {'id': '01c9e49c-2287-4080-b3d2-263c60044cac',\n",
       "              'metadata': {'text': 'for nearest neighbors using a greedy '\n",
       "                                   'search algorithm. The greedy search '\n",
       "                                   'algorithm traverses the graph starting at '\n",
       "                                   'a designated navigating or start node s € '\n",
       "                                   'P. The search iterates by greedily walking '\n",
       "                                   'from the current node u to a node v € '\n",
       "                                   'Nout(u) that minimizes the distance to the '\n",
       "                                   'query, and terminates when it reaches a '\n",
       "                                   'locally-optimal node, say p*, that has the '\n",
       "                                   'property d(p*,q) < d(p,q) Vp € Nou(p*). '\n",
       "                                   'Greedy search cannot improve distance to '\n",
       "                                   'the query point by navigating out of p* '\n",
       "                                   'and returns it as the'},\n",
       "              'score': 0.7088816,\n",
       "              'sparse_values': {'indices': [], 'values': []},\n",
       "              'values': []},\n",
       "             {'id': '9091dcad-35be-4f38-869c-461e9182fa86',\n",
       "              'metadata': {'text': 'the 24th International Conference on '\n",
       "                                   'Artificial Intelligence (Buenos Aires, '\n",
       "                                   'Argentina) (IJCAI’15). AAAI Press, '\n",
       "                                   '2248-2254. Header only C++/python library '\n",
       "                                   'for fast approximate nearest neighbors. '\n",
       "                                   '[n.d.]._ https://github.com/nmslib/hnswlib '\n",
       "                                   'Yongjoo Park, Michael Cafarella, and '\n",
       "                                   'Barzan Mozafari. 2015. NeighborSensitive '\n",
       "                                   'Hashing. Proc. VLDB Endow. 9, 3 (Nov. '\n",
       "                                   '2015), 144-155. https: '\n",
       "                                   '//doi.org/10.14778/2850583.2850589 Suhas '\n",
       "                                   'Jayaram Subramanya, Fnu Dewvrit, Rohan '\n",
       "                                   'Kadekodi, Ravishankar Krishnawamy, and '\n",
       "                                   'Harsha Vardhan'},\n",
       "              'score': 0.64492357,\n",
       "              'sparse_values': {'indices': [], 'values': []},\n",
       "              'values': []},\n",
       "             {'id': '74397229-db9a-47a8-842f-414ae6c0ede8',\n",
       "              'metadata': {'text': 'k-nearest neighbor graphs to solve nearest '\n",
       "                                   'neighbor searches,\" in Advances in Pattern '\n",
       "                                   'Recognition: Springer, 2010, pp. 270-280. '\n",
       "                                   'K. Aoyama, K. Saito, H. Sawada, and N. '\n",
       "                                   'Ueda, \"Fast approximate similarity search '\n",
       "                                   'based on degree-reduced neighborhood. '\n",
       "                                   'graphs,\" in Proceedings of the 17th ACM '\n",
       "                                   'SIGKDD international conference on '\n",
       "                                   'Knowledge discovery and data mining, 2011, '\n",
       "                                   'pp. 10551063: ACM. G. Ruiz, E. Chavez, M. '\n",
       "                                   'Graff, and E. S. Téllez, \"Finding Near '\n",
       "                                   'Neighbors Through Local Search,\" in '\n",
       "                                   'Similarity Search and'},\n",
       "              'score': 0.63962823,\n",
       "              'sparse_values': {'indices': [], 'values': []},\n",
       "              'values': []},\n",
       "             {'id': '36f82a56-86f9-49cb-b0ca-aa4167c88256',\n",
       "              'metadata': {'text': '(it can be random or supplied by a '\n",
       "                                   'separate algorithm) and iteratively '\n",
       "                                   'traverse the graph. At each step of the '\n",
       "                                   'traversal the algorithm examines the '\n",
       "                                   'distances from a query to the neighbors of '\n",
       "                                   'a current base node and then selects as '\n",
       "                                   'the next base node the adjacent node that '\n",
       "                                   'minimizes the distance, while constantly '\n",
       "                                   'keeping track of the best discovered '\n",
       "                                   'neighbors. The search is terminated when '\n",
       "                                   'some stopping condition is met (e.g. the '\n",
       "                                   'number of distance calculations). Links to '\n",
       "                                   'the closest neighbors in a k-NN'},\n",
       "              'score': 0.62833506,\n",
       "              'sparse_values': {'indices': [], 'values': []},\n",
       "              'values': []}],\n",
       " 'namespace': ''}"
      ]
     },
     "execution_count": 86,
     "metadata": {},
     "output_type": "execute_result"
    }
   ],
   "source": [
    "issue_hybrid_query(query_sembedding, query_dembedding[0], 1.0, 5)"
   ]
  },
  {
   "cell_type": "markdown",
   "id": "623df78c-e1db-440a-97fb-25d97e6678f0",
   "metadata": {},
   "source": [
    "You can see the differences above: when we issue a purely semantic search, our search results are about what the idea of \"nearest neighbors\" is; in our keyword search, the vast majority of our search results are just exact-word matches for the tokens \"nearest\" and \"neighbors\". Most of them are just citations from the HNSW article's bibliography!\n",
    "\n",
    "Can we get the best of both worlds? In an ideal world, my search results would both tell me \"about\" the concept of nearest neighbors and contain things like citations that I could read more about later.\n",
    "\n",
    "Let's see if we can get a combination of semantic and keyword search by toggling our `alpha` value:"
   ]
  },
  {
   "cell_type": "code",
   "execution_count": 88,
   "id": "a19923ef-af08-41cb-976b-f93fd4e0148d",
   "metadata": {
    "scrolled": true
   },
   "outputs": [
    {
     "data": {
      "text/plain": [
       "{'matches': [{'id': 'e3fa7bd5-e76b-4126-b997-78c29b443683',\n",
       "              'metadata': {'text': 'Inc., San Francisco, CA, USA. Piotr Indyk '\n",
       "                                   'and Rajeev Motwani. 1998. Approximate '\n",
       "                                   'Nearest Neighbors: Towards Removing the '\n",
       "                                   'Curse of Dimensionality. In Proceedings of '\n",
       "                                   'the Thirtieth Annual ACM Symposium on '\n",
       "                                   'Theory of Computing (Dallas, Texas, USA) '\n",
       "                                   '(STOC ’98). ACM, New York, NY, USA, '\n",
       "                                   '604-613. M Iwasaki. [n.d.]. '\n",
       "                                   '_https://github.com/yahoojapan/NGT/wiki '\n",
       "                                   'Masajiro Iwasaki and Daisuke Miyazaki. '\n",
       "                                   '2018. Optimization of Indexing Based on '\n",
       "                                   'k-Nearest Neighbor Graph for Proximity '\n",
       "                                   'Search in High-dimensional Data. Herve '\n",
       "                                   'Jegou,'},\n",
       "              'score': 0.2293057,\n",
       "              'sparse_values': {'indices': [], 'values': []},\n",
       "              'values': []},\n",
       "             {'id': '01c9e49c-2287-4080-b3d2-263c60044cac',\n",
       "              'metadata': {'text': 'for nearest neighbors using a greedy '\n",
       "                                   'search algorithm. The greedy search '\n",
       "                                   'algorithm traverses the graph starting at '\n",
       "                                   'a designated navigating or start node s € '\n",
       "                                   'P. The search iterates by greedily walking '\n",
       "                                   'from the current node u to a node v € '\n",
       "                                   'Nout(u) that minimizes the distance to the '\n",
       "                                   'query, and terminates when it reaches a '\n",
       "                                   'locally-optimal node, say p*, that has the '\n",
       "                                   'property d(p*,q) < d(p,q) Vp € Nou(p*). '\n",
       "                                   'Greedy search cannot improve distance to '\n",
       "                                   'the query point by navigating out of p* '\n",
       "                                   'and returns it as the'},\n",
       "              'score': 0.2212503,\n",
       "              'sparse_values': {'indices': [], 'values': []},\n",
       "              'values': []},\n",
       "             {'id': '3f1bf006-2f9c-421e-b73e-de7c281d2e19',\n",
       "              'metadata': {'text': 'neighbors, the correcting term is likely '\n",
       "                                   'to be higher 0 Ts. L -0.3 -0.2 -0.1 0 0.1 '\n",
       "                                   '0.2 0.3 difference: estimator d(x,y) In '\n",
       "                                   'our experiments, we observe that the '\n",
       "                                   'correction returns inferior results on '\n",
       "                                   'average. Therefore, we advocate the use of '\n",
       "                                   'Equation 13 for the nearest neighbor '\n",
       "                                   'search. The corrected version is useful '\n",
       "                                   'only if we are interested in the distances '\n",
       "                                   'themselves. Approximate nearest neighbor '\n",
       "                                   'search with product quantizers is fast '\n",
       "                                   '(only m additions are required per '\n",
       "                                   'distance calculation) and reduces'},\n",
       "              'score': 0.20675164,\n",
       "              'sparse_values': {'indices': [], 'values': []},\n",
       "              'values': []},\n",
       "             {'id': '74397229-db9a-47a8-842f-414ae6c0ede8',\n",
       "              'metadata': {'text': 'k-nearest neighbor graphs to solve nearest '\n",
       "                                   'neighbor searches,\" in Advances in Pattern '\n",
       "                                   'Recognition: Springer, 2010, pp. 270-280. '\n",
       "                                   'K. Aoyama, K. Saito, H. Sawada, and N. '\n",
       "                                   'Ueda, \"Fast approximate similarity search '\n",
       "                                   'based on degree-reduced neighborhood. '\n",
       "                                   'graphs,\" in Proceedings of the 17th ACM '\n",
       "                                   'SIGKDD international conference on '\n",
       "                                   'Knowledge discovery and data mining, 2011, '\n",
       "                                   'pp. 10551063: ACM. G. Ruiz, E. Chavez, M. '\n",
       "                                   'Graff, and E. S. Téllez, \"Finding Near '\n",
       "                                   'Neighbors Through Local Search,\" in '\n",
       "                                   'Similarity Search and'},\n",
       "              'score': 0.20662595,\n",
       "              'sparse_values': {'indices': [], 'values': []},\n",
       "              'values': []},\n",
       "             {'id': '36f82a56-86f9-49cb-b0ca-aa4167c88256',\n",
       "              'metadata': {'text': '(it can be random or supplied by a '\n",
       "                                   'separate algorithm) and iteratively '\n",
       "                                   'traverse the graph. At each step of the '\n",
       "                                   'traversal the algorithm examines the '\n",
       "                                   'distances from a query to the neighbors of '\n",
       "                                   'a current base node and then selects as '\n",
       "                                   'the next base node the adjacent node that '\n",
       "                                   'minimizes the distance, while constantly '\n",
       "                                   'keeping track of the best discovered '\n",
       "                                   'neighbors. The search is terminated when '\n",
       "                                   'some stopping condition is met (e.g. the '\n",
       "                                   'number of distance calculations). Links to '\n",
       "                                   'the closest neighbors in a k-NN'},\n",
       "              'score': 0.20429118,\n",
       "              'sparse_values': {'indices': [], 'values': []},\n",
       "              'values': []}],\n",
       " 'namespace': ''}"
      ]
     },
     "execution_count": 88,
     "metadata": {},
     "output_type": "execute_result"
    }
   ],
   "source": [
    "issue_hybrid_query(query_sembedding, query_dembedding[0], 0.3, 5)  # closer to 1.0 = closer to pure keyword search"
   ]
  },
  {
   "cell_type": "markdown",
   "id": "6f0e73e1-4ae3-4237-91bc-cea84a810a72",
   "metadata": {},
   "source": [
    "Amazing! You can see that our first couple search results are not very different than our pure keyword search. But when you get further down the results list, you'll see that we get an equation we can use to calculate KNN. That's a bit more useful than #3 in our pure keyword search, which is a bibliography entry. That's likely because we have semantic search in there too -- Pinecone knows we want to know \"about\" KNN, so it fetches items with lots of domain-specific terms (keyword search), but also items that demonstrate the \"aboutness\" of KNN (semantic search).\n"
   ]
  },
  {
   "cell_type": "markdown",
   "id": "95fec382-1f9d-4e23-abbe-9897a00d531c",
   "metadata": {},
   "source": [
    "# Let's take a closer look. For science! "
   ]
  },
  {
   "cell_type": "code",
   "execution_count": 89,
   "id": "8b16ea1f-e70a-4c44-af0a-95666cd212d8",
   "metadata": {},
   "outputs": [],
   "source": [
    "pure_keyword = issue_hybrid_query(query_sembedding, query_dembedding[0], 1.0, 5)\n",
    "pure_semantic = issue_hybrid_query(query_sembedding, query_dembedding[0], 0.0, 5)\n",
    "hybrid_1 = issue_hybrid_query(query_sembedding, query_dembedding[0], 0.1, 5)\n",
    "hybrid_2 = issue_hybrid_query(query_sembedding, query_dembedding[0], 0.2, 5)\n",
    "hybrid_3 = issue_hybrid_query(query_sembedding, query_dembedding[0], 0.3, 5)\n",
    "hybrid_4 = issue_hybrid_query(query_sembedding, query_dembedding[0], 0.4, 5)\n",
    "hybrid_5 = issue_hybrid_query(query_sembedding, query_dembedding[0], 0.5, 5)"
   ]
  },
  {
   "cell_type": "code",
   "execution_count": 90,
   "id": "6de66f2e-7a86-4711-837b-8dfd19785e27",
   "metadata": {
    "scrolled": true
   },
   "outputs": [],
   "source": [
    "# Let's turn these all into dataframes and see the different rankings\n",
    "# Feel free to skip this part (it's just an interesting side journey)\n",
    "\n",
    "import pandas as pd\n",
    "\n",
    "df = pd.concat([\n",
    "    pd.DataFrame([(i['metadata']['text'], i['score'], 'keyword') for i in pure_keyword.get('matches')]),\n",
    "    pd.DataFrame([(i['metadata']['text'], i['score'], 'semantic') for i in pure_semantic.get('matches')]),\n",
    "    pd.DataFrame([(i['metadata']['text'], i['score'], 'hybrid_1') for i in hybrid_1.get('matches')]),\n",
    "    pd.DataFrame([(i['metadata']['text'], i['score'], 'hybrid_2') for i in hybrid_2.get('matches')]),\n",
    "    pd.DataFrame([(i['metadata']['text'], i['score'], 'hybrid_3') for i in hybrid_3.get('matches')]),\n",
    "    pd.DataFrame([(i['metadata']['text'], i['score'], 'hybrid_4') for i in hybrid_4.get('matches')]),\n",
    "    pd.DataFrame([(i['metadata']['text'], i['score'], 'hybrid_5') for i in hybrid_5.get('matches')]),\n",
    "]).rename(columns={0: 'document', 1: 'score', 2: 'search_type'})\n",
    "\n",
    "# Note: don't pay too much attention to the \"score\" column. This really only matters within the same type of search, for ranking docs.\n",
    "# Don't use it to compare *across* different search types (e.g. keyword search isn't inherently more relevant simply because it has higher\n",
    "# scores overall)"
   ]
  },
  {
   "cell_type": "code",
   "execution_count": 91,
   "id": "9912ce6a-e3bf-48f1-9e51-65c8cc3d8691",
   "metadata": {},
   "outputs": [
    {
     "data": {
      "text/html": [
       "<div>\n",
       "<style scoped>\n",
       "    .dataframe tbody tr th:only-of-type {\n",
       "        vertical-align: middle;\n",
       "    }\n",
       "\n",
       "    .dataframe tbody tr th {\n",
       "        vertical-align: top;\n",
       "    }\n",
       "\n",
       "    .dataframe thead th {\n",
       "        text-align: right;\n",
       "    }\n",
       "</style>\n",
       "<table border=\"1\" class=\"dataframe\">\n",
       "  <thead>\n",
       "    <tr style=\"text-align: right;\">\n",
       "      <th></th>\n",
       "      <th>document</th>\n",
       "      <th>score</th>\n",
       "      <th>search_type</th>\n",
       "    </tr>\n",
       "  </thead>\n",
       "  <tbody>\n",
       "    <tr>\n",
       "      <th>0</th>\n",
       "      <td>Inc., San Francisco, CA, USA. Piotr Indyk and ...</td>\n",
       "      <td>0.721957</td>\n",
       "      <td>keyword</td>\n",
       "    </tr>\n",
       "    <tr>\n",
       "      <th>1</th>\n",
       "      <td>for nearest neighbors using a greedy search al...</td>\n",
       "      <td>0.708882</td>\n",
       "      <td>keyword</td>\n",
       "    </tr>\n",
       "    <tr>\n",
       "      <th>2</th>\n",
       "      <td>the 24th International Conference on Artificia...</td>\n",
       "      <td>0.644924</td>\n",
       "      <td>keyword</td>\n",
       "    </tr>\n",
       "    <tr>\n",
       "      <th>3</th>\n",
       "      <td>k-nearest neighbor graphs to solve nearest nei...</td>\n",
       "      <td>0.639628</td>\n",
       "      <td>keyword</td>\n",
       "    </tr>\n",
       "    <tr>\n",
       "      <th>4</th>\n",
       "      <td>(it can be random or supplied by a separate al...</td>\n",
       "      <td>0.628335</td>\n",
       "      <td>keyword</td>\n",
       "    </tr>\n",
       "  </tbody>\n",
       "</table>\n",
       "</div>"
      ],
      "text/plain": [
       "                                            document     score search_type\n",
       "0  Inc., San Francisco, CA, USA. Piotr Indyk and ...  0.721957     keyword\n",
       "1  for nearest neighbors using a greedy search al...  0.708882     keyword\n",
       "2  the 24th International Conference on Artificia...  0.644924     keyword\n",
       "3  k-nearest neighbor graphs to solve nearest nei...  0.639628     keyword\n",
       "4  (it can be random or supplied by a separate al...  0.628335     keyword"
      ]
     },
     "execution_count": 91,
     "metadata": {},
     "output_type": "execute_result"
    }
   ],
   "source": [
    "df.head()"
   ]
  },
  {
   "cell_type": "code",
   "execution_count": 94,
   "id": "eb6cb84e-21b9-4cd0-b1f1-06c077ea58c0",
   "metadata": {
    "scrolled": true
   },
   "outputs": [
    {
     "data": {
      "text/html": [
       "<div>\n",
       "<style scoped>\n",
       "    .dataframe tbody tr th:only-of-type {\n",
       "        vertical-align: middle;\n",
       "    }\n",
       "\n",
       "    .dataframe tbody tr th {\n",
       "        vertical-align: top;\n",
       "    }\n",
       "\n",
       "    .dataframe thead th {\n",
       "        text-align: right;\n",
       "    }\n",
       "</style>\n",
       "<table border=\"1\" class=\"dataframe\">\n",
       "  <thead>\n",
       "    <tr style=\"text-align: right;\">\n",
       "      <th></th>\n",
       "      <th>document</th>\n",
       "      <th>score</th>\n",
       "      <th>search_type</th>\n",
       "      <th>document_encoded</th>\n",
       "    </tr>\n",
       "  </thead>\n",
       "  <tbody>\n",
       "    <tr>\n",
       "      <th>4</th>\n",
       "      <td>(it can be random or supplied by a separate al...</td>\n",
       "      <td>0.628335</td>\n",
       "      <td>keyword</td>\n",
       "      <td>0</td>\n",
       "    </tr>\n",
       "    <tr>\n",
       "      <th>0</th>\n",
       "      <td>Inc., San Francisco, CA, USA. Piotr Indyk and ...</td>\n",
       "      <td>0.721957</td>\n",
       "      <td>keyword</td>\n",
       "      <td>1</td>\n",
       "    </tr>\n",
       "    <tr>\n",
       "      <th>1</th>\n",
       "      <td>for nearest neighbors using a greedy search al...</td>\n",
       "      <td>0.708882</td>\n",
       "      <td>keyword</td>\n",
       "      <td>3</td>\n",
       "    </tr>\n",
       "    <tr>\n",
       "      <th>3</th>\n",
       "      <td>k-nearest neighbor graphs to solve nearest nei...</td>\n",
       "      <td>0.639628</td>\n",
       "      <td>keyword</td>\n",
       "      <td>4</td>\n",
       "    </tr>\n",
       "    <tr>\n",
       "      <th>2</th>\n",
       "      <td>the 24th International Conference on Artificia...</td>\n",
       "      <td>0.644924</td>\n",
       "      <td>keyword</td>\n",
       "      <td>8</td>\n",
       "    </tr>\n",
       "  </tbody>\n",
       "</table>\n",
       "</div>"
      ],
      "text/plain": [
       "                                            document     score search_type  \\\n",
       "4  (it can be random or supplied by a separate al...  0.628335     keyword   \n",
       "0  Inc., San Francisco, CA, USA. Piotr Indyk and ...  0.721957     keyword   \n",
       "1  for nearest neighbors using a greedy search al...  0.708882     keyword   \n",
       "3  k-nearest neighbor graphs to solve nearest nei...  0.639628     keyword   \n",
       "2  the 24th International Conference on Artificia...  0.644924     keyword   \n",
       "\n",
       "   document_encoded  \n",
       "4                 0  \n",
       "0                 1  \n",
       "1                 3  \n",
       "3                 4  \n",
       "2                 8  "
      ]
     },
     "execution_count": 94,
     "metadata": {},
     "output_type": "execute_result"
    }
   ],
   "source": [
    "# Let's give each document a label so that it's easier to see their ranking differences per search type\n",
    "\n",
    "from sklearn import preprocessing \n",
    "label_encoder = preprocessing.LabelEncoder()\n",
    "df['document_encoded'] = label_encoder.fit_transform(df['document'])\n",
    "\n",
    "df.head().sort_values(['document_encoded'])"
   ]
  },
  {
   "cell_type": "code",
   "execution_count": 95,
   "id": "f6945cec-025c-4425-831e-0aaeb4a83cf6",
   "metadata": {
    "scrolled": true
   },
   "outputs": [
    {
     "name": "stdout",
     "output_type": "stream",
     "text": [
      "  search_type  document_encoded     score\n",
      "0    hybrid_1                10  0.091840\n",
      "1    hybrid_1                 6  0.090954\n",
      "2    hybrid_1                 1  0.088548\n",
      "3    hybrid_1                 7  0.085497\n",
      "4    hybrid_1                 2  0.084330\n",
      "  search_type  document_encoded     score\n",
      "0    hybrid_2                 1  0.158927\n",
      "1    hybrid_2                 3  0.151589\n",
      "2    hybrid_2                 6  0.148853\n",
      "3    hybrid_2                 4  0.144768\n",
      "4    hybrid_2                10  0.144045\n",
      "  search_type  document_encoded     score\n",
      "0    hybrid_3                 1  0.229306\n",
      "1    hybrid_3                 3  0.221250\n",
      "2    hybrid_3                 6  0.206752\n",
      "3    hybrid_3                 4  0.206626\n",
      "4    hybrid_3                 0  0.204291\n",
      "  search_type  document_encoded     score\n",
      "0    hybrid_4                 1  0.299685\n",
      "1    hybrid_4                 3  0.290912\n",
      "2    hybrid_4                 4  0.268483\n",
      "3    hybrid_4                 8  0.265589\n",
      "4    hybrid_4                 0  0.264869\n",
      "  search_type  document_encoded     score\n",
      "0    hybrid_5                 1  0.370063\n",
      "1    hybrid_5                 3  0.360574\n",
      "2    hybrid_5                 4  0.330341\n",
      "3    hybrid_5                 8  0.328812\n",
      "4    hybrid_5                 0  0.325447\n",
      "  search_type  document_encoded     score\n",
      "0     keyword                 1  0.721957\n",
      "1     keyword                 3  0.708882\n",
      "2     keyword                 8  0.644924\n",
      "3     keyword                 4  0.639628\n",
      "4     keyword                 0  0.628335\n",
      "  search_type  document_encoded     score\n",
      "0    semantic                10  0.039635\n",
      "1    semantic                 9  0.036657\n",
      "2    semantic                 6  0.033055\n",
      "3    semantic                 5  0.029527\n",
      "4    semantic                 2  0.027809\n"
     ]
    }
   ],
   "source": [
    "for i, v in df.groupby(['search_type']):\n",
    "    print(v[['search_type', 'document_encoded', 'score']])\n",
    "    "
   ]
  },
  {
   "cell_type": "markdown",
   "id": "b268e1e0-d59b-4d40-a19d-f084a8b108b9",
   "metadata": {},
   "source": [
    "Above, you can see the subtle ranking differences across each search type. For the most part, `document 1` and `document 3` are the top two documents, except in `hybrid_1` and `semantic`. In those two searche types, document 10 is the first-ranked document, while `document 6` is the 2nd-ranked document in `hybrid_1` and `document 9` is the 2nd-ranked document in `semantic`.\n",
    "\n",
    "It's up to you and your stakeholders to find the ideal `alpha` for your use case(s).\n",
    "\n",
    "Directly, for our use case, it seems anything >= `alpha=0.2` gets us similar results, so the impact of `alpha` is most discernable between `0.0-0.2`.\n",
    "\n",
    "Cool!"
   ]
  },
  {
   "cell_type": "markdown",
   "id": "5bb6ece2-cb19-43c0-9ab5-e0c0c09b46a2",
   "metadata": {
    "editable": true,
    "slideshow": {
     "slide_type": ""
    },
    "tags": []
   },
   "source": [
    "# Incorporating GenAI\n",
    "\n",
    "Now, hybrid search is cool enough, but what if you don't want to spend time sifting through your index's search results? What if you just want a single answer to a query?\n",
    "\n",
    "That's where GenAI comes in. \n",
    "\n",
    "We will make a retrieval augmented generation (RAG) pipeline that will make this happen.\n",
    "\n",
    "Since large language models (LLMs) do not know a ton of specific information (they are trained on the general Internet), especially if the information is from PDFs that it would have to download to have access to (like what are in our index), we need to give it this information!\n",
    "\n",
    "We do this by first sending our query to our Pinecone index and grabbing some search  results. We then attach these search results to our original query and send *both* to the LLM. That way, the LLM both knows what we want to ask it & can pull from its general knowledge store *and* has a specialized knowledge store (our Pinecone search results so that it can get us extra specific information.\n",
    "\n",
    "Let's try it out:"
   ]
  },
  {
   "cell_type": "code",
   "execution_count": 96,
   "id": "9cefb103-621c-4a43-b4e6-caeec5dfccc1",
   "metadata": {},
   "outputs": [],
   "source": [
    "# Let's grab the textual metadata from our search results:\n",
    "\n",
    "hybrid_context = [i.get('metadata').get('text') for i in hybrid_2.get('matches')]\n",
    "pure_keyword_context = [i.get('metadata').get('text') for i in pure_keyword.get('matches')]\n",
    "pure_semantic_context = [i.get('metadata').get('text') for i in pure_semantic.get('matches')]"
   ]
  },
  {
   "cell_type": "code",
   "execution_count": 97,
   "id": "11788caa-ea17-4678-93de-871f74d3057f",
   "metadata": {},
   "outputs": [],
   "source": [
    "# We are then going to combine this \"context\" with our original query in a format that our LLM likes:\n",
    "\n",
    "hybrid_augmented_query = \"\\n\\n---\\n\\n\".join(hybrid_context)+\"\\n\\n-----\\n\\n\"+query\n",
    "pure_keyword_augmented_query = \"\\n\\n---\\n\\n\".join(pure_keyword_context)+\"\\n\\n-----\\n\\n\"+query\n",
    "pure_semantic_augmented_query = \"\\n\\n---\\n\\n\".join(pure_keyword_context)+\"\\n\\n-----\\n\\n\"+query"
   ]
  },
  {
   "cell_type": "code",
   "execution_count": 98,
   "id": "705cdd94-39ad-493e-b55b-12516b20ea1e",
   "metadata": {
    "scrolled": true
   },
   "outputs": [
    {
     "name": "stdout",
     "output_type": "stream",
     "text": [
      "Inc., San Francisco, CA, USA. Piotr Indyk and Rajeev Motwani. 1998. Approximate Nearest Neighbors: Towards Removing the Curse of Dimensionality. In Proceedings of the Thirtieth Annual ACM Symposium on Theory of Computing (Dallas, Texas, USA) (STOC ’98). ACM, New York, NY, USA, 604-613. M Iwasaki. [n.d.]. _https://github.com/yahoojapan/NGT/wiki Masajiro Iwasaki and Daisuke Miyazaki. 2018. Optimization of Indexing Based on k-Nearest Neighbor Graph for Proximity Search in High-dimensional Data. Herve Jegou,\n",
      "\n",
      "---\n",
      "\n",
      "for nearest neighbors using a greedy search algorithm. The greedy search algorithm traverses the graph starting at a designated navigating or start node s € P. The search iterates by greedily walking from the current node u to a node v € Nout(u) that minimizes the distance to the query, and terminates when it reaches a locally-optimal node, say p*, that has the property d(p*,q) < d(p,q) Vp € Nou(p*). Greedy search cannot improve distance to the query point by navigating out of p* and returns it as the\n",
      "\n",
      "---\n",
      "\n",
      "neighbors, the correcting term is likely to be higher 0 Ts. L -0.3 -0.2 -0.1 0 0.1 0.2 0.3 difference: estimator d(x,y) In our experiments, we observe that the correction returns inferior results on average. Therefore, we advocate the use of Equation 13 for the nearest neighbor search. The corrected version is useful only if we are interested in the distances themselves. Approximate nearest neighbor search with product quantizers is fast (only m additions are required per distance calculation) and reduces\n",
      "\n",
      "---\n",
      "\n",
      "k-nearest neighbor graphs to solve nearest neighbor searches,\" in Advances in Pattern Recognition: Springer, 2010, pp. 270-280. K. Aoyama, K. Saito, H. Sawada, and N. Ueda, \"Fast approximate similarity search based on degree-reduced neighborhood. graphs,\" in Proceedings of the 17th ACM SIGKDD international conference on Knowledge discovery and data mining, 2011, pp. 10551063: ACM. G. Ruiz, E. Chavez, M. Graff, and E. S. Téllez, \"Finding Near Neighbors Through Local Search,\" in Similarity Search and\n",
      "\n",
      "---\n",
      "\n",
      "to the closest neighbors in a k-NN graph serve as a simple approximation of the Delaunay graph  (a graph which guranties that the result of a basic greedy graph traversal is always the nearest neighbor). Unfortunately, Delaunay graph cannot be efficiently constructed without prior information about the structure of a space , but its approximation by the nearest neighbors can be done by using only distances between the stored elements. It was shown that proximity graph approaches with such approximation\n",
      "\n",
      "-----\n",
      "\n",
      "What are nearest neighbors?\n"
     ]
    }
   ],
   "source": [
    "print(hybrid_augmented_query)"
   ]
  },
  {
   "cell_type": "code",
   "execution_count": 99,
   "id": "384afe12-83bf-4c10-baf0-0241ecd8132f",
   "metadata": {},
   "outputs": [],
   "source": [
    "# We are then going to give our LLM some instructions for how to act:\n",
    "\n",
    "primer = f\"\"\"You are Q&A bot. A highly intelligent system that answers\n",
    "user questions based on the information provided by the user above\n",
    "each question. If the information can not be found in the information\n",
    "provided by the user you truthfully say \"I don't know\".\n",
    "\"\"\""
   ]
  },
  {
   "cell_type": "code",
   "execution_count": 100,
   "id": "cf840d48-be91-4dd3-b7bb-9d0556da0b80",
   "metadata": {
    "scrolled": true
   },
   "outputs": [
    {
     "data": {
      "text/plain": [
       "<OpenAIObject chat.completion id=chatcmpl-8DzKLEmZkLOASkAcbzPa9me2c0nCb at 0x2b64aa450> JSON: {\n",
       "  \"choices\": [\n",
       "    {\n",
       "      \"finish_reason\": \"stop\",\n",
       "      \"index\": 0,\n",
       "      \"message\": {\n",
       "        \"content\": \"Nearest neighbors is a term used in computer science, specifically in the field of data mining and information retrieval. It refers to algorithms or methods that find the data points in a given dataset that are closest or most similar to a given point or query. Nearest neighbor methods are often used to classify objects, predict values, or find patterns within data.\",\n",
       "        \"role\": \"assistant\"\n",
       "      }\n",
       "    }\n",
       "  ],\n",
       "  \"created\": 1698344697,\n",
       "  \"id\": \"chatcmpl-8DzKLEmZkLOASkAcbzPa9me2c0nCb\",\n",
       "  \"model\": \"gpt-4-0613\",\n",
       "  \"object\": \"chat.completion\",\n",
       "  \"usage\": {\n",
       "    \"completion_tokens\": 70,\n",
       "    \"prompt_tokens\": 693,\n",
       "    \"total_tokens\": 763\n",
       "  }\n",
       "}"
      ]
     },
     "execution_count": 100,
     "metadata": {},
     "output_type": "execute_result"
    }
   ],
   "source": [
    "# Now we query our LLM with our augmented query & our primer!\n",
    "# Our hybrid query:\n",
    "\n",
    "openai.api_key = openai_api_key\n",
    "\n",
    "\n",
    "hybrid_res = openai.ChatCompletion.create(\n",
    "    model=\"gpt-4\",\n",
    "    messages=[\n",
    "        {\"role\": \"system\", \"content\": primer},\n",
    "        {\"role\": \"user\", \"content\": hybrid_augmented_query}\n",
    "    ]\n",
    ")\n",
    "\n",
    "hybrid_res"
   ]
  },
  {
   "cell_type": "code",
   "execution_count": 103,
   "id": "43a229cf-3b8c-4d75-b863-f6091c108811",
   "metadata": {
    "scrolled": true
   },
   "outputs": [
    {
     "data": {
      "text/plain": [
       "<OpenAIObject chat.completion id=chatcmpl-8DzLUYjwPimrqTJc1k3oWlHdgmglo at 0x2b64a9f70> JSON: {\n",
       "  \"choices\": [\n",
       "    {\n",
       "      \"finish_reason\": \"stop\",\n",
       "      \"index\": 0,\n",
       "      \"message\": {\n",
       "        \"content\": \"Nearest neighbors is a type of algorithm in data mining and machine learning. It's used to find the most similar items to a given item. In other words, it finds the 'neighbors' in a dataset that are 'nearest' to the target item based on some measure of distance (like Euclidean distance). This algorithm is often used in recommendation systems, data clustering, and anomaly detection.\",\n",
       "        \"role\": \"assistant\"\n",
       "      }\n",
       "    }\n",
       "  ],\n",
       "  \"created\": 1698344768,\n",
       "  \"id\": \"chatcmpl-8DzLUYjwPimrqTJc1k3oWlHdgmglo\",\n",
       "  \"model\": \"gpt-4-0613\",\n",
       "  \"object\": \"chat.completion\",\n",
       "  \"usage\": {\n",
       "    \"completion_tokens\": 79,\n",
       "    \"prompt_tokens\": 743,\n",
       "    \"total_tokens\": 822\n",
       "  }\n",
       "}"
      ]
     },
     "execution_count": 103,
     "metadata": {},
     "output_type": "execute_result"
    }
   ],
   "source": [
    "# Our pure_keyword query:\n",
    "\n",
    "pure_keyword_res = openai.ChatCompletion.create(\n",
    "    model=\"gpt-4\",\n",
    "    messages=[\n",
    "        {\"role\": \"system\", \"content\": primer},\n",
    "        {\"role\": \"user\", \"content\": pure_keyword_augmented_query}\n",
    "    ]\n",
    ")\n",
    "\n",
    "pure_keyword_res"
   ]
  },
  {
   "cell_type": "code",
   "execution_count": 102,
   "id": "c198628f-ff63-414e-bd90-eb2fdb07df47",
   "metadata": {
    "scrolled": true
   },
   "outputs": [
    {
     "data": {
      "text/plain": [
       "<OpenAIObject chat.completion id=chatcmpl-8DzKnx9HxFaTUkuGYMY2gHzTcv530 at 0x2b7deb5f0> JSON: {\n",
       "  \"choices\": [\n",
       "    {\n",
       "      \"finish_reason\": \"stop\",\n",
       "      \"index\": 0,\n",
       "      \"message\": {\n",
       "        \"content\": \"Nearest neighbors, in the context of the provided text, refers to a method in data mining and machine learning, used for classification and regression. The concept is based on the principle that data points which are similar to each other fall into similar categories. In other words, the 'nearest neighbor' of a data point is one that has the most similar characteristics to it. This method is often used in pattern recognition, recommendation systems, and optimizing search results by considering the proximity of data points in a high-dimensional space.\",\n",
       "        \"role\": \"assistant\"\n",
       "      }\n",
       "    }\n",
       "  ],\n",
       "  \"created\": 1698344725,\n",
       "  \"id\": \"chatcmpl-8DzKnx9HxFaTUkuGYMY2gHzTcv530\",\n",
       "  \"model\": \"gpt-4-0613\",\n",
       "  \"object\": \"chat.completion\",\n",
       "  \"usage\": {\n",
       "    \"completion_tokens\": 103,\n",
       "    \"prompt_tokens\": 743,\n",
       "    \"total_tokens\": 846\n",
       "  }\n",
       "}"
      ]
     },
     "execution_count": 102,
     "metadata": {},
     "output_type": "execute_result"
    }
   ],
   "source": [
    "# Our pure_semantic query:\n",
    "\n",
    "pure_semantic_res = openai.ChatCompletion.create(\n",
    "    model=\"gpt-4\",\n",
    "    messages=[\n",
    "        {\"role\": \"system\", \"content\": primer},\n",
    "        {\"role\": \"user\", \"content\": pure_semantic_augmented_query}\n",
    "    ]\n",
    ")\n",
    "\n",
    "pure_semantic_res"
   ]
  },
  {
   "cell_type": "markdown",
   "id": "466f61d4-1896-4716-a8e4-b25a4eda97fe",
   "metadata": {},
   "source": [
    "You can see across the different results above that our hybrid result is likely the most helpful.\n",
    "\n",
    "Our `pure_keyword_res` seems to contain more domain-specific words than our `pure_semantic_res` (e.g. `Euclidean distance`). \n",
    "\n",
    "Our `pure_semantic_res`, on the other hand, seems to contain fewer implementation details and more conceptual details (e.g. `The concept is based on the principle that data points . . . `)."
   ]
  },
  {
   "cell_type": "markdown",
   "id": "d28051b6-219a-44bf-aee7-5894d6af600b",
   "metadata": {},
   "source": [
    "# What if we take our our Pinecone vectors altogether??"
   ]
  },
  {
   "cell_type": "code",
   "execution_count": 105,
   "id": "6837f020-3147-4014-b31b-f0b070ae9a69",
   "metadata": {
    "scrolled": true
   },
   "outputs": [
    {
     "data": {
      "text/plain": [
       "<OpenAIObject chat.completion id=chatcmpl-8DzMREfDHewszdDS0QmHMhKJRaMTh at 0x2b64abc50> JSON: {\n",
       "  \"choices\": [\n",
       "    {\n",
       "      \"finish_reason\": \"stop\",\n",
       "      \"index\": 0,\n",
       "      \"message\": {\n",
       "        \"content\": \"Based on the information provided by the user, I don't know what nearest neighbors refers to.\",\n",
       "        \"role\": \"assistant\"\n",
       "      }\n",
       "    }\n",
       "  ],\n",
       "  \"created\": 1698344827,\n",
       "  \"id\": \"chatcmpl-8DzMREfDHewszdDS0QmHMhKJRaMTh\",\n",
       "  \"model\": \"gpt-4-0613\",\n",
       "  \"object\": \"chat.completion\",\n",
       "  \"usage\": {\n",
       "    \"completion_tokens\": 19,\n",
       "    \"prompt_tokens\": 69,\n",
       "    \"total_tokens\": 88\n",
       "  }\n",
       "}"
      ]
     },
     "execution_count": 105,
     "metadata": {},
     "output_type": "execute_result"
    }
   ],
   "source": [
    "# What if we issue our original query without our Pinecone vectors as context?\n",
    "\n",
    "res = openai.ChatCompletion.create(\n",
    "    model=\"gpt-4\",\n",
    "    messages=[\n",
    "        {\"role\": \"system\", \"content\": primer},\n",
    "        {\"role\": \"user\", \"content\": query}\n",
    "    ]\n",
    ")\n",
    "\n",
    "res"
   ]
  },
  {
   "cell_type": "markdown",
   "id": "2b6943af-c430-4a5c-acd7-2a55f53a8f87",
   "metadata": {},
   "source": [
    "We can see that RAG really does have a huge impact! Without our PDFs, ChatGPT doesn't know much helpful detail at all! Nor can it give us bibliographic data for articles we might want to look up later!"
   ]
  },
  {
   "cell_type": "markdown",
   "id": "fc32f342-33ad-47cf-a11b-4b7981405b76",
   "metadata": {
    "scrolled": true
   },
   "source": [
    "# All finished!\n",
    "\n",
    "Check out [our documentation on hybrid search](https://docs.pinecone.io/docs/hybrid-search-and-sparse-vectors) and keep building awesome things!"
   ]
  }
 ],
 "metadata": {
  "kernelspec": {
   "display_name": "Python 3 (ipykernel)",
   "language": "python",
   "name": "python3"
  },
  "language_info": {
   "codemirror_mode": {
    "name": "ipython",
    "version": 3
   },
   "file_extension": ".py",
   "mimetype": "text/x-python",
   "name": "python",
   "nbconvert_exporter": "python",
   "pygments_lexer": "ipython3",
   "version": "3.11.5"
  }
 },
 "nbformat": 4,
 "nbformat_minor": 5
}
