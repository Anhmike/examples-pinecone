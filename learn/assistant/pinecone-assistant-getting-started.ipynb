{
  "nbformat": 4,
  "nbformat_minor": 0,
  "metadata": {
    "colab": {
      "private_outputs": true,
      "provenance": []
    },
    "kernelspec": {
      "name": "python3",
      "display_name": "Python 3"
    },
    "language_info": {
      "name": "python"
    }
  },
  "cells": [
    {
      "cell_type": "markdown",
      "source": [
        "# Pinecone Assitant Getting Started\n",
        "\n",
        "Welcome to the getting started Notebook for [Pinecone assistant](https://www.pinecone.io/blog/pinecone-assistant/)!\n",
        "\n",
        "**!IMPORTANT!** - This code will not work unless your account has been invited to the private beta"
      ],
      "metadata": {
        "id": "IpHsLVa0mAJe"
      }
    },
    {
      "cell_type": "code",
      "source": [
        "# Install pinecone client and assistants plugin\n",
        "!pip install --upgrade pinecone-client pinecone-plugin-assistant"
      ],
      "metadata": {
        "id": "bAEbPIcn46t2"
      },
      "execution_count": null,
      "outputs": []
    },
    {
      "cell_type": "code",
      "source": [
        "# Install Pinecone notebook utilities including the Pinecone Connect widget\n",
        "!pip install pinecone-notebooks==0.1.1"
      ],
      "metadata": {
        "id": "v6cdZP0ylfC5"
      },
      "execution_count": null,
      "outputs": []
    },
    {
      "cell_type": "code",
      "source": [
        "import os\n",
        "\n",
        "if not os.environ.get(\"PINECONE_API_KEY\"):\n",
        "    from pinecone_notebooks.colab import Authenticate\n",
        "    Authenticate()"
      ],
      "metadata": {
        "id": "HO8ass1Qmdgq"
      },
      "execution_count": null,
      "outputs": []
    },
    {
      "cell_type": "markdown",
      "source": [],
      "metadata": {
        "id": "lixB5GGnmAHv"
      }
    },
    {
      "cell_type": "code",
      "source": [
        "from google.colab import userdata\n",
        "from pinecone import Pinecone\n",
        "\n",
        "pc = Pinecone(api_key=os.environ.get('PINECONE_API_KEY') or userdata.get('PINECONE_API_KEY'))\n",
        "\n",
        "assistant_name = 'HelloPineconeAssistant'\n",
        "\n",
        "metadata = {\"author\": \"Jane Doe\", \"version\": \"1.0\"}\n",
        "\n",
        "assistant = pc.assistant.create_assistant(\n",
        "    assistant_name=assistant_name,\n",
        "    metadata=metadata,\n",
        "    timeout=30 # Wait 30 seconds for model creation to complete.\n",
        ")"
      ],
      "metadata": {
        "id": "unDcuyR2EaJr"
      },
      "execution_count": null,
      "outputs": []
    },
    {
      "cell_type": "code",
      "source": [
        "# Get assistant status\n",
        "assistant_status = pc.assistant.describe_assistant(assistant_name=assistant_name)\n",
        "assistant_status"
      ],
      "metadata": {
        "id": "HJ5fxLvY97yF"
      },
      "execution_count": null,
      "outputs": []
    },
    {
      "cell_type": "code",
      "source": [
        "import random\n",
        "\n",
        "# Function to generate a random toy title\n",
        "def generate_toy_title():\n",
        "    adjectives = [\"Amazing\", \"Super\", \"Fantastic\", \"Incredible\", \"Awesome\", \"Magical\", \"Ultimate\", \"Deluxe\"]\n",
        "    nouns = [\"Robot\", \"Doll\", \"Blocks\", \"Puzzle\", \"Car\", \"Train\", \"Spaceship\", \"Dinosaur\", \"Unicorn\", \"Dragon\"]\n",
        "    return f\"{random.choice(adjectives)} {random.choice(nouns)}\"\n",
        "\n",
        "# Function to generate a random toy description\n",
        "def generate_toy_description():\n",
        "    features = [\n",
        "        \"Made from high-quality materials\",\n",
        "        \"Encourages imaginative play\",\n",
        "        \"Develops problem-solving skills\",\n",
        "        \"Suitable for ages 3 and up\",\n",
        "        \"Battery-operated with flashing lights\",\n",
        "        \"Includes multiple accessories\",\n",
        "        \"Educational and fun\",\n",
        "        \"Easy to clean and store\",\n",
        "        \"Durable and long-lasting\",\n",
        "        \"Promotes hand-eye coordination\"\n",
        "    ]\n",
        "    return \"\\n\".join(random.sample(features, 4))\n",
        "\n",
        "# Generate 75 toy entries\n",
        "toy_entries = []\n",
        "for i in range(75):\n",
        "    title = generate_toy_title()\n",
        "    description = generate_toy_description()\n",
        "    entry = f\"{title}\\n\\n{description}\\n\\n{'='*30}\\n\\n\"\n",
        "    toy_entries.append(entry)\n",
        "\n",
        "# Write to a local file in Colab\n",
        "file_path = \"/content/toy_descriptions.txt\"\n",
        "\n",
        "with open(file_path, 'w') as f:\n",
        "    f.writelines(toy_entries)\n",
        "\n",
        "print(f\"Created toy descriptions file at {file_path}\")\n",
        "\n",
        "# Display the first few entries as a sample\n",
        "with open(file_path, 'r') as f:\n",
        "    print(f.read().split('='*30)[:3])"
      ],
      "metadata": {
        "id": "uqOICQmhNZiY"
      },
      "execution_count": null,
      "outputs": []
    },
    {
      "cell_type": "code",
      "source": [
        "import os\n",
        "\n",
        "# Target our existing Pinecone Assistant\n",
        "assistant = pc.assistant.Assistant(\n",
        "    assistant_name=assistant_name,\n",
        ")\n",
        "\n",
        "# Upload the file\n",
        "if os.path.exists(file_path):\n",
        "    response = assistant.upload_file(\n",
        "        file_path=file_path,\n",
        "        timeout=None\n",
        "    )\n",
        "    print(f\"Uploaded {file_path}\")\n",
        "    print(\"Response:\", response)\n",
        "else:\n",
        "    print(f\"File not found: {file_path}\")"
      ],
      "metadata": {
        "id": "CVixRBQfEKpo"
      },
      "execution_count": null,
      "outputs": []
    },
    {
      "cell_type": "code",
      "source": [
        "# List uploaded files our assistant is aware of\n",
        "files = assistant.list_files()\n",
        "files"
      ],
      "metadata": {
        "id": "fqYUFoZ8N487"
      },
      "execution_count": null,
      "outputs": []
    },
    {
      "cell_type": "code",
      "source": [
        "# Chat with your Pinecone assistant, which automatically references\n",
        "# your uploaded documents in its responses\n",
        "from pinecone_plugins.assistant.models.chat import Message\n",
        "chat_context = [Message(content='Which toys include Unicorn in their name?')]\n",
        "response = assistant.chat_completions(messages=chat_context)\n",
        "print(response)"
      ],
      "metadata": {
        "id": "iKLZtk7BOomq"
      },
      "execution_count": null,
      "outputs": []
    },
    {
      "cell_type": "code",
      "source": [],
      "metadata": {
        "id": "GQKf1l3rOFhy"
      },
      "execution_count": null,
      "outputs": []
    }
  ]
}